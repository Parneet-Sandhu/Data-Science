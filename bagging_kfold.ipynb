{
  "metadata": {
    "colab": {
      "provenance": []
    },
    "kernelspec": {
      "name": "python3",
      "display_name": "Python 3",
      "language": "python"
    },
    "language_info": {
      "name": "python",
      "version": "3.10.13",
      "mimetype": "text/x-python",
      "codemirror_mode": {
        "name": "ipython",
        "version": 3
      },
      "pygments_lexer": "ipython3",
      "nbconvert_exporter": "python",
      "file_extension": ".py"
    },
    "kaggle": {
      "accelerator": "none",
      "dataSources": [
        {
          "sourceId": 17777,
          "databundleVersionId": 869809,
          "sourceType": "competition"
        }
      ],
      "dockerImageVersionId": 30698,
      "isInternetEnabled": true,
      "language": "python",
      "sourceType": "notebook",
      "isGpuEnabled": false
    }
  },
  "nbformat_minor": 0,
  "nbformat": 4,
  "cells": [
    {
      "cell_type": "code",
      "source": [
        "from sklearn.model_selection import KFold\n",
        "from sklearn.ensemble import RandomForestClassifier , BaggingClassifier\n",
        "from lightgbm import LGBMClassifier\n",
        "from sklearn.metrics import accuracy_score\n",
        "from sklearn.feature_extraction.text import TfidfVectorizer\n",
        "from sklearn.model_selection import train_test_split\n",
        "import pandas as pd"
      ],
      "metadata": {
        "execution": {
          "iopub.status.busy": "2024-05-07T09:17:07.644611Z",
          "iopub.execute_input": "2024-05-07T09:17:07.645010Z",
          "iopub.status.idle": "2024-05-07T09:17:07.650312Z",
          "shell.execute_reply.started": "2024-05-07T09:17:07.644980Z",
          "shell.execute_reply": "2024-05-07T09:17:07.649204Z"
        },
        "trusted": true,
        "id": "lQrnCUBuTvOR"
      },
      "execution_count": null,
      "outputs": []
    },
    {
      "cell_type": "code",
      "source": [
        "df = pd.read_csv(\"/content/Clean_train.csv\")"
      ],
      "metadata": {
        "execution": {
          "iopub.status.busy": "2024-05-07T09:17:07.657241Z",
          "iopub.execute_input": "2024-05-07T09:17:07.657539Z",
          "iopub.status.idle": "2024-05-07T09:17:07.689281Z",
          "shell.execute_reply.started": "2024-05-07T09:17:07.657513Z",
          "shell.execute_reply": "2024-05-07T09:17:07.688123Z"
        },
        "trusted": true,
        "id": "O0XLH35rTvOT"
      },
      "execution_count": null,
      "outputs": []
    },
    {
      "cell_type": "code",
      "source": [
        "x = df['text']\n",
        "y = df['target']"
      ],
      "metadata": {
        "execution": {
          "iopub.status.busy": "2024-05-07T09:17:07.691210Z",
          "iopub.execute_input": "2024-05-07T09:17:07.691952Z",
          "iopub.status.idle": "2024-05-07T09:17:07.697122Z",
          "shell.execute_reply.started": "2024-05-07T09:17:07.691912Z",
          "shell.execute_reply": "2024-05-07T09:17:07.696154Z"
        },
        "trusted": true,
        "id": "lkGWt62ETvOT"
      },
      "execution_count": null,
      "outputs": []
    },
    {
      "cell_type": "code",
      "source": [
        "tfidf_vectorizer = TfidfVectorizer()"
      ],
      "metadata": {
        "execution": {
          "iopub.status.busy": "2024-05-07T09:17:07.698485Z",
          "iopub.execute_input": "2024-05-07T09:17:07.698852Z",
          "iopub.status.idle": "2024-05-07T09:17:07.710242Z",
          "shell.execute_reply.started": "2024-05-07T09:17:07.698815Z",
          "shell.execute_reply": "2024-05-07T09:17:07.709425Z"
        },
        "trusted": true,
        "id": "jvgo91CLTvOT"
      },
      "execution_count": null,
      "outputs": []
    },
    {
      "cell_type": "code",
      "source": [
        "x_tfidf = tfidf_vectorizer.fit_transform(x)"
      ],
      "metadata": {
        "execution": {
          "iopub.status.busy": "2024-05-07T09:17:07.712478Z",
          "iopub.execute_input": "2024-05-07T09:17:07.712809Z",
          "iopub.status.idle": "2024-05-07T09:17:07.893695Z",
          "shell.execute_reply.started": "2024-05-07T09:17:07.712783Z",
          "shell.execute_reply": "2024-05-07T09:17:07.892830Z"
        },
        "trusted": true,
        "id": "7dkkslGXTvOT"
      },
      "execution_count": null,
      "outputs": []
    },
    {
      "cell_type": "code",
      "source": [
        "x_train, x_test, y_train, y_test = train_test_split(x_tfidf,\n",
        "                                                    y,\n",
        "                                                    test_size=0.2,\n",
        "                                                    random_state=42 ,\n",
        "                                                    shuffle = True)"
      ],
      "metadata": {
        "execution": {
          "iopub.status.busy": "2024-05-07T09:17:07.895041Z",
          "iopub.execute_input": "2024-05-07T09:17:07.895435Z",
          "iopub.status.idle": "2024-05-07T09:17:07.903955Z",
          "shell.execute_reply.started": "2024-05-07T09:17:07.895399Z",
          "shell.execute_reply": "2024-05-07T09:17:07.902933Z"
        },
        "trusted": true,
        "id": "SzKc41etTvOT"
      },
      "execution_count": null,
      "outputs": []
    },
    {
      "cell_type": "code",
      "source": [
        "rf_model = RandomForestClassifier(n_estimators=100,\n",
        "                                  random_state=42)\n",
        "lgbm_model = LGBMClassifier(n_estimators=100,\n",
        "                            random_state=42)"
      ],
      "metadata": {
        "execution": {
          "iopub.status.busy": "2024-05-07T09:17:07.905270Z",
          "iopub.execute_input": "2024-05-07T09:17:07.905631Z",
          "iopub.status.idle": "2024-05-07T09:17:07.915439Z",
          "shell.execute_reply.started": "2024-05-07T09:17:07.905596Z",
          "shell.execute_reply": "2024-05-07T09:17:07.914612Z"
        },
        "trusted": true,
        "id": "kDCAZcjwTvOU"
      },
      "execution_count": null,
      "outputs": []
    },
    {
      "cell_type": "code",
      "source": [
        "bagging_model = BaggingClassifier(\n",
        "    base_estimator=None,  # Use None to let BaggingClassifier automatically use base models\n",
        "    n_estimators=10,  # Number of base estimators (can be adjusted)\n",
        "    random_state=42\n",
        ")"
      ],
      "metadata": {
        "execution": {
          "iopub.status.busy": "2024-05-07T09:17:07.917397Z",
          "iopub.execute_input": "2024-05-07T09:17:07.917678Z",
          "iopub.status.idle": "2024-05-07T09:17:07.926544Z",
          "shell.execute_reply.started": "2024-05-07T09:17:07.917654Z",
          "shell.execute_reply": "2024-05-07T09:17:07.925718Z"
        },
        "trusted": true,
        "id": "i5QKZWXgTvOU"
      },
      "execution_count": null,
      "outputs": []
    },
    {
      "cell_type": "code",
      "source": [
        "kf = KFold(n_splits=5, shuffle=True, random_state=42)"
      ],
      "metadata": {
        "execution": {
          "iopub.status.busy": "2024-05-07T09:17:07.927774Z",
          "iopub.execute_input": "2024-05-07T09:17:07.928448Z",
          "iopub.status.idle": "2024-05-07T09:17:07.937018Z",
          "shell.execute_reply.started": "2024-05-07T09:17:07.928412Z",
          "shell.execute_reply": "2024-05-07T09:17:07.936250Z"
        },
        "trusted": true,
        "id": "BaTOOXEQTvOU"
      },
      "execution_count": null,
      "outputs": []
    },
    {
      "cell_type": "code",
      "source": [
        "# Perform k-fold cross-validation\n",
        "accuracy_scores = []\n",
        "for train_index, test_index in kf.split(x_train):\n",
        "    x_train_fold, x_val_fold = x_train[train_index], x_train[test_index]\n",
        "    y_train_fold, y_val_fold = y_train.iloc[train_index], y_train.iloc[test_index]\n",
        "\n",
        "    bagging_model.fit(x_train_fold, y_train_fold)\n",
        "\n",
        "\n",
        "    y_pred_bagging = bagging_model.predict(x_val_fold)\n",
        "\n",
        "    accuracy_fold = accuracy_score(y_val_fold, y_pred_bagging)\n",
        "    accuracy_scores.append(accuracy_fold)"
      ],
      "metadata": {
        "execution": {
          "iopub.status.busy": "2024-05-07T09:17:07.938098Z",
          "iopub.execute_input": "2024-05-07T09:17:07.938394Z",
          "iopub.status.idle": "2024-05-07T09:17:58.691764Z",
          "shell.execute_reply.started": "2024-05-07T09:17:07.938368Z",
          "shell.execute_reply": "2024-05-07T09:17:58.690421Z"
        },
        "trusted": true,
        "id": "jyVru1EmTvOU"
      },
      "execution_count": null,
      "outputs": []
    },
    {
      "cell_type": "code",
      "source": [
        "mean_accuracy = sum(accuracy_scores) / len(accuracy_scores)\n",
        "print(\"Mean Accuracy of Bagging Classifier with 5-fold cross-validation:\", mean_accuracy)"
      ],
      "metadata": {
        "execution": {
          "iopub.status.busy": "2024-05-07T09:17:58.693434Z",
          "iopub.execute_input": "2024-05-07T09:17:58.693947Z",
          "iopub.status.idle": "2024-05-07T09:17:58.699600Z",
          "shell.execute_reply.started": "2024-05-07T09:17:58.693906Z",
          "shell.execute_reply": "2024-05-07T09:17:58.698656Z"
        },
        "trusted": true,
        "colab": {
          "base_uri": "https://localhost:8080/"
        },
        "id": "WqvXoPPWTvOU",
        "outputId": "7fedc1b8-0748-41f2-a126-f422ce18da53"
      },
      "execution_count": null,
      "outputs": [
        {
          "output_type": "stream",
          "name": "stdout",
          "text": [
            "Mean Accuracy of Bagging Classifier with 5-fold cross-validation: 0.7535303776683087\n"
          ]
        }
      ]
    }
  ]
}