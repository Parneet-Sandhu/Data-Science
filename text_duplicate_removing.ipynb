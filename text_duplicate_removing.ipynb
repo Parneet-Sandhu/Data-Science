{
 "cells": [
  {
   "cell_type": "code",
   "execution_count": 1,
   "id": "0e408363-6ed5-4bc0-ad1c-f6c7f3112746",
   "metadata": {},
   "outputs": [
    {
     "name": "stdout",
     "output_type": "stream",
     "text": [
      "Defaulting to user installation because normal site-packages is not writeable\n",
      "Requirement already satisfied: pandas in c:\\users\\parneet kaur\\appdata\\local\\packages\\pythonsoftwarefoundation.python.3.12_qbz5n2kfra8p0\\localcache\\local-packages\\python312\\site-packages (2.2.2)\n",
      "Requirement already satisfied: numpy>=1.26.0 in c:\\users\\parneet kaur\\appdata\\local\\packages\\pythonsoftwarefoundation.python.3.12_qbz5n2kfra8p0\\localcache\\local-packages\\python312\\site-packages (from pandas) (1.26.4)\n",
      "Requirement already satisfied: python-dateutil>=2.8.2 in c:\\users\\parneet kaur\\appdata\\local\\packages\\pythonsoftwarefoundation.python.3.12_qbz5n2kfra8p0\\localcache\\local-packages\\python312\\site-packages (from pandas) (2.9.0.post0)\n",
      "Requirement already satisfied: pytz>=2020.1 in c:\\users\\parneet kaur\\appdata\\local\\packages\\pythonsoftwarefoundation.python.3.12_qbz5n2kfra8p0\\localcache\\local-packages\\python312\\site-packages (from pandas) (2024.1)\n",
      "Requirement already satisfied: tzdata>=2022.7 in c:\\users\\parneet kaur\\appdata\\local\\packages\\pythonsoftwarefoundation.python.3.12_qbz5n2kfra8p0\\localcache\\local-packages\\python312\\site-packages (from pandas) (2024.1)\n",
      "Requirement already satisfied: six>=1.5 in c:\\users\\parneet kaur\\appdata\\local\\packages\\pythonsoftwarefoundation.python.3.12_qbz5n2kfra8p0\\localcache\\local-packages\\python312\\site-packages (from python-dateutil>=2.8.2->pandas) (1.16.0)\n"
     ]
    },
    {
     "name": "stderr",
     "output_type": "stream",
     "text": [
      "\n",
      "[notice] A new release of pip is available: 24.0 -> 24.1.1\n",
      "[notice] To update, run: C:\\Users\\Parneet Kaur\\AppData\\Local\\Microsoft\\WindowsApps\\PythonSoftwareFoundation.Python.3.12_qbz5n2kfra8p0\\python.exe -m pip install --upgrade pip\n"
     ]
    }
   ],
   "source": [
    "!pip install pandas"
   ]
  },
  {
   "cell_type": "code",
   "execution_count": 2,
   "id": "bc1af288-0234-4aeb-810b-fce36385bb9f",
   "metadata": {},
   "outputs": [],
   "source": [
    "import pandas as pd"
   ]
  },
  {
   "cell_type": "code",
   "execution_count": 3,
   "id": "e3761f5a-324a-46f1-85bd-ca4a1f661a79",
   "metadata": {},
   "outputs": [],
   "source": [
    "train = pd.read_csv('C:\\\\Users\\\\Parneet Kaur\\\\Downloads\\\\0text-classification0\\\\TRAIN.csv')\n",
    "test = pd.read_csv('C:\\\\Users\\\\Parneet Kaur\\\\Downloads\\\\0text-classification0\\\\TEST.csv')"
   ]
  },
  {
   "cell_type": "code",
   "execution_count": 4,
   "id": "a3f295f6-a031-48ff-a612-629276416faa",
   "metadata": {},
   "outputs": [
    {
     "data": {
      "text/plain": [
       "Label      0\n",
       "Content    0\n",
       "dtype: int64"
      ]
     },
     "execution_count": 4,
     "metadata": {},
     "output_type": "execute_result"
    }
   ],
   "source": [
    "train.isnull().sum()"
   ]
  },
  {
   "cell_type": "code",
   "execution_count": 5,
   "id": "93c7a28e-8433-461a-9913-952490d11e63",
   "metadata": {},
   "outputs": [
    {
     "data": {
      "text/plain": [
       "Label      0\n",
       "Content    0\n",
       "dtype: int64"
      ]
     },
     "execution_count": 5,
     "metadata": {},
     "output_type": "execute_result"
    }
   ],
   "source": [
    "test.isnull().sum()"
   ]
  },
  {
   "cell_type": "code",
   "execution_count": 6,
   "id": "1bc93db4-dce7-49b3-916f-06665b9ed4ca",
   "metadata": {},
   "outputs": [
    {
     "data": {
      "text/plain": [
       "0        False\n",
       "1        False\n",
       "2        False\n",
       "3        False\n",
       "4        False\n",
       "         ...  \n",
       "56494    False\n",
       "56495    False\n",
       "56496    False\n",
       "56497    False\n",
       "56498    False\n",
       "Length: 56499, dtype: bool"
      ]
     },
     "execution_count": 6,
     "metadata": {},
     "output_type": "execute_result"
    }
   ],
   "source": [
    "train.duplicated()"
   ]
  },
  {
   "cell_type": "code",
   "execution_count": 7,
   "id": "60d7c7bf-0e8a-4c03-8d9e-87412e6a2c62",
   "metadata": {},
   "outputs": [
    {
     "data": {
      "text/plain": [
       "0        False\n",
       "1        False\n",
       "2        False\n",
       "3        False\n",
       "4        False\n",
       "         ...  \n",
       "20995    False\n",
       "20996    False\n",
       "20997    False\n",
       "20998    False\n",
       "20999    False\n",
       "Length: 21000, dtype: bool"
      ]
     },
     "execution_count": 7,
     "metadata": {},
     "output_type": "execute_result"
    }
   ],
   "source": [
    "test.duplicated()"
   ]
  },
  {
   "cell_type": "code",
   "execution_count": 10,
   "id": "3d1630cd-100d-42f0-9634-7fed522a853f",
   "metadata": {},
   "outputs": [
    {
     "name": "stdout",
     "output_type": "stream",
     "text": [
      "      Label                                            Content\n",
      "44937     H  a device may include a physical phenomenon det...\n",
      "49348     A  modified hormones or fragments of hormones are...\n",
      "49733     H  a method of encoding moving pictures using a p...\n",
      "49829     G  a process for validating the fault detection o...\n",
      "49838     H  for use with an inverter including cmos transi...\n",
      "49840     H  an image sensor includes a light - sensing ele...\n",
      "49856     H  in the following paragraphs , the present inve...\n",
      "49858     B  fig1 shows the inboard side of typical seat 10...\n",
      "49861     H  in the following description , numerous detail...\n",
      "49862     A  a device for filtering a parenteral solution i...\n",
      "49874     C  the present invention relates to a process for...\n",
      "49908     D  a system for stacking a laundry treatment mach...\n",
      "49915     A  a physical interaction means comprising a wall...\n",
      "49917     F  as shown in fig1 a mineral mining installation...\n",
      "49919     C  first aspect of the present invention provides...\n",
      "49936     A  a method and device to support blood circulati...\n",
      "49938     G  a tamper evident smart label with an rfid or r...\n",
      "49949     H  system and methods for processing signals in a...\n",
      "49958     A  a dripless cannula system usable with a syring...\n",
      "49960     G  sterilized ( double - distilled ) water in ste...\n",
      "49967     H  the present invention will now be described wi...\n",
      "49981     E  referring to fig1 a perspective view of the br...\n",
      "49988     B  some embodiments of the present disclosure wil...\n",
      "49990     B  this disclosure relates to an object transport...\n"
     ]
    }
   ],
   "source": [
    "dup=train[train.duplicated()]\n",
    "print(dup)"
   ]
  },
  {
   "cell_type": "code",
   "execution_count": 12,
   "id": "b30d863a-5006-4b8f-9f83-cb0fdcc0ed4a",
   "metadata": {},
   "outputs": [
    {
     "name": "stdout",
     "output_type": "stream",
     "text": [
      "       Label                                            Content\n",
      "16914      0  the following discussion is directed to variou...\n",
      "16952      0  referring to fig1 , a radio access network ( r...\n",
      "18944      0  approx . 1 . 5 liters of water for injection p...\n",
      "19038      0  an exemplary direct - type backlight module in...\n",
      "20599      0  referring to fig1 , a liquid crystal display 2...\n"
     ]
    }
   ],
   "source": [
    "dup1=test[test.duplicated()]\n",
    "print(dup1)"
   ]
  },
  {
   "cell_type": "code",
   "execution_count": 14,
   "id": "3d1fa67a-1ec7-49e1-83d2-74472b61eb0d",
   "metadata": {},
   "outputs": [
    {
     "data": {
      "text/html": [
       "<div>\n",
       "<style scoped>\n",
       "    .dataframe tbody tr th:only-of-type {\n",
       "        vertical-align: middle;\n",
       "    }\n",
       "\n",
       "    .dataframe tbody tr th {\n",
       "        vertical-align: top;\n",
       "    }\n",
       "\n",
       "    .dataframe thead th {\n",
       "        text-align: right;\n",
       "    }\n",
       "</style>\n",
       "<table border=\"1\" class=\"dataframe\">\n",
       "  <thead>\n",
       "    <tr style=\"text-align: right;\">\n",
       "      <th></th>\n",
       "      <th>Label</th>\n",
       "      <th>Content</th>\n",
       "    </tr>\n",
       "  </thead>\n",
       "  <tbody>\n",
       "    <tr>\n",
       "      <th>0</th>\n",
       "      <td>A</td>\n",
       "      <td>a tissue of the present 👍 invention can be obt...</td>\n",
       "    </tr>\n",
       "    <tr>\n",
       "      <th>1</th>\n",
       "      <td>G</td>\n",
       "      <td>ACcORDINg tO An AsPEcT Of The INvENTioN , A ce...</td>\n",
       "    </tr>\n",
       "    <tr>\n",
       "      <th>2</th>\n",
       "      <td>C</td>\n",
       "      <td>a staurosporine derivative with anti -- 😀 canc...</td>\n",
       "    </tr>\n",
       "    <tr>\n",
       "      <th>3</th>\n",
       "      <td>B</td>\n",
       "      <td>in various implementations ,, different blades...</td>\n",
       "    </tr>\n",
       "    <tr>\n",
       "      <th>4</th>\n",
       "      <td>A</td>\n",
       "      <td>for the purposes of promoting an understanding...</td>\n",
       "    </tr>\n",
       "    <tr>\n",
       "      <th>...</th>\n",
       "      <td>...</td>\n",
       "      <td>...</td>\n",
       "    </tr>\n",
       "    <tr>\n",
       "      <th>56494</th>\n",
       "      <td>E</td>\n",
       "      <td>a the hinge spring ABA attached T0 the housing...</td>\n",
       "    </tr>\n",
       "    <tr>\n",
       "      <th>56495</th>\n",
       "      <td>D</td>\n",
       "      <td>of the sample as well as spatial inhomogeneiti...</td>\n",
       "    </tr>\n",
       "    <tr>\n",
       "      <th>56496</th>\n",
       "      <td>I</td>\n",
       "      <td>of driver AD0 T0 the gate of transisT0r q B AB...</td>\n",
       "    </tr>\n",
       "    <tr>\n",
       "      <th>56497</th>\n",
       "      <td>H</td>\n",
       "      <td>resistance of about A0 ohms square or lower Aa...</td>\n",
       "    </tr>\n",
       "    <tr>\n",
       "      <th>56498</th>\n",
       "      <td>E</td>\n",
       "      <td>but described more fully below aghhaghhin the ...</td>\n",
       "    </tr>\n",
       "  </tbody>\n",
       "</table>\n",
       "<p>56475 rows × 2 columns</p>\n",
       "</div>"
      ],
      "text/plain": [
       "      Label                                            Content\n",
       "0         A  a tissue of the present 👍 invention can be obt...\n",
       "1         G  ACcORDINg tO An AsPEcT Of The INvENTioN , A ce...\n",
       "2         C  a staurosporine derivative with anti -- 😀 canc...\n",
       "3         B  in various implementations ,, different blades...\n",
       "4         A  for the purposes of promoting an understanding...\n",
       "...     ...                                                ...\n",
       "56494     E  a the hinge spring ABA attached T0 the housing...\n",
       "56495     D  of the sample as well as spatial inhomogeneiti...\n",
       "56496     I  of driver AD0 T0 the gate of transisT0r q B AB...\n",
       "56497     H  resistance of about A0 ohms square or lower Aa...\n",
       "56498     E  but described more fully below aghhaghhin the ...\n",
       "\n",
       "[56475 rows x 2 columns]"
      ]
     },
     "execution_count": 14,
     "metadata": {},
     "output_type": "execute_result"
    }
   ],
   "source": [
    "train.drop_duplicates()"
   ]
  },
  {
   "cell_type": "code",
   "execution_count": 15,
   "id": "2b6232cd-951d-45bf-98e1-15b19d6c1166",
   "metadata": {},
   "outputs": [
    {
     "data": {
      "text/html": [
       "<div>\n",
       "<style scoped>\n",
       "    .dataframe tbody tr th:only-of-type {\n",
       "        vertical-align: middle;\n",
       "    }\n",
       "\n",
       "    .dataframe tbody tr th {\n",
       "        vertical-align: top;\n",
       "    }\n",
       "\n",
       "    .dataframe thead th {\n",
       "        text-align: right;\n",
       "    }\n",
       "</style>\n",
       "<table border=\"1\" class=\"dataframe\">\n",
       "  <thead>\n",
       "    <tr style=\"text-align: right;\">\n",
       "      <th></th>\n",
       "      <th>Label</th>\n",
       "      <th>Content</th>\n",
       "    </tr>\n",
       "  </thead>\n",
       "  <tbody>\n",
       "    <tr>\n",
       "      <th>0</th>\n",
       "      <td>0</td>\n",
       "      <td>shown in fig1 is 💯 a 💯 schematic view of a coa...</td>\n",
       "    </tr>\n",
       "    <tr>\n",
       "      <th>1</th>\n",
       "      <td>0</td>\n",
       "      <td>disclosed is a ❤️ privacy ____________________...</td>\n",
       "    </tr>\n",
       "    <tr>\n",
       "      <th>2</th>\n",
       "      <td>0</td>\n",
       "      <td>turning now to the drawings , wherein like ref...</td>\n",
       "    </tr>\n",
       "    <tr>\n",
       "      <th>3</th>\n",
       "      <td>0</td>\n",
       "      <td>referring to fig1 -- 4 , a preferred embodimen...</td>\n",
       "    </tr>\n",
       "    <tr>\n",
       "      <th>4</th>\n",
       "      <td>0</td>\n",
       "      <td>in fig1 there is shown clock recovery apparatu...</td>\n",
       "    </tr>\n",
       "    <tr>\n",
       "      <th>...</th>\n",
       "      <td>...</td>\n",
       "      <td>...</td>\n",
       "    </tr>\n",
       "    <tr>\n",
       "      <th>20995</th>\n",
       "      <td>0</td>\n",
       "      <td>a toroidal variable speed traction drive is pr...</td>\n",
       "    </tr>\n",
       "    <tr>\n",
       "      <th>20996</th>\n",
       "      <td>0</td>\n",
       "      <td>reference is made to fig1 which shows in block...</td>\n",
       "    </tr>\n",
       "    <tr>\n",
       "      <th>20997</th>\n",
       "      <td>0</td>\n",
       "      <td>a high density connector for electrically inte...</td>\n",
       "    </tr>\n",
       "    <tr>\n",
       "      <th>20998</th>\n",
       "      <td>0</td>\n",
       "      <td>next , embodiments are described below with re...</td>\n",
       "    </tr>\n",
       "    <tr>\n",
       "      <th>20999</th>\n",
       "      <td>0</td>\n",
       "      <td>fig1 shows a watermark embedding process for e...</td>\n",
       "    </tr>\n",
       "  </tbody>\n",
       "</table>\n",
       "<p>20995 rows × 2 columns</p>\n",
       "</div>"
      ],
      "text/plain": [
       "       Label                                            Content\n",
       "0          0  shown in fig1 is 💯 a 💯 schematic view of a coa...\n",
       "1          0  disclosed is a ❤️ privacy ____________________...\n",
       "2          0  turning now to the drawings , wherein like ref...\n",
       "3          0  referring to fig1 -- 4 , a preferred embodimen...\n",
       "4          0  in fig1 there is shown clock recovery apparatu...\n",
       "...      ...                                                ...\n",
       "20995      0  a toroidal variable speed traction drive is pr...\n",
       "20996      0  reference is made to fig1 which shows in block...\n",
       "20997      0  a high density connector for electrically inte...\n",
       "20998      0  next , embodiments are described below with re...\n",
       "20999      0  fig1 shows a watermark embedding process for e...\n",
       "\n",
       "[20995 rows x 2 columns]"
      ]
     },
     "execution_count": 15,
     "metadata": {},
     "output_type": "execute_result"
    }
   ],
   "source": [
    "test.drop_duplicates()"
   ]
  },
  {
   "cell_type": "code",
   "execution_count": 18,
   "id": "de09c24c-b5eb-4ccf-83b7-36c004cc0d34",
   "metadata": {},
   "outputs": [
    {
     "data": {
      "text/html": [
       "<div>\n",
       "<style scoped>\n",
       "    .dataframe tbody tr th:only-of-type {\n",
       "        vertical-align: middle;\n",
       "    }\n",
       "\n",
       "    .dataframe tbody tr th {\n",
       "        vertical-align: top;\n",
       "    }\n",
       "\n",
       "    .dataframe thead th {\n",
       "        text-align: right;\n",
       "    }\n",
       "</style>\n",
       "<table border=\"1\" class=\"dataframe\">\n",
       "  <thead>\n",
       "    <tr style=\"text-align: right;\">\n",
       "      <th></th>\n",
       "      <th>Label</th>\n",
       "      <th>Content</th>\n",
       "    </tr>\n",
       "  </thead>\n",
       "  <tbody>\n",
       "    <tr>\n",
       "      <th>44937</th>\n",
       "      <td>H</td>\n",
       "      <td>a device may include a physical phenomenon det...</td>\n",
       "    </tr>\n",
       "    <tr>\n",
       "      <th>49348</th>\n",
       "      <td>A</td>\n",
       "      <td>modified hormones or fragments of hormones are...</td>\n",
       "    </tr>\n",
       "    <tr>\n",
       "      <th>49733</th>\n",
       "      <td>H</td>\n",
       "      <td>a method of encoding moving pictures using a p...</td>\n",
       "    </tr>\n",
       "    <tr>\n",
       "      <th>49829</th>\n",
       "      <td>G</td>\n",
       "      <td>a process for validating the fault detection o...</td>\n",
       "    </tr>\n",
       "    <tr>\n",
       "      <th>49838</th>\n",
       "      <td>H</td>\n",
       "      <td>for use with an inverter including cmos transi...</td>\n",
       "    </tr>\n",
       "    <tr>\n",
       "      <th>49840</th>\n",
       "      <td>H</td>\n",
       "      <td>an image sensor includes a light - sensing ele...</td>\n",
       "    </tr>\n",
       "    <tr>\n",
       "      <th>49856</th>\n",
       "      <td>H</td>\n",
       "      <td>in the following paragraphs , the present inve...</td>\n",
       "    </tr>\n",
       "    <tr>\n",
       "      <th>49858</th>\n",
       "      <td>B</td>\n",
       "      <td>fig1 shows the inboard side of typical seat 10...</td>\n",
       "    </tr>\n",
       "    <tr>\n",
       "      <th>49861</th>\n",
       "      <td>H</td>\n",
       "      <td>in the following description , numerous detail...</td>\n",
       "    </tr>\n",
       "    <tr>\n",
       "      <th>49862</th>\n",
       "      <td>A</td>\n",
       "      <td>a device for filtering a parenteral solution i...</td>\n",
       "    </tr>\n",
       "    <tr>\n",
       "      <th>49874</th>\n",
       "      <td>C</td>\n",
       "      <td>the present invention relates to a process for...</td>\n",
       "    </tr>\n",
       "    <tr>\n",
       "      <th>49908</th>\n",
       "      <td>D</td>\n",
       "      <td>a system for stacking a laundry treatment mach...</td>\n",
       "    </tr>\n",
       "    <tr>\n",
       "      <th>49915</th>\n",
       "      <td>A</td>\n",
       "      <td>a physical interaction means comprising a wall...</td>\n",
       "    </tr>\n",
       "    <tr>\n",
       "      <th>49917</th>\n",
       "      <td>F</td>\n",
       "      <td>as shown in fig1 a mineral mining installation...</td>\n",
       "    </tr>\n",
       "    <tr>\n",
       "      <th>49919</th>\n",
       "      <td>C</td>\n",
       "      <td>first aspect of the present invention provides...</td>\n",
       "    </tr>\n",
       "    <tr>\n",
       "      <th>49936</th>\n",
       "      <td>A</td>\n",
       "      <td>a method and device to support blood circulati...</td>\n",
       "    </tr>\n",
       "    <tr>\n",
       "      <th>49938</th>\n",
       "      <td>G</td>\n",
       "      <td>a tamper evident smart label with an rfid or r...</td>\n",
       "    </tr>\n",
       "    <tr>\n",
       "      <th>49949</th>\n",
       "      <td>H</td>\n",
       "      <td>system and methods for processing signals in a...</td>\n",
       "    </tr>\n",
       "    <tr>\n",
       "      <th>49958</th>\n",
       "      <td>A</td>\n",
       "      <td>a dripless cannula system usable with a syring...</td>\n",
       "    </tr>\n",
       "    <tr>\n",
       "      <th>49960</th>\n",
       "      <td>G</td>\n",
       "      <td>sterilized ( double - distilled ) water in ste...</td>\n",
       "    </tr>\n",
       "    <tr>\n",
       "      <th>49967</th>\n",
       "      <td>H</td>\n",
       "      <td>the present invention will now be described wi...</td>\n",
       "    </tr>\n",
       "    <tr>\n",
       "      <th>49981</th>\n",
       "      <td>E</td>\n",
       "      <td>referring to fig1 a perspective view of the br...</td>\n",
       "    </tr>\n",
       "    <tr>\n",
       "      <th>49988</th>\n",
       "      <td>B</td>\n",
       "      <td>some embodiments of the present disclosure wil...</td>\n",
       "    </tr>\n",
       "    <tr>\n",
       "      <th>49990</th>\n",
       "      <td>B</td>\n",
       "      <td>this disclosure relates to an object transport...</td>\n",
       "    </tr>\n",
       "  </tbody>\n",
       "</table>\n",
       "</div>"
      ],
      "text/plain": [
       "      Label                                            Content\n",
       "44937     H  a device may include a physical phenomenon det...\n",
       "49348     A  modified hormones or fragments of hormones are...\n",
       "49733     H  a method of encoding moving pictures using a p...\n",
       "49829     G  a process for validating the fault detection o...\n",
       "49838     H  for use with an inverter including cmos transi...\n",
       "49840     H  an image sensor includes a light - sensing ele...\n",
       "49856     H  in the following paragraphs , the present inve...\n",
       "49858     B  fig1 shows the inboard side of typical seat 10...\n",
       "49861     H  in the following description , numerous detail...\n",
       "49862     A  a device for filtering a parenteral solution i...\n",
       "49874     C  the present invention relates to a process for...\n",
       "49908     D  a system for stacking a laundry treatment mach...\n",
       "49915     A  a physical interaction means comprising a wall...\n",
       "49917     F  as shown in fig1 a mineral mining installation...\n",
       "49919     C  first aspect of the present invention provides...\n",
       "49936     A  a method and device to support blood circulati...\n",
       "49938     G  a tamper evident smart label with an rfid or r...\n",
       "49949     H  system and methods for processing signals in a...\n",
       "49958     A  a dripless cannula system usable with a syring...\n",
       "49960     G  sterilized ( double - distilled ) water in ste...\n",
       "49967     H  the present invention will now be described wi...\n",
       "49981     E  referring to fig1 a perspective view of the br...\n",
       "49988     B  some embodiments of the present disclosure wil...\n",
       "49990     B  this disclosure relates to an object transport..."
      ]
     },
     "execution_count": 18,
     "metadata": {},
     "output_type": "execute_result"
    }
   ],
   "source": [
    "train[train.duplicated()]"
   ]
  },
  {
   "cell_type": "code",
   "execution_count": 19,
   "id": "49f84a6d-56e5-4ac9-905d-50f52e2ce00a",
   "metadata": {},
   "outputs": [],
   "source": [
    "train = train.drop_duplicates()"
   ]
  },
  {
   "cell_type": "code",
   "execution_count": 20,
   "id": "e9db3ee0-bf0c-42a8-97f1-a5c7a3b0bb76",
   "metadata": {},
   "outputs": [],
   "source": [
    "test = test.drop_duplicates()"
   ]
  },
  {
   "cell_type": "code",
   "execution_count": 21,
   "id": "e63ad946-5fe3-4ff1-af3b-83cdb1283354",
   "metadata": {},
   "outputs": [],
   "source": [
    "train = train.dropna()"
   ]
  },
  {
   "cell_type": "code",
   "execution_count": 22,
   "id": "4ec113d1-6367-48ea-b102-28210c79028f",
   "metadata": {},
   "outputs": [],
   "source": [
    "test = test.dropna()"
   ]
  },
  {
   "cell_type": "code",
   "execution_count": 41,
   "id": "76efb78c-f0c0-43c8-94d2-a105cccd9857",
   "metadata": {},
   "outputs": [],
   "source": [
    "#train.to_csv(\"cleaned_TRAIN.csv\", index=False)"
   ]
  },
  {
   "cell_type": "code",
   "execution_count": 42,
   "id": "cd2b96e2-f74e-47bf-9c4a-3e8bb1054b69",
   "metadata": {},
   "outputs": [],
   "source": [
    "#test.to_csv(\"cleaned_TEST.csv\", index=False)"
   ]
  },
  {
   "cell_type": "code",
   "execution_count": 43,
   "id": "bf63ee9d-5dbc-4851-832c-2cf818483c00",
   "metadata": {},
   "outputs": [],
   "source": [
    "import numpy as np"
   ]
  },
  {
   "cell_type": "code",
   "execution_count": 44,
   "id": "1db445c7-784e-48ea-8c47-8ce1f66fbe14",
   "metadata": {},
   "outputs": [],
   "source": [
    "chunk_size = 1000\n",
    "for i, chunk in enumerate(pd.read_csv('E:\\\\JN\\\\WEEK4\\\\cleaned_TRAIN.csv', chunksize=chunk_size)):\n",
    "    chunk.to_csv(f'train{i}.csv', index=False)"
   ]
  },
  {
   "cell_type": "code",
   "execution_count": 45,
   "id": "921ff7a6-f9f7-4cdc-9d68-dfcfdec057e8",
   "metadata": {},
   "outputs": [],
   "source": [
    "chunk_size = 1000\n",
    "for i, chunk in enumerate(pd.read_csv('E:\\\\JN\\\\WEEK4\\\\cleaned_TEST.csv', chunksize=chunk_size)):\n",
    "    chunk.to_csv(f'test{i}.csv', index=False)"
   ]
  },
  {
   "cell_type": "code",
   "execution_count": null,
   "id": "80eb1fd4-594e-4d79-884d-8317f634df74",
   "metadata": {},
   "outputs": [],
   "source": []
  },
  {
   "cell_type": "code",
   "execution_count": null,
   "id": "f896617e-e971-4c37-af31-e28348368f4a",
   "metadata": {},
   "outputs": [],
   "source": []
  }
 ],
 "metadata": {
  "kernelspec": {
   "display_name": "Python 3 (ipykernel)",
   "language": "python",
   "name": "python3"
  },
  "language_info": {
   "codemirror_mode": {
    "name": "ipython",
    "version": 3
   },
   "file_extension": ".py",
   "mimetype": "text/x-python",
   "name": "python",
   "nbconvert_exporter": "python",
   "pygments_lexer": "ipython3",
   "version": "3.12.3"
  }
 },
 "nbformat": 4,
 "nbformat_minor": 5
}
