{
  "metadata": {
    "colab": {
      "provenance": []
    },
    "kernelspec": {
      "name": "python3",
      "display_name": "Python 3",
      "language": "python"
    },
    "language_info": {
      "name": "python",
      "version": "3.10.13",
      "mimetype": "text/x-python",
      "codemirror_mode": {
        "name": "ipython",
        "version": 3
      },
      "pygments_lexer": "ipython3",
      "nbconvert_exporter": "python",
      "file_extension": ".py"
    },
    "kaggle": {
      "accelerator": "none",
      "dataSources": [
        {
          "sourceId": 17777,
          "databundleVersionId": 869809,
          "sourceType": "competition"
        }
      ],
      "dockerImageVersionId": 30698,
      "isInternetEnabled": true,
      "language": "python",
      "sourceType": "notebook",
      "isGpuEnabled": false
    }
  },
  "nbformat_minor": 0,
  "nbformat": 4,
  "cells": [
    {
      "cell_type": "code",
      "source": [
        "from sklearn.linear_model import LogisticRegression\n",
        "from sklearn.naive_bayes import MultinomialNB\n",
        "from sklearn.neighbors import KNeighborsClassifier\n",
        "from sklearn.metrics import accuracy_score\n",
        "from sklearn.feature_extraction.text import TfidfVectorizer\n",
        "from sklearn.model_selection import train_test_split , GridSearchCV\n",
        "import pandas as pd"
      ],
      "metadata": {
        "execution": {
          "iopub.status.busy": "2024-05-07T09:22:06.098803Z",
          "iopub.execute_input": "2024-05-07T09:22:06.099244Z",
          "iopub.status.idle": "2024-05-07T09:22:06.108845Z",
          "shell.execute_reply.started": "2024-05-07T09:22:06.099212Z",
          "shell.execute_reply": "2024-05-07T09:22:06.107621Z"
        },
        "trusted": true,
        "id": "LE-JMsZRjmQf"
      },
      "execution_count": 22,
      "outputs": []
    },
    {
      "cell_type": "code",
      "source": [
        "train = pd.read_csv(\"/content/Clean_train.csv\")\n",
        "test = pd.read_csv(\"/content/Clean_test.csv\")"
      ],
      "metadata": {
        "execution": {
          "iopub.status.busy": "2024-05-07T09:22:06.110938Z",
          "iopub.execute_input": "2024-05-07T09:22:06.111640Z",
          "iopub.status.idle": "2024-05-07T09:22:06.150314Z",
          "shell.execute_reply.started": "2024-05-07T09:22:06.111600Z",
          "shell.execute_reply": "2024-05-07T09:22:06.149301Z"
        },
        "trusted": true,
        "id": "QDOOfktcjmQh"
      },
      "execution_count": 23,
      "outputs": []
    },
    {
      "cell_type": "code",
      "source": [
        "x = train['text']\n",
        "y = train['target']\n",
        "xx_test = test[\"text\"]"
      ],
      "metadata": {
        "execution": {
          "iopub.status.busy": "2024-05-07T09:22:06.152095Z",
          "iopub.execute_input": "2024-05-07T09:22:06.152420Z",
          "iopub.status.idle": "2024-05-07T09:22:06.157606Z",
          "shell.execute_reply.started": "2024-05-07T09:22:06.152393Z",
          "shell.execute_reply": "2024-05-07T09:22:06.156616Z"
        },
        "trusted": true,
        "id": "kTOQHew2jmQh"
      },
      "execution_count": 24,
      "outputs": []
    },
    {
      "cell_type": "code",
      "source": [
        "xx_test.isnull().sum()"
      ],
      "metadata": {
        "colab": {
          "base_uri": "https://localhost:8080/"
        },
        "id": "G1gZve3ypHja",
        "outputId": "cf05cdac-8cc4-4617-eeb7-e7e515a80d1a"
      },
      "execution_count": 25,
      "outputs": [
        {
          "output_type": "execute_result",
          "data": {
            "text/plain": [
              "1"
            ]
          },
          "metadata": {},
          "execution_count": 25
        }
      ]
    },
    {
      "cell_type": "code",
      "source": [
        "xx_test.fillna('', inplace=True)"
      ],
      "metadata": {
        "id": "0VANtK2ppK_Q"
      },
      "execution_count": 26,
      "outputs": []
    },
    {
      "cell_type": "code",
      "source": [
        "xx_test.isnull().sum()"
      ],
      "metadata": {
        "colab": {
          "base_uri": "https://localhost:8080/"
        },
        "id": "DTzkPIXQpO_B",
        "outputId": "2b4fc4b9-aa19-468c-d27e-5546ebe02ed0"
      },
      "execution_count": 27,
      "outputs": [
        {
          "output_type": "execute_result",
          "data": {
            "text/plain": [
              "0"
            ]
          },
          "metadata": {},
          "execution_count": 27
        }
      ]
    },
    {
      "cell_type": "code",
      "source": [
        "tfidf_vectorizer = TfidfVectorizer()"
      ],
      "metadata": {
        "execution": {
          "iopub.status.busy": "2024-05-07T09:22:06.158967Z",
          "iopub.execute_input": "2024-05-07T09:22:06.159615Z",
          "iopub.status.idle": "2024-05-07T09:22:06.171547Z",
          "shell.execute_reply.started": "2024-05-07T09:22:06.159586Z",
          "shell.execute_reply": "2024-05-07T09:22:06.170434Z"
        },
        "trusted": true,
        "id": "C-Burs3ujmQi"
      },
      "execution_count": 28,
      "outputs": []
    },
    {
      "cell_type": "code",
      "source": [
        "x_tfidf = tfidf_vectorizer.fit_transform(x)\n",
        "x_test_tfidf = tfidf_vectorizer.transform(xx_test)"
      ],
      "metadata": {
        "execution": {
          "iopub.status.busy": "2024-05-07T09:22:06.173886Z",
          "iopub.execute_input": "2024-05-07T09:22:06.174257Z",
          "iopub.status.idle": "2024-05-07T09:22:06.367533Z",
          "shell.execute_reply.started": "2024-05-07T09:22:06.174229Z",
          "shell.execute_reply": "2024-05-07T09:22:06.366464Z"
        },
        "trusted": true,
        "id": "NYueoC4QjmQi"
      },
      "execution_count": 29,
      "outputs": []
    },
    {
      "cell_type": "code",
      "source": [
        "x_train, x_test, y_train, y_test = train_test_split(x_tfidf,\n",
        "                                                    y,\n",
        "                                                    test_size=0.2,\n",
        "                                                    random_state=42 ,\n",
        "                                                    shuffle = True)"
      ],
      "metadata": {
        "execution": {
          "iopub.status.busy": "2024-05-07T09:22:06.368738Z",
          "iopub.execute_input": "2024-05-07T09:22:06.369031Z",
          "iopub.status.idle": "2024-05-07T09:22:06.377510Z",
          "shell.execute_reply.started": "2024-05-07T09:22:06.369007Z",
          "shell.execute_reply": "2024-05-07T09:22:06.376411Z"
        },
        "trusted": true,
        "id": "nmuSQBZcjmQi"
      },
      "execution_count": 30,
      "outputs": []
    },
    {
      "cell_type": "code",
      "source": [
        "# Define the models\n",
        "models = {\n",
        "    'Naive Bayes': MultinomialNB(),\n",
        "    'Logistic Regression': LogisticRegression(),\n",
        "    'K-Neighbors Classifier': KNeighborsClassifier()\n",
        "}"
      ],
      "metadata": {
        "execution": {
          "iopub.status.busy": "2024-05-07T09:22:06.378770Z",
          "iopub.execute_input": "2024-05-07T09:22:06.379146Z",
          "iopub.status.idle": "2024-05-07T09:22:06.385883Z",
          "shell.execute_reply.started": "2024-05-07T09:22:06.379099Z",
          "shell.execute_reply": "2024-05-07T09:22:06.385011Z"
        },
        "trusted": true,
        "id": "sFIG-exLjmQi"
      },
      "execution_count": 47,
      "outputs": []
    },
    {
      "cell_type": "code",
      "source": [
        "# Define the hyperparameter tuning space for each model\n",
        "param_grids = {\n",
        "    'Naive Bayes': {'alpha': [0.1, 1, 10]},\n",
        "    'Logistic Regression': {'C': [0.1, 1, 10], 'penalty': ['l1', 'l2'], 'solver': ['liblinear', 'saga']},\n",
        "    'K-Neighbors Classifier': {'n_neighbors': [3, 5, 7], 'weights': ['uniform', 'distance']}\n",
        "}"
      ],
      "metadata": {
        "execution": {
          "iopub.status.busy": "2024-05-07T09:22:06.386998Z",
          "iopub.execute_input": "2024-05-07T09:22:06.387314Z",
          "iopub.status.idle": "2024-05-07T09:22:06.396093Z",
          "shell.execute_reply.started": "2024-05-07T09:22:06.387288Z",
          "shell.execute_reply": "2024-05-07T09:22:06.395090Z"
        },
        "trusted": true,
        "id": "pa-wVZvZjmQi"
      },
      "execution_count": 48,
      "outputs": []
    },
    {
      "cell_type": "code",
      "source": [
        "# Perform hyperparameter tuning and training for each model\n",
        "for model_name, model in models.items():\n",
        "    print(f\"Training {model_name}...\")\n",
        "    grid_search = GridSearchCV(model, param_grids[model_name], cv=5, scoring='accuracy')\n",
        "    grid_search.fit(x_train, y_train)\n",
        "    print(f\"Best Parameters: {grid_search.best_params_}\")\n",
        "    print(f\"Best Score: {grid_search.best_score_:.4f}\")\n",
        "    print()"
      ],
      "metadata": {
        "execution": {
          "iopub.status.busy": "2024-05-07T09:22:06.397186Z",
          "iopub.execute_input": "2024-05-07T09:22:06.397486Z",
          "iopub.status.idle": "2024-05-07T09:22:06.406654Z",
          "shell.execute_reply.started": "2024-05-07T09:22:06.397461Z",
          "shell.execute_reply": "2024-05-07T09:22:06.405534Z"
        },
        "trusted": true,
        "id": "tRKX35mdjmQi",
        "colab": {
          "base_uri": "https://localhost:8080/"
        },
        "outputId": "2ee80428-3c4c-4c54-9ea3-7ed0596a31a1"
      },
      "execution_count": 49,
      "outputs": [
        {
          "output_type": "stream",
          "name": "stdout",
          "text": [
            "Training Naive Bayes...\n",
            "Best Parameters: {'alpha': 1}\n",
            "Best Score: 0.7998\n",
            "\n",
            "Training Logistic Regression...\n"
          ]
        },
        {
          "output_type": "stream",
          "name": "stderr",
          "text": [
            "/usr/local/lib/python3.10/dist-packages/sklearn/linear_model/_sag.py:350: ConvergenceWarning: The max_iter was reached which means the coef_ did not converge\n",
            "  warnings.warn(\n",
            "/usr/local/lib/python3.10/dist-packages/sklearn/svm/_base.py:1244: ConvergenceWarning: Liblinear failed to converge, increase the number of iterations.\n",
            "  warnings.warn(\n",
            "/usr/local/lib/python3.10/dist-packages/sklearn/svm/_base.py:1244: ConvergenceWarning: Liblinear failed to converge, increase the number of iterations.\n",
            "  warnings.warn(\n",
            "/usr/local/lib/python3.10/dist-packages/sklearn/svm/_base.py:1244: ConvergenceWarning: Liblinear failed to converge, increase the number of iterations.\n",
            "  warnings.warn(\n",
            "/usr/local/lib/python3.10/dist-packages/sklearn/linear_model/_sag.py:350: ConvergenceWarning: The max_iter was reached which means the coef_ did not converge\n",
            "  warnings.warn(\n",
            "/usr/local/lib/python3.10/dist-packages/sklearn/linear_model/_sag.py:350: ConvergenceWarning: The max_iter was reached which means the coef_ did not converge\n",
            "  warnings.warn(\n",
            "/usr/local/lib/python3.10/dist-packages/sklearn/linear_model/_sag.py:350: ConvergenceWarning: The max_iter was reached which means the coef_ did not converge\n",
            "  warnings.warn(\n",
            "/usr/local/lib/python3.10/dist-packages/sklearn/linear_model/_sag.py:350: ConvergenceWarning: The max_iter was reached which means the coef_ did not converge\n",
            "  warnings.warn(\n",
            "/usr/local/lib/python3.10/dist-packages/sklearn/linear_model/_sag.py:350: ConvergenceWarning: The max_iter was reached which means the coef_ did not converge\n",
            "  warnings.warn(\n",
            "/usr/local/lib/python3.10/dist-packages/sklearn/linear_model/_sag.py:350: ConvergenceWarning: The max_iter was reached which means the coef_ did not converge\n",
            "  warnings.warn(\n"
          ]
        },
        {
          "output_type": "stream",
          "name": "stdout",
          "text": [
            "Best Parameters: {'C': 1, 'penalty': 'l2', 'solver': 'saga'}\n",
            "Best Score: 0.7913\n",
            "\n",
            "Training K-Neighbors Classifier...\n",
            "Best Parameters: {'n_neighbors': 7, 'weights': 'distance'}\n",
            "Best Score: 0.7788\n",
            "\n"
          ]
        }
      ]
    },
    {
      "cell_type": "code",
      "source": [
        "best_params = grid_search.best_params_\n",
        "best_estimator = grid_search.best_estimator_"
      ],
      "metadata": {
        "execution": {
          "iopub.status.busy": "2024-05-07T09:22:06.407724Z",
          "iopub.execute_input": "2024-05-07T09:22:06.408098Z",
          "iopub.status.idle": "2024-05-07T09:23:42.444870Z",
          "shell.execute_reply.started": "2024-05-07T09:22:06.408037Z",
          "shell.execute_reply": "2024-05-07T09:23:42.443912Z"
        },
        "scrolled": true,
        "trusted": true,
        "id": "X5HSVGcpjmQj"
      },
      "execution_count": 52,
      "outputs": []
    },
    {
      "cell_type": "code",
      "source": [
        "y_pred = best_estimator.predict(x_test)"
      ],
      "metadata": {
        "execution": {
          "iopub.status.busy": "2024-05-07T09:23:42.447569Z",
          "iopub.execute_input": "2024-05-07T09:23:42.447889Z",
          "iopub.status.idle": "2024-05-07T09:23:42.455803Z",
          "shell.execute_reply.started": "2024-05-07T09:23:42.447862Z",
          "shell.execute_reply": "2024-05-07T09:23:42.454820Z"
        },
        "trusted": true,
        "id": "ANWsfzW0jmQj"
      },
      "execution_count": 53,
      "outputs": []
    },
    {
      "cell_type": "code",
      "source": [
        "accuracy = accuracy_score(y_test, y_pred)\n",
        "print(\"Accuracy from top 3 models after hyperparameter tuning:\", accuracy)\n",
        "print(\"Best Parameters:\", best_params)"
      ],
      "metadata": {
        "colab": {
          "base_uri": "https://localhost:8080/"
        },
        "id": "g5OpA2jv2T9z",
        "outputId": "fd6303a6-05fc-439a-f417-e9078679900a"
      },
      "execution_count": 54,
      "outputs": [
        {
          "output_type": "stream",
          "name": "stdout",
          "text": [
            "Accuracy from top 3 models after hyperparameter tuning: 0.7721602101116218\n",
            "Best Parameters: {'n_neighbors': 7, 'weights': 'distance'}\n"
          ]
        }
      ]
    },
    {
      "cell_type": "code",
      "source": [
        "y_pred = best_estimator.predict(x_test_tfidf)\n",
        "\n",
        "submission9 = pd.DataFrame({\n",
        "    \"id\": test[\"id\"],\n",
        "    \"target\": y_pred\n",
        "})"
      ],
      "metadata": {
        "id": "XfV_VJcl2YsP"
      },
      "execution_count": 55,
      "outputs": []
    },
    {
      "cell_type": "code",
      "source": [
        "y_pred = best_estimator.predict(x_test)"
      ],
      "metadata": {
        "execution": {
          "iopub.status.busy": "2024-05-07T09:23:42.456884Z",
          "iopub.execute_input": "2024-05-07T09:23:42.457172Z",
          "iopub.status.idle": "2024-05-07T09:23:42.484883Z",
          "shell.execute_reply.started": "2024-05-07T09:23:42.457147Z",
          "shell.execute_reply": "2024-05-07T09:23:42.483998Z"
        },
        "trusted": true,
        "id": "UAjdqmkUjmQk"
      },
      "execution_count": 46,
      "outputs": []
    },
    {
      "cell_type": "code",
      "source": [
        "accuracy = accuracy_score(y_test, y_pred)\n",
        "print(\"Accuracy of logistic regression after hyperparameter tuning:\", accuracy)\n",
        "print(\"Best Parameters:\", best_params)"
      ],
      "metadata": {
        "execution": {
          "iopub.status.busy": "2024-05-07T09:23:42.486052Z",
          "iopub.execute_input": "2024-05-07T09:23:42.486381Z",
          "iopub.status.idle": "2024-05-07T09:23:42.493284Z",
          "shell.execute_reply.started": "2024-05-07T09:23:42.486355Z",
          "shell.execute_reply": "2024-05-07T09:23:42.492341Z"
        },
        "trusted": true,
        "colab": {
          "base_uri": "https://localhost:8080/"
        },
        "id": "OlwPlMXBjmQk",
        "outputId": "04437951-5b6d-487c-f672-ec1c3ab9aecd"
      },
      "execution_count": 17,
      "outputs": [
        {
          "output_type": "stream",
          "name": "stdout",
          "text": [
            "Accuracy of logistic regression after hyperparameter tuning: 0.7905449770190414\n",
            "Best Parameters: {'C': 1, 'penalty': 'l2', 'solver': 'saga'}\n"
          ]
        }
      ]
    },
    {
      "cell_type": "code",
      "source": [
        "y_pred_1 = best_estimator.predict(x_test_tfidf)\n",
        "\n",
        "submission8 = pd.DataFrame({\n",
        "    \"id\": test[\"id\"],\n",
        "    \"target\": y_pred_1\n",
        "})"
      ],
      "metadata": {
        "id": "JHZ0J2hnp90-"
      },
      "execution_count": 20,
      "outputs": []
    },
    {
      "cell_type": "code",
      "source": [
        "submission9.to_csv(\"Submission9.csv\", index=False)"
      ],
      "metadata": {
        "id": "yfbGrcZUqI0q"
      },
      "execution_count": 56,
      "outputs": []
    }
  ]
}