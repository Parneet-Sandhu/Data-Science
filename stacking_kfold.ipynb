{
 "cells": [
  {
   "cell_type": "code",
   "execution_count": null,
   "metadata": {
    "execution": {
     "iopub.execute_input": "2024-05-07T09:03:24.744148Z",
     "iopub.status.busy": "2024-05-07T09:03:24.743450Z",
     "iopub.status.idle": "2024-05-07T09:03:24.751611Z",
     "shell.execute_reply": "2024-05-07T09:03:24.750275Z",
     "shell.execute_reply.started": "2024-05-07T09:03:24.744095Z"
    },
    "id": "dhdSby_NSoKs"
   },
   "outputs": [],
   "source": [
    "from sklearn.model_selection import KFold\n",
    "from sklearn.ensemble import RandomForestClassifier\n",
    "from lightgbm import LGBMClassifier\n",
    "from sklearn.ensemble import StackingClassifier\n",
    "from sklearn.metrics import accuracy_score\n",
    "from sklearn.feature_extraction.text import TfidfVectorizer\n",
    "from sklearn.model_selection import train_test_split\n",
    "import pandas as pd"
   ]
  },
  {
   "cell_type": "code",
   "execution_count": null,
   "metadata": {
    "execution": {
     "iopub.execute_input": "2024-05-07T09:03:24.754133Z",
     "iopub.status.busy": "2024-05-07T09:03:24.753662Z",
     "iopub.status.idle": "2024-05-07T09:03:24.792891Z",
     "shell.execute_reply": "2024-05-07T09:03:24.791403Z",
     "shell.execute_reply.started": "2024-05-07T09:03:24.754100Z"
    },
    "id": "7BW95Z29SoKu"
   },
   "outputs": [],
   "source": [
    "df = pd.read_csv(\"/content/Clean_train.csv\")"
   ]
  },
  {
   "cell_type": "code",
   "execution_count": null,
   "metadata": {
    "execution": {
     "iopub.execute_input": "2024-05-07T09:03:24.794741Z",
     "iopub.status.busy": "2024-05-07T09:03:24.794367Z",
     "iopub.status.idle": "2024-05-07T09:03:24.803707Z",
     "shell.execute_reply": "2024-05-07T09:03:24.802185Z",
     "shell.execute_reply.started": "2024-05-07T09:03:24.794708Z"
    },
    "id": "4_djK9fpSoKu"
   },
   "outputs": [],
   "source": [
    "x = df['text']\n",
    "y = df['target']"
   ]
  },
  {
   "cell_type": "code",
   "execution_count": null,
   "metadata": {
    "execution": {
     "iopub.execute_input": "2024-05-07T09:03:24.806989Z",
     "iopub.status.busy": "2024-05-07T09:03:24.806578Z",
     "iopub.status.idle": "2024-05-07T09:03:24.812448Z",
     "shell.execute_reply": "2024-05-07T09:03:24.811191Z",
     "shell.execute_reply.started": "2024-05-07T09:03:24.806955Z"
    },
    "id": "88g0gXkCSoKu"
   },
   "outputs": [],
   "source": [
    "tfidf_vectorizer = TfidfVectorizer()"
   ]
  },
  {
   "cell_type": "code",
   "execution_count": null,
   "metadata": {
    "execution": {
     "iopub.execute_input": "2024-05-07T09:03:24.814518Z",
     "iopub.status.busy": "2024-05-07T09:03:24.814120Z",
     "iopub.status.idle": "2024-05-07T09:03:25.086853Z",
     "shell.execute_reply": "2024-05-07T09:03:25.085666Z",
     "shell.execute_reply.started": "2024-05-07T09:03:24.814484Z"
    },
    "id": "xNwHAfQKSoKu"
   },
   "outputs": [],
   "source": [
    "x_tfidf = tfidf_vectorizer.fit_transform(x)"
   ]
  },
  {
   "cell_type": "code",
   "execution_count": null,
   "metadata": {
    "execution": {
     "iopub.execute_input": "2024-05-07T09:03:25.088866Z",
     "iopub.status.busy": "2024-05-07T09:03:25.088508Z",
     "iopub.status.idle": "2024-05-07T09:03:25.094778Z",
     "shell.execute_reply": "2024-05-07T09:03:25.093257Z",
     "shell.execute_reply.started": "2024-05-07T09:03:25.088837Z"
    },
    "id": "LSYkzMZBSoKv"
   },
   "outputs": [],
   "source": [
    "rf_model = RandomForestClassifier(n_estimators=100,\n",
    "                                  random_state=42)\n",
    "lgbm_model = LGBMClassifier(n_estimators=100,\n",
    "                            random_state=42)"
   ]
  },
  {
   "cell_type": "code",
   "execution_count": null,
   "metadata": {
    "execution": {
     "iopub.execute_input": "2024-05-07T09:03:25.097129Z",
     "iopub.status.busy": "2024-05-07T09:03:25.096586Z",
     "iopub.status.idle": "2024-05-07T09:03:25.111849Z",
     "shell.execute_reply": "2024-05-07T09:03:25.110158Z",
     "shell.execute_reply.started": "2024-05-07T09:03:25.097086Z"
    },
    "id": "groRurIiSoKv"
   },
   "outputs": [],
   "source": [
    "stacking_model = StackingClassifier(\n",
    "    estimators=[('rf', rf_model),\n",
    "                ('lgbm', lgbm_model)],\n",
    "\n",
    "    final_estimator=LGBMClassifier(),\n",
    "    stack_method='predict_proba',\n",
    "\n",
    "    cv=KFold(n_splits=5, shuffle=True, random_state=42)  # Use KFold with 5 folds\n",
    ")"
   ]
  },
  {
   "cell_type": "code",
   "execution_count": null,
   "metadata": {
    "execution": {
     "iopub.execute_input": "2024-05-07T09:03:25.117442Z",
     "iopub.status.busy": "2024-05-07T09:03:25.117009Z",
     "iopub.status.idle": "2024-05-07T09:03:25.129284Z",
     "shell.execute_reply": "2024-05-07T09:03:25.127994Z",
     "shell.execute_reply.started": "2024-05-07T09:03:25.117408Z"
    },
    "id": "ebuDabvFSoKv"
   },
   "outputs": [],
   "source": [
    "x_train, x_test, y_train, y_test = train_test_split(x_tfidf,\n",
    "                                                    y,\n",
    "                                                    test_size=0.2,\n",
    "                                                    random_state=42 ,\n",
    "                                                    shuffle = True)"
   ]
  },
  {
   "cell_type": "code",
   "execution_count": null,
   "metadata": {
    "colab": {
     "base_uri": "https://localhost:8080/",
     "height": 1000
    },
    "execution": {
     "iopub.execute_input": "2024-05-07T09:03:25.133025Z",
     "iopub.status.busy": "2024-05-07T09:03:25.132657Z",
     "iopub.status.idle": "2024-05-07T09:05:04.315143Z",
     "shell.execute_reply": "2024-05-07T09:05:04.313916Z",
     "shell.execute_reply.started": "2024-05-07T09:03:25.132995Z"
    },
    "id": "LeHoxJJ3SoKv",
    "outputId": "02b28f7a-2c90-4a19-cb65-03a505116b5f"
   },
   "outputs": [
    {
     "name": "stdout",
     "output_type": "stream",
     "text": [
      "[LightGBM] [Info] Number of positive: 2622, number of negative: 3468\n",
      "[LightGBM] [Info] Auto-choosing row-wise multi-threading, the overhead of testing was 0.022108 seconds.\n",
      "You can set `force_row_wise=true` to remove the overhead.\n",
      "And if memory is not enough, you can set `force_col_wise=true`.\n",
      "[LightGBM] [Info] Total Bins 8984\n",
      "[LightGBM] [Info] Number of data points in the train set: 6090, number of used features: 573\n",
      "[LightGBM] [Info] [binary:BoostFromScore]: pavg=0.430542 -> initscore=-0.279641\n",
      "[LightGBM] [Info] Start training from score -0.279641\n",
      "[LightGBM] [Info] Number of positive: 2107, number of negative: 2765\n",
      "[LightGBM] [Info] Auto-choosing col-wise multi-threading, the overhead of testing was 0.029330 seconds.\n",
      "You can set `force_col_wise=true` to remove the overhead.\n",
      "[LightGBM] [Info] Total Bins 6625\n",
      "[LightGBM] [Info] Number of data points in the train set: 4872, number of used features: 443\n",
      "[LightGBM] [Info] [binary:BoostFromScore]: pavg=0.432471 -> initscore=-0.271776\n",
      "[LightGBM] [Info] Start training from score -0.271776\n",
      "[LightGBM] [Info] Number of positive: 2055, number of negative: 2817\n",
      "[LightGBM] [Info] Auto-choosing row-wise multi-threading, the overhead of testing was 0.023132 seconds.\n",
      "You can set `force_row_wise=true` to remove the overhead.\n",
      "And if memory is not enough, you can set `force_col_wise=true`.\n",
      "[LightGBM] [Info] Total Bins 6637\n",
      "[LightGBM] [Info] Number of data points in the train set: 4872, number of used features: 448\n",
      "[LightGBM] [Info] [binary:BoostFromScore]: pavg=0.421798 -> initscore=-0.315397\n",
      "[LightGBM] [Info] Start training from score -0.315397\n",
      "[LightGBM] [Info] Number of positive: 2131, number of negative: 2741\n",
      "[LightGBM] [Info] Auto-choosing row-wise multi-threading, the overhead of testing was 0.014989 seconds.\n",
      "You can set `force_row_wise=true` to remove the overhead.\n",
      "And if memory is not enough, you can set `force_col_wise=true`.\n",
      "[LightGBM] [Info] Total Bins 6659\n",
      "[LightGBM] [Info] Number of data points in the train set: 4872, number of used features: 457\n",
      "[LightGBM] [Info] [binary:BoostFromScore]: pavg=0.437397 -> initscore=-0.251731\n",
      "[LightGBM] [Info] Start training from score -0.251731\n",
      "[LightGBM] [Info] Number of positive: 2099, number of negative: 2773\n",
      "[LightGBM] [Info] Auto-choosing row-wise multi-threading, the overhead of testing was 0.014351 seconds.\n",
      "You can set `force_row_wise=true` to remove the overhead.\n",
      "And if memory is not enough, you can set `force_col_wise=true`.\n",
      "[LightGBM] [Info] Total Bins 6565\n",
      "[LightGBM] [Info] Number of data points in the train set: 4872, number of used features: 445\n",
      "[LightGBM] [Info] [binary:BoostFromScore]: pavg=0.430829 -> initscore=-0.278469\n",
      "[LightGBM] [Info] Start training from score -0.278469\n",
      "[LightGBM] [Info] Number of positive: 2096, number of negative: 2776\n",
      "[LightGBM] [Info] Auto-choosing row-wise multi-threading, the overhead of testing was 0.014714 seconds.\n",
      "You can set `force_row_wise=true` to remove the overhead.\n",
      "And if memory is not enough, you can set `force_col_wise=true`.\n",
      "[LightGBM] [Info] Total Bins 6637\n",
      "[LightGBM] [Info] Number of data points in the train set: 4872, number of used features: 443\n",
      "[LightGBM] [Info] [binary:BoostFromScore]: pavg=0.430213 -> initscore=-0.280980\n",
      "[LightGBM] [Info] Start training from score -0.280980\n",
      "[LightGBM] [Info] Number of positive: 2622, number of negative: 3468\n",
      "[LightGBM] [Info] Auto-choosing col-wise multi-threading, the overhead of testing was 0.000279 seconds.\n",
      "You can set `force_col_wise=true` to remove the overhead.\n",
      "[LightGBM] [Info] Total Bins 472\n",
      "[LightGBM] [Info] Number of data points in the train set: 6090, number of used features: 2\n",
      "[LightGBM] [Info] [binary:BoostFromScore]: pavg=0.430542 -> initscore=-0.279641\n",
      "[LightGBM] [Info] Start training from score -0.279641\n"
     ]
    },
    {
     "data": {
      "text/html": [
       "<style>#sk-container-id-1 {color: black;background-color: white;}#sk-container-id-1 pre{padding: 0;}#sk-container-id-1 div.sk-toggleable {background-color: white;}#sk-container-id-1 label.sk-toggleable__label {cursor: pointer;display: block;width: 100%;margin-bottom: 0;padding: 0.3em;box-sizing: border-box;text-align: center;}#sk-container-id-1 label.sk-toggleable__label-arrow:before {content: \"▸\";float: left;margin-right: 0.25em;color: #696969;}#sk-container-id-1 label.sk-toggleable__label-arrow:hover:before {color: black;}#sk-container-id-1 div.sk-estimator:hover label.sk-toggleable__label-arrow:before {color: black;}#sk-container-id-1 div.sk-toggleable__content {max-height: 0;max-width: 0;overflow: hidden;text-align: left;background-color: #f0f8ff;}#sk-container-id-1 div.sk-toggleable__content pre {margin: 0.2em;color: black;border-radius: 0.25em;background-color: #f0f8ff;}#sk-container-id-1 input.sk-toggleable__control:checked~div.sk-toggleable__content {max-height: 200px;max-width: 100%;overflow: auto;}#sk-container-id-1 input.sk-toggleable__control:checked~label.sk-toggleable__label-arrow:before {content: \"▾\";}#sk-container-id-1 div.sk-estimator input.sk-toggleable__control:checked~label.sk-toggleable__label {background-color: #d4ebff;}#sk-container-id-1 div.sk-label input.sk-toggleable__control:checked~label.sk-toggleable__label {background-color: #d4ebff;}#sk-container-id-1 input.sk-hidden--visually {border: 0;clip: rect(1px 1px 1px 1px);clip: rect(1px, 1px, 1px, 1px);height: 1px;margin: -1px;overflow: hidden;padding: 0;position: absolute;width: 1px;}#sk-container-id-1 div.sk-estimator {font-family: monospace;background-color: #f0f8ff;border: 1px dotted black;border-radius: 0.25em;box-sizing: border-box;margin-bottom: 0.5em;}#sk-container-id-1 div.sk-estimator:hover {background-color: #d4ebff;}#sk-container-id-1 div.sk-parallel-item::after {content: \"\";width: 100%;border-bottom: 1px solid gray;flex-grow: 1;}#sk-container-id-1 div.sk-label:hover label.sk-toggleable__label {background-color: #d4ebff;}#sk-container-id-1 div.sk-serial::before {content: \"\";position: absolute;border-left: 1px solid gray;box-sizing: border-box;top: 0;bottom: 0;left: 50%;z-index: 0;}#sk-container-id-1 div.sk-serial {display: flex;flex-direction: column;align-items: center;background-color: white;padding-right: 0.2em;padding-left: 0.2em;position: relative;}#sk-container-id-1 div.sk-item {position: relative;z-index: 1;}#sk-container-id-1 div.sk-parallel {display: flex;align-items: stretch;justify-content: center;background-color: white;position: relative;}#sk-container-id-1 div.sk-item::before, #sk-container-id-1 div.sk-parallel-item::before {content: \"\";position: absolute;border-left: 1px solid gray;box-sizing: border-box;top: 0;bottom: 0;left: 50%;z-index: -1;}#sk-container-id-1 div.sk-parallel-item {display: flex;flex-direction: column;z-index: 1;position: relative;background-color: white;}#sk-container-id-1 div.sk-parallel-item:first-child::after {align-self: flex-end;width: 50%;}#sk-container-id-1 div.sk-parallel-item:last-child::after {align-self: flex-start;width: 50%;}#sk-container-id-1 div.sk-parallel-item:only-child::after {width: 0;}#sk-container-id-1 div.sk-dashed-wrapped {border: 1px dashed gray;margin: 0 0.4em 0.5em 0.4em;box-sizing: border-box;padding-bottom: 0.4em;background-color: white;}#sk-container-id-1 div.sk-label label {font-family: monospace;font-weight: bold;display: inline-block;line-height: 1.2em;}#sk-container-id-1 div.sk-label-container {text-align: center;}#sk-container-id-1 div.sk-container {/* jupyter's `normalize.less` sets `[hidden] { display: none; }` but bootstrap.min.css set `[hidden] { display: none !important; }` so we also need the `!important` here to be able to override the default hidden behavior on the sphinx rendered scikit-learn.org. See: https://github.com/scikit-learn/scikit-learn/issues/21755 */display: inline-block !important;position: relative;}#sk-container-id-1 div.sk-text-repr-fallback {display: none;}</style><div id=\"sk-container-id-1\" class=\"sk-top-container\"><div class=\"sk-text-repr-fallback\"><pre>StackingClassifier(cv=KFold(n_splits=5, random_state=42, shuffle=True),\n",
       "                   estimators=[(&#x27;rf&#x27;, RandomForestClassifier(random_state=42)),\n",
       "                               (&#x27;lgbm&#x27;, LGBMClassifier(random_state=42))],\n",
       "                   final_estimator=LGBMClassifier(),\n",
       "                   stack_method=&#x27;predict_proba&#x27;)</pre><b>In a Jupyter environment, please rerun this cell to show the HTML representation or trust the notebook. <br />On GitHub, the HTML representation is unable to render, please try loading this page with nbviewer.org.</b></div><div class=\"sk-container\" hidden><div class=\"sk-item sk-dashed-wrapped\"><div class=\"sk-label-container\"><div class=\"sk-label sk-toggleable\"><input class=\"sk-toggleable__control sk-hidden--visually\" id=\"sk-estimator-id-1\" type=\"checkbox\" ><label for=\"sk-estimator-id-1\" class=\"sk-toggleable__label sk-toggleable__label-arrow\">StackingClassifier</label><div class=\"sk-toggleable__content\"><pre>StackingClassifier(cv=KFold(n_splits=5, random_state=42, shuffle=True),\n",
       "                   estimators=[(&#x27;rf&#x27;, RandomForestClassifier(random_state=42)),\n",
       "                               (&#x27;lgbm&#x27;, LGBMClassifier(random_state=42))],\n",
       "                   final_estimator=LGBMClassifier(),\n",
       "                   stack_method=&#x27;predict_proba&#x27;)</pre></div></div></div><div class=\"sk-serial\"><div class=\"sk-item\"><div class=\"sk-parallel\"><div class=\"sk-parallel-item\"><div class=\"sk-item\"><div class=\"sk-label-container\"><div class=\"sk-label sk-toggleable\"><label>rf</label></div></div><div class=\"sk-serial\"><div class=\"sk-item\"><div class=\"sk-estimator sk-toggleable\"><input class=\"sk-toggleable__control sk-hidden--visually\" id=\"sk-estimator-id-2\" type=\"checkbox\" ><label for=\"sk-estimator-id-2\" class=\"sk-toggleable__label sk-toggleable__label-arrow\">RandomForestClassifier</label><div class=\"sk-toggleable__content\"><pre>RandomForestClassifier(random_state=42)</pre></div></div></div></div></div></div><div class=\"sk-parallel-item\"><div class=\"sk-item\"><div class=\"sk-label-container\"><div class=\"sk-label sk-toggleable\"><label>lgbm</label></div></div><div class=\"sk-serial\"><div class=\"sk-item\"><div class=\"sk-estimator sk-toggleable\"><input class=\"sk-toggleable__control sk-hidden--visually\" id=\"sk-estimator-id-3\" type=\"checkbox\" ><label for=\"sk-estimator-id-3\" class=\"sk-toggleable__label sk-toggleable__label-arrow\">LGBMClassifier</label><div class=\"sk-toggleable__content\"><pre>LGBMClassifier(random_state=42)</pre></div></div></div></div></div></div></div></div><div class=\"sk-item\"><div class=\"sk-parallel\"><div class=\"sk-parallel-item\"><div class=\"sk-item\"><div class=\"sk-label-container\"><div class=\"sk-label sk-toggleable\"><label>final_estimator</label></div></div><div class=\"sk-serial\"><div class=\"sk-item\"><div class=\"sk-estimator sk-toggleable\"><input class=\"sk-toggleable__control sk-hidden--visually\" id=\"sk-estimator-id-4\" type=\"checkbox\" ><label for=\"sk-estimator-id-4\" class=\"sk-toggleable__label sk-toggleable__label-arrow\">LGBMClassifier</label><div class=\"sk-toggleable__content\"><pre>LGBMClassifier()</pre></div></div></div></div></div></div></div></div></div></div></div></div>"
      ],
      "text/plain": [
       "StackingClassifier(cv=KFold(n_splits=5, random_state=42, shuffle=True),\n",
       "                   estimators=[('rf', RandomForestClassifier(random_state=42)),\n",
       "                               ('lgbm', LGBMClassifier(random_state=42))],\n",
       "                   final_estimator=LGBMClassifier(),\n",
       "                   stack_method='predict_proba')"
      ]
     },
     "execution_count": 9,
     "metadata": {},
     "output_type": "execute_result"
    }
   ],
   "source": [
    "stacking_model.fit(x_train, y_train)"
   ]
  },
  {
   "cell_type": "code",
   "execution_count": null,
   "metadata": {
    "execution": {
     "iopub.execute_input": "2024-05-07T09:05:04.317283Z",
     "iopub.status.busy": "2024-05-07T09:05:04.316518Z",
     "iopub.status.idle": "2024-05-07T09:05:04.474926Z",
     "shell.execute_reply": "2024-05-07T09:05:04.473738Z",
     "shell.execute_reply.started": "2024-05-07T09:05:04.317251Z"
    },
    "id": "mYg5ne62SoKv"
   },
   "outputs": [],
   "source": [
    "y_pred_stacking = stacking_model.predict(x_test)"
   ]
  },
  {
   "cell_type": "code",
   "execution_count": null,
   "metadata": {
    "colab": {
     "base_uri": "https://localhost:8080/"
    },
    "execution": {
     "iopub.execute_input": "2024-05-07T09:05:04.476663Z",
     "iopub.status.busy": "2024-05-07T09:05:04.476347Z",
     "iopub.status.idle": "2024-05-07T09:05:04.482497Z",
     "shell.execute_reply": "2024-05-07T09:05:04.481735Z",
     "shell.execute_reply.started": "2024-05-07T09:05:04.476636Z"
    },
    "id": "2b7Z8i7xSoKw",
    "outputId": "f1cb8c97-12b1-42d9-8d9d-57ed3b9c065a"
   },
   "outputs": [
    {
     "name": "stdout",
     "output_type": "stream",
     "text": [
      "Accuracy of Stacking Classifier with 5-fold cross-validation: 0.7872619829284307\n"
     ]
    }
   ],
   "source": [
    "accuracy_stacking = accuracy_score(y_test, y_pred_stacking)\n",
    "print(\"Accuracy of Stacking Classifier with 5-fold cross-validation:\", accuracy_stacking)\n"
   ]
  }
 ],
 "metadata": {
  "colab": {
   "provenance": []
  },
  "kaggle": {
   "accelerator": "none",
   "dataSources": [
    {
     "databundleVersionId": 869809,
     "sourceId": 17777,
     "sourceType": "competition"
    }
   ],
   "dockerImageVersionId": 30698,
   "isGpuEnabled": false,
   "isInternetEnabled": true,
   "language": "python",
   "sourceType": "notebook"
  },
  "kernelspec": {
   "display_name": "Python 3 (ipykernel)",
   "language": "python",
   "name": "python3"
  },
  "language_info": {
   "codemirror_mode": {
    "name": "ipython",
    "version": 3
   },
   "file_extension": ".py",
   "mimetype": "text/x-python",
   "name": "python",
   "nbconvert_exporter": "python",
   "pygments_lexer": "ipython3",
   "version": "3.12.3"
  }
 },
 "nbformat": 4,
 "nbformat_minor": 4
}
