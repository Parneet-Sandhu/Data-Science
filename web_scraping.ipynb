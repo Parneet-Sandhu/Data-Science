{
 "cells": [
  {
   "cell_type": "code",
   "execution_count": 2,
   "metadata": {
    "colab": {
     "base_uri": "https://localhost:8080/"
    },
    "id": "DYiuhIxiDeTl",
    "outputId": "d609e13d-e5c7-4ccf-d4f7-b335487e0362"
   },
   "outputs": [
    {
     "name": "stdout",
     "output_type": "stream",
     "text": [
      "Requirement already satisfied: requests==2.31.0 in /usr/local/lib/python3.10/dist-packages (2.31.0)\n",
      "Requirement already satisfied: charset-normalizer<4,>=2 in /usr/local/lib/python3.10/dist-packages (from requests==2.31.0) (3.3.2)\n",
      "Requirement already satisfied: idna<4,>=2.5 in /usr/local/lib/python3.10/dist-packages (from requests==2.31.0) (3.7)\n",
      "Requirement already satisfied: urllib3<3,>=1.21.1 in /usr/local/lib/python3.10/dist-packages (from requests==2.31.0) (2.0.7)\n",
      "Requirement already satisfied: certifi>=2017.4.17 in /usr/local/lib/python3.10/dist-packages (from requests==2.31.0) (2024.6.2)\n"
     ]
    }
   ],
   "source": [
    "!pip install requests==2.31.0"
   ]
  },
  {
   "cell_type": "code",
   "execution_count": 3,
   "metadata": {
    "id": "_B7aG-Zr-xQa"
   },
   "outputs": [],
   "source": [
    "import requests\n",
    "import csv\n",
    "from bs4 import BeautifulSoup"
   ]
  },
  {
   "cell_type": "code",
   "execution_count": 4,
   "metadata": {
    "id": "6OA8n6GrFjzF"
   },
   "outputs": [],
   "source": [
    "def fetch_html_content(url):\n",
    "    try:\n",
    "        res = requests.get(url)\n",
    "        res.raise_for_status()\n",
    "        return res.content\n",
    "    except requests.exceptions.RequestException as e:\n",
    "        print(\"ERROR\", e)\n",
    "        return None"
   ]
  },
  {
   "cell_type": "code",
   "execution_count": 5,
   "metadata": {
    "id": "h3vwmcYZFsoJ"
   },
   "outputs": [],
   "source": [
    "def parse_html(html_content):\n",
    "    try:\n",
    "        soup = BeautifulSoup(html_content, \"html.parser\")\n",
    "        return soup\n",
    "    except Exception as e:\n",
    "        print(\"ERROR\", e)\n",
    "        return None"
   ]
  },
  {
   "cell_type": "code",
   "execution_count": 6,
   "metadata": {
    "id": "U8-psgsyHzwl"
   },
   "outputs": [],
   "source": [
    "def extract_data(Soup):\n",
    "    data = []\n",
    "    headings = Soup.find_all('h2')\n",
    "    for heading in headings :\n",
    "        label = heading.get_text().strip()\n",
    "        next_elements = heading.find_next_siblings()\n",
    "        text = []\n",
    "        for element in next_elements:\n",
    "            if element.name == 'h2' :\n",
    "                break\n",
    "            text.append(element.get_text().strip())\n",
    "        data.append((label, url, '\\n'.join(text)))\n",
    "    return data\n"
   ]
  },
  {
   "cell_type": "code",
   "execution_count": 7,
   "metadata": {
    "id": "Guziuw_vH9Cf"
   },
   "outputs": [],
   "source": [
    "def write_to_csv(data, filename):\n",
    "    with open(filename, 'w', newline='', encoding='utf-8') as csvfile:\n",
    "        writer = csv.writer(csvfile)\n",
    "        writer.writerow(['ID', 'URL', 'LABEL', 'TEXT'])\n",
    "        for i, (label,url, text) in enumerate(data): # Unpack the tuple here\n",
    "            writer.writerow([i+1, url, label, text]) # Use unpacked 'text'"
   ]
  },
  {
   "cell_type": "code",
   "execution_count": 18,
   "metadata": {
    "id": "bpzd2FboDHwa"
   },
   "outputs": [],
   "source": [
    "urls= [\"https://hi.wikipedia.org/wiki/%E0%A4%95%E0%A4%B6%E0%A5%8D%E0%A4%AE%E0%A5%80%E0%A4%B0_%E0%A4%95%E0%A4%BE_%E0%A4%87%E0%A4%A4%E0%A4%BF%E0%A4%B9%E0%A4%BE%E0%A4%B8\",\n",
    "]"
   ]
  },
  {
   "cell_type": "code",
   "execution_count": 19,
   "metadata": {
    "colab": {
     "base_uri": "https://localhost:8080/"
    },
    "id": "_f-fQA_5F5bg",
    "outputId": "547c6057-dd70-449e-c8d2-33c495ceba1d"
   },
   "outputs": [
    {
     "name": "stdout",
     "output_type": "stream",
     "text": [
      "ERROR 404 Client Error: Not Found for url: https://hi.wikipedia.org/wiki/%E0%A4%A8%E0%A4%BE%E0%A4%97%E0%A4%B0%E0%A4%BF%E0%A4%95%E0%A4%A4%E0%A4%BEhttps://hi.wikipedia.org/wiki/%E0%A4%AD%E0%A4%BE%E0%A4%B0%E0%A4%A4%E0%A5%80%E0%A4%AF_%E0%A4%B0%E0%A4%BE%E0%A4%B7%E0%A5%8D%E0%A4%9F%E0%A5%8D%E0%A4%B0%E0%A4%BF%E0%A4%95%E0%A4%A4%E0%A4%BE_%E0%A4%B5%E0%A4%BF%E0%A4%A7%E0%A4%BF\n",
      "ERROR object of type 'NoneType' has no len()\n",
      "ERROR 404 Client Error: Not Found for url: https://hi.wikipedia.org/wiki/%E0%A4%9C%E0%A4%BE%E0%A4%A4%E0%A5%80%E0%A4%AF_%E0%A4%AA%E0%A4%BE%E0%A4%B0%E0%A5%8D%E0%A4%9F%E0%A5%80_(%E0%A4%87%E0%A4%B0%E0%A4%B6%E0%A4%BE%E0%A4%A6)https://hi.wikipedia.org/wiki/%E0%A4%B0%E0%A4%BE%E0%A4%B7%E0%A5%8D%E0%A4%9F%E0%A5%8D%E0%A4%B0%E0%A5%80%E0%A4%AF_%E0%A4%9C%E0%A4%A8%E0%A4%A4%E0%A4%BE_%E0%A4%A6%E0%A4%B2\n",
      "ERROR object of type 'NoneType' has no len()\n",
      "ERROR 404 Client Error: Not Found for url: https://hi.wikipedia.org/wiki/%E0%A4%A4%E0%A4%BE%E0%A4%B0%E0%A4%BE%E0%A4%A8%E0%A4%97%E0%A4%B0_%E0%A4%B5%E0%A4%BF%E0%A4%A7%E0%A4%BE%E0%A4%A8%E0%A4%B8%E0%A4%AD%E0%A4%BE_%E0%A4%95%E0%A5%8D%E0%A4%B7%E0%A5%87%E0%A4%A4%E0%A5%8D%E0%A4%B0_(%E0%A4%B0%E0%A4%BE%E0%A4%9C%E0%A4%B8%E0%A5%8D%E0%A4%A5%E0%A4%BE%E0%A4%A8)https://hi.wikipedia.org/wiki/%E0%A4%95%E0%A5%81%E0%A4%B2%E0%A5%80%E0%A4%A8%E0%A4%A4%E0%A4%BE%E0%A4%B5%E0%A4%BE%E0%A4%A6\n",
      "ERROR object of type 'NoneType' has no len()\n",
      "ERROR 404 Client Error: Not Found for url: https://hi.wikipedia.org/wiki/%E0%A4%B8%E0%A4%BE%E0%A4%AE%E0%A4%BE%E0%A4%9C%E0%A4%BF%E0%A4%95_%E0%A4%86%E0%A4%A8%E0%A5%8D%E0%A4%A6%E0%A5%8B%E0%A4%B2%E0%A4%A8https://hi.wikipedia.org/wiki/%E0%A4%B8%E0%A5%81%E0%A4%B0%E0%A5%87%E0%A4%82%E0%A4%A6%E0%A5%8D%E0%A4%B0%E0%A4%A8%E0%A4%BE%E0%A4%A5_%E0%A4%AC%E0%A5%88%E0%A4%A8%E0%A4%B0%E0%A5%8D%E0%A4%9C%E0%A5%80\n",
      "ERROR object of type 'NoneType' has no len()\n"
     ]
    }
   ],
   "source": [
    "data = []\n",
    "for url in urls:\n",
    "    html_content = fetch_html_content(url)\n",
    "    parsed_html = parse_html(html_content)\n",
    "    if parsed_html:\n",
    "        data.extend(extract_data(parsed_html))\n",
    "\n",
    "write_to_csv(data, 'polity.csv')"
   ]
  }
 ],
 "metadata": {
  "colab": {
   "provenance": []
  },
  "kernelspec": {
   "display_name": "Python 3 (ipykernel)",
   "language": "python",
   "name": "python3"
  },
  "language_info": {
   "codemirror_mode": {
    "name": "ipython",
    "version": 3
   },
   "file_extension": ".py",
   "mimetype": "text/x-python",
   "name": "python",
   "nbconvert_exporter": "python",
   "pygments_lexer": "ipython3",
   "version": "3.12.3"
  }
 },
 "nbformat": 4,
 "nbformat_minor": 4
}
