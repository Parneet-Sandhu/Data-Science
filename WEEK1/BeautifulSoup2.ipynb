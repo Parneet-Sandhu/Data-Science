{
 "cells": [
  {
   "cell_type": "markdown",
   "id": "c458ea49-04c6-4176-8b85-879123343f2a",
   "metadata": {},
   "source": [
    "# .find()\n",
    "# .find_all()"
   ]
  },
  {
   "cell_type": "code",
   "execution_count": 1,
   "id": "6f738692-1afc-42c0-854b-a4e93fd97bbf",
   "metadata": {},
   "outputs": [],
   "source": [
    "from bs4 import BeautifulSoup"
   ]
  },
  {
   "cell_type": "code",
   "execution_count": 2,
   "id": "b94e574b-9ad1-4cb7-87f7-f9c5c5f99751",
   "metadata": {},
   "outputs": [],
   "source": [
    "with open(\"index.html\", \"r\") as f:\n",
    "    doc = BeautifulSoup(f ,\"html.parser\")"
   ]
  },
  {
   "cell_type": "code",
   "execution_count": 3,
   "id": "31805119-276d-43a0-8c1f-78ceb5126935",
   "metadata": {},
   "outputs": [
    {
     "name": "stdout",
     "output_type": "stream",
     "text": [
      "<option selected=\"\" value=\"course-type\">Course type*</option>\n"
     ]
    }
   ],
   "source": [
    "# lets find the first tag from our index.html\n",
    "\n",
    "tag = doc.find(\"option\")\n",
    "print(tag)"
   ]
  },
  {
   "cell_type": "code",
   "execution_count": 4,
   "id": "4a3a0633-b917-40c6-913d-cac8ae2afac7",
   "metadata": {},
   "outputs": [
    {
     "name": "stdout",
     "output_type": "stream",
     "text": [
      "[<option selected=\"\" value=\"course-type\">Course type*</option>, <option value=\"short-courses\">Short courses</option>, <option value=\"featured-courses\">Featured courses</option>, <option value=\"undergraduate\">Undergraduate</option>, <option value=\"diploma\">Diploma</option>, <option value=\"certificate\">Certificate</option>, <option value=\"masters-degree\">Masters degree</option>, <option value=\"postgraduate\">Postgraduate</option>]\n"
     ]
    }
   ],
   "source": [
    "# lets see all the tags\n",
    "tag2 = doc.find_all(\"option\")\n",
    "print(tag2)"
   ]
  },
  {
   "cell_type": "code",
   "execution_count": 5,
   "id": "be1746d6-d4ef-4eac-b2dc-45f35bac2bd1",
   "metadata": {},
   "outputs": [
    {
     "name": "stdout",
     "output_type": "stream",
     "text": [
      "<option selected=\"\" value=\"new value\">Course type*</option>\n"
     ]
    }
   ],
   "source": [
    "# to access the attributes from a tag\n",
    "\n",
    "tag[\"value\"] = \"new value\"\n",
    "print(tag)"
   ]
  },
  {
   "cell_type": "code",
   "execution_count": 6,
   "id": "2532d304-ff25-4ec2-a194-f241ddfca952",
   "metadata": {},
   "outputs": [
    {
     "name": "stdout",
     "output_type": "stream",
     "text": [
      "{'value': 'new value', 'selected': ''}\n"
     ]
    }
   ],
   "source": [
    "# we can also see all the attributes\n",
    "\n",
    "print(tag.attrs)"
   ]
  },
  {
   "cell_type": "code",
   "execution_count": 7,
   "id": "acb39e0d-2d97-4335-8cee-73be9d1ad8d5",
   "metadata": {},
   "outputs": [
    {
     "name": "stdout",
     "output_type": "stream",
     "text": [
      "[<div class=\"main-block\">\n",
      "<div class=\"left-part\">\n",
      "<i class=\"fas fa-graduation-cap\"></i>\n",
      "<h1>Register to our courses</h1>\n",
      "<p></p>\n",
      "<div class=\"btn-group\">\n",
      "<a class=\"btn-item\" href=\"https://www.w3docs.com/learn-html.html\">Learn HTML</a>\n",
      "<a class=\"btn-item\" href=\"https://www.w3docs.com/quiz/#\">Select Quiz</a>\n",
      "</div>\n",
      "        $2345\n",
      "      </div>\n",
      "<form action=\"/\">\n",
      "<div class=\"title\">\n",
      "<i class=\"fas fa-pencil-alt\"></i>\n",
      "<h2>Register here</h2>\n",
      "</div>\n",
      "        $123\n",
      "        <div class=\"info\">\n",
      "<input class=\"fname\" name=\"name\" placeholder=\"Full name\" type=\"text\"/>\n",
      "<input name=\"name\" placeholder=\"Email\" type=\"text\"/>\n",
      "<input name=\"name\" placeholder=\"Phone number\" type=\"text\"/>\n",
      "<input name=\"name\" placeholder=\"Password\" type=\"password\"/>\n",
      "<select>\n",
      "<option selected=\"\" value=\"new value\">Course type*</option>\n",
      "<option value=\"short-courses\">Short courses</option>\n",
      "<option value=\"featured-courses\">Featured courses</option>\n",
      "<option value=\"undergraduate\">Undergraduate</option>\n",
      "<option value=\"diploma\">Diploma</option>\n",
      "<option value=\"certificate\">Certificate</option>\n",
      "<option value=\"masters-degree\">Masters degree</option>\n",
      "<option value=\"postgraduate\">Postgraduate</option>\n",
      "</select>\n",
      "</div>\n",
      "<div class=\"checkbox\">\n",
      "<input name=\"checkbox\" type=\"checkbox\"/><span>I agree to the <a href=\"https://www.w3docs.com/privacy-policy\">Privacy Poalicy for W3Docs.</a></span>\n",
      "</div>\n",
      "<button href=\"/\" type=\"submit\">Submit</button>\n",
      "</form>\n",
      "</div>, <div class=\"left-part\">\n",
      "<i class=\"fas fa-graduation-cap\"></i>\n",
      "<h1>Register to our courses</h1>\n",
      "<p></p>\n",
      "<div class=\"btn-group\">\n",
      "<a class=\"btn-item\" href=\"https://www.w3docs.com/learn-html.html\">Learn HTML</a>\n",
      "<a class=\"btn-item\" href=\"https://www.w3docs.com/quiz/#\">Select Quiz</a>\n",
      "</div>\n",
      "        $2345\n",
      "      </div>, <p></p>, <div class=\"btn-group\">\n",
      "<a class=\"btn-item\" href=\"https://www.w3docs.com/learn-html.html\">Learn HTML</a>\n",
      "<a class=\"btn-item\" href=\"https://www.w3docs.com/quiz/#\">Select Quiz</a>\n",
      "</div>, <div class=\"title\">\n",
      "<i class=\"fas fa-pencil-alt\"></i>\n",
      "<h2>Register here</h2>\n",
      "</div>, <div class=\"info\">\n",
      "<input class=\"fname\" name=\"name\" placeholder=\"Full name\" type=\"text\"/>\n",
      "<input name=\"name\" placeholder=\"Email\" type=\"text\"/>\n",
      "<input name=\"name\" placeholder=\"Phone number\" type=\"text\"/>\n",
      "<input name=\"name\" placeholder=\"Password\" type=\"password\"/>\n",
      "<select>\n",
      "<option selected=\"\" value=\"new value\">Course type*</option>\n",
      "<option value=\"short-courses\">Short courses</option>\n",
      "<option value=\"featured-courses\">Featured courses</option>\n",
      "<option value=\"undergraduate\">Undergraduate</option>\n",
      "<option value=\"diploma\">Diploma</option>\n",
      "<option value=\"certificate\">Certificate</option>\n",
      "<option value=\"masters-degree\">Masters degree</option>\n",
      "<option value=\"postgraduate\">Postgraduate</option>\n",
      "</select>\n",
      "</div>, <div class=\"checkbox\">\n",
      "<input name=\"checkbox\" type=\"checkbox\"/><span>I agree to the <a href=\"https://www.w3docs.com/privacy-policy\">Privacy Poalicy for W3Docs.</a></span>\n",
      "</div>]\n"
     ]
    }
   ],
   "source": [
    "# we can also search multiple tags name at same time\n",
    "\n",
    "tag3 = doc.find_all([\"p\" , \"div\" , \"li\"])\n",
    "print(tag3)"
   ]
  },
  {
   "cell_type": "code",
   "execution_count": 11,
   "id": "d533250b-85c7-4ed1-9126-06260314d635",
   "metadata": {},
   "outputs": [
    {
     "name": "stderr",
     "output_type": "stream",
     "text": [
      "C:\\Users\\Parneet Kaur\\AppData\\Local\\Temp\\ipykernel_22448\\3199797411.py:3: DeprecationWarning: The 'text' argument to find()-type methods is deprecated. Use 'string' instead.\n",
      "  tag4 = doc.find_all([\"option\"] , text = \"Undergraduate\")\n"
     ]
    }
   ],
   "source": [
    "# we can also search combinations of tags\n",
    "\n",
    "tag4 = doc.find_all([\"option\"] , text = \"Undergraduate\")"
   ]
  },
  {
   "cell_type": "code",
   "execution_count": 12,
   "id": "b74a7f05-7d36-4fc4-98f7-602cfb5c8ec3",
   "metadata": {},
   "outputs": [
    {
     "name": "stdout",
     "output_type": "stream",
     "text": [
      "[<option value=\"undergraduate\">Undergraduate</option>]\n"
     ]
    }
   ],
   "source": [
    "print(tag4)"
   ]
  },
  {
   "cell_type": "code",
   "execution_count": 13,
   "id": "5423d7ed-9559-4aff-82c4-e360c3915c08",
   "metadata": {},
   "outputs": [
    {
     "name": "stdout",
     "output_type": "stream",
     "text": [
      "[<a class=\"btn-item\" href=\"https://www.w3docs.com/learn-html.html\">Learn HTML</a>, <a class=\"btn-item\" href=\"https://www.w3docs.com/quiz/#\">Select Quiz</a>]\n"
     ]
    }
   ],
   "source": [
    "# we can also look for different classes\n",
    "\n",
    "tag5 =doc.find_all(class_ = \"btn-item\")\n",
    "print(tag5)"
   ]
  },
  {
   "cell_type": "markdown",
   "id": "b81d4622-f4b3-47de-902e-34988098b9e2",
   "metadata": {},
   "source": [
    "# Now we will use Re Expressions"
   ]
  },
  {
   "cell_type": "code",
   "execution_count": 14,
   "id": "ec90c470-572f-4711-99ce-b26734be8361",
   "metadata": {},
   "outputs": [],
   "source": [
    "import re"
   ]
  },
  {
   "cell_type": "code",
   "execution_count": 15,
   "id": "9f581018-a106-43fa-871b-57bbb69e109b",
   "metadata": {},
   "outputs": [
    {
     "name": "stderr",
     "output_type": "stream",
     "text": [
      "<>:1: SyntaxWarning: invalid escape sequence '\\$'\n",
      "<>:1: SyntaxWarning: invalid escape sequence '\\$'\n",
      "C:\\Users\\Parneet Kaur\\AppData\\Local\\Temp\\ipykernel_22448\\3491386477.py:1: SyntaxWarning: invalid escape sequence '\\$'\n",
      "  tags = doc.find_all(text = re.compile(\"\\$.*\"))\n",
      "C:\\Users\\Parneet Kaur\\AppData\\Local\\Temp\\ipykernel_22448\\3491386477.py:1: DeprecationWarning: The 'text' argument to find()-type methods is deprecated. Use 'string' instead.\n",
      "  tags = doc.find_all(text = re.compile(\"\\$.*\"))\n"
     ]
    }
   ],
   "source": [
    "tags = doc.find_all(text = re.compile(\"\\$.*\"))"
   ]
  },
  {
   "cell_type": "code",
   "execution_count": 17,
   "id": "a9dfa5ca-35d5-46d8-846a-c82db4bcc97b",
   "metadata": {},
   "outputs": [
    {
     "name": "stdout",
     "output_type": "stream",
     "text": [
      "['\\n        $2345\\n      ', '\\n        $123\\n        ']\n"
     ]
    }
   ],
   "source": [
    "print(tags)"
   ]
  },
  {
   "cell_type": "code",
   "execution_count": 18,
   "id": "ce5bd05b-0c91-4370-b835-12817b69ff9a",
   "metadata": {},
   "outputs": [],
   "source": [
    "# here \\$ -> matching dollar sign\n",
    "# here .* -> any character , any number of time after dollar sign"
   ]
  },
  {
   "cell_type": "code",
   "execution_count": 19,
   "id": "6200dabc-f659-477d-8e46-52a57eff8a10",
   "metadata": {},
   "outputs": [
    {
     "name": "stdout",
     "output_type": "stream",
     "text": [
      "$2345\n",
      "$123\n"
     ]
    }
   ],
   "source": [
    "for tag in tags :\n",
    "    print(tag.strip())"
   ]
  },
  {
   "cell_type": "code",
   "execution_count": 20,
   "id": "c3eb5f1e-8a0f-42a6-9500-0c5280fe546b",
   "metadata": {},
   "outputs": [
    {
     "name": "stdout",
     "output_type": "stream",
     "text": [
      "['\\n        $2345\\n      ']\n"
     ]
    },
    {
     "name": "stderr",
     "output_type": "stream",
     "text": [
      "<>:2: SyntaxWarning: invalid escape sequence '\\$'\n",
      "<>:2: SyntaxWarning: invalid escape sequence '\\$'\n",
      "C:\\Users\\Parneet Kaur\\AppData\\Local\\Temp\\ipykernel_22448\\4099021530.py:2: SyntaxWarning: invalid escape sequence '\\$'\n",
      "  tags = doc.find_all(text = re.compile(\"\\$.*\") , limit = 1)\n",
      "C:\\Users\\Parneet Kaur\\AppData\\Local\\Temp\\ipykernel_22448\\4099021530.py:2: DeprecationWarning: The 'text' argument to find()-type methods is deprecated. Use 'string' instead.\n",
      "  tags = doc.find_all(text = re.compile(\"\\$.*\") , limit = 1)\n"
     ]
    }
   ],
   "source": [
    "# we also limit the finding\n",
    "tags = doc.find_all(text = re.compile(\"\\$.*\") , limit = 1)\n",
    "print(tags)"
   ]
  },
  {
   "cell_type": "code",
   "execution_count": 21,
   "id": "8d8a6452-541a-4bc9-98d1-560a47042f8b",
   "metadata": {},
   "outputs": [],
   "source": [
    "# now saving the modified file \n",
    "\n",
    "tags = doc.find_all(\"input\" , type =\"text\")\n",
    "for tag in tags:\n",
    "    tag[\"placeholder\"] = \"yuppppyyyyy\"\n",
    "\n",
    "with open (\"changed.html\" ,\"w\") as s:\n",
    "    s.write(str(doc))"
   ]
  },
  {
   "cell_type": "code",
   "execution_count": null,
   "id": "3674e851-c8b5-4438-9fae-6f37e8b6f908",
   "metadata": {},
   "outputs": [],
   "source": []
  }
 ],
 "metadata": {
  "kernelspec": {
   "display_name": "Python 3 (ipykernel)",
   "language": "python",
   "name": "python3"
  },
  "language_info": {
   "codemirror_mode": {
    "name": "ipython",
    "version": 3
   },
   "file_extension": ".py",
   "mimetype": "text/x-python",
   "name": "python",
   "nbconvert_exporter": "python",
   "pygments_lexer": "ipython3",
   "version": "3.12.3"
  }
 },
 "nbformat": 4,
 "nbformat_minor": 5
}
