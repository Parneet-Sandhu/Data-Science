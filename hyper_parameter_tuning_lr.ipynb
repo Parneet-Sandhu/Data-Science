{
  "metadata": {
    "colab": {
      "provenance": []
    },
    "kernelspec": {
      "name": "python3",
      "display_name": "Python 3",
      "language": "python"
    },
    "language_info": {
      "name": "python",
      "version": "3.10.13",
      "mimetype": "text/x-python",
      "codemirror_mode": {
        "name": "ipython",
        "version": 3
      },
      "pygments_lexer": "ipython3",
      "nbconvert_exporter": "python",
      "file_extension": ".py"
    },
    "kaggle": {
      "accelerator": "none",
      "dataSources": [
        {
          "sourceId": 17777,
          "databundleVersionId": 869809,
          "sourceType": "competition"
        }
      ],
      "dockerImageVersionId": 30698,
      "isInternetEnabled": true,
      "language": "python",
      "sourceType": "notebook",
      "isGpuEnabled": false
    }
  },
  "nbformat_minor": 0,
  "nbformat": 4,
  "cells": [
    {
      "cell_type": "code",
      "source": [
        "from sklearn.linear_model import LogisticRegression\n",
        "from sklearn.metrics import accuracy_score\n",
        "from sklearn.feature_extraction.text import TfidfVectorizer\n",
        "from sklearn.model_selection import train_test_split , GridSearchCV\n",
        "import pandas as pd"
      ],
      "metadata": {
        "execution": {
          "iopub.status.busy": "2024-05-07T09:22:06.098803Z",
          "iopub.execute_input": "2024-05-07T09:22:06.099244Z",
          "iopub.status.idle": "2024-05-07T09:22:06.108845Z",
          "shell.execute_reply.started": "2024-05-07T09:22:06.099212Z",
          "shell.execute_reply": "2024-05-07T09:22:06.107621Z"
        },
        "trusted": true,
        "id": "LE-JMsZRjmQf"
      },
      "execution_count": null,
      "outputs": []
    },
    {
      "cell_type": "code",
      "source": [
        "train = pd.read_csv(\"/content/Clean_train.csv\")\n",
        "test = pd.read_csv(\"/content/Clean_test.csv\")"
      ],
      "metadata": {
        "execution": {
          "iopub.status.busy": "2024-05-07T09:22:06.110938Z",
          "iopub.execute_input": "2024-05-07T09:22:06.111640Z",
          "iopub.status.idle": "2024-05-07T09:22:06.150314Z",
          "shell.execute_reply.started": "2024-05-07T09:22:06.111600Z",
          "shell.execute_reply": "2024-05-07T09:22:06.149301Z"
        },
        "trusted": true,
        "id": "QDOOfktcjmQh"
      },
      "execution_count": null,
      "outputs": []
    },
    {
      "cell_type": "code",
      "source": [
        "x = train['text']\n",
        "y = train['target']\n",
        "xx_test = test[\"text\"]"
      ],
      "metadata": {
        "execution": {
          "iopub.status.busy": "2024-05-07T09:22:06.152095Z",
          "iopub.execute_input": "2024-05-07T09:22:06.152420Z",
          "iopub.status.idle": "2024-05-07T09:22:06.157606Z",
          "shell.execute_reply.started": "2024-05-07T09:22:06.152393Z",
          "shell.execute_reply": "2024-05-07T09:22:06.156616Z"
        },
        "trusted": true,
        "id": "kTOQHew2jmQh"
      },
      "execution_count": null,
      "outputs": []
    },
    {
      "cell_type": "code",
      "source": [
        "xx_test.isnull().sum()"
      ],
      "metadata": {
        "colab": {
          "base_uri": "https://localhost:8080/"
        },
        "id": "G1gZve3ypHja",
        "outputId": "ab95e702-63b5-421f-bef0-f19e933d3e27"
      },
      "execution_count": null,
      "outputs": [
        {
          "output_type": "execute_result",
          "data": {
            "text/plain": [
              "1"
            ]
          },
          "metadata": {},
          "execution_count": 50
        }
      ]
    },
    {
      "cell_type": "code",
      "source": [
        "xx_test.fillna('', inplace=True)"
      ],
      "metadata": {
        "id": "0VANtK2ppK_Q"
      },
      "execution_count": null,
      "outputs": []
    },
    {
      "cell_type": "code",
      "source": [
        "xx_test.isnull().sum()"
      ],
      "metadata": {
        "colab": {
          "base_uri": "https://localhost:8080/"
        },
        "id": "DTzkPIXQpO_B",
        "outputId": "fd9ef7eb-b7ac-4956-88a9-1adc7235503f"
      },
      "execution_count": null,
      "outputs": [
        {
          "output_type": "execute_result",
          "data": {
            "text/plain": [
              "0"
            ]
          },
          "metadata": {},
          "execution_count": 52
        }
      ]
    },
    {
      "cell_type": "code",
      "source": [
        "tfidf_vectorizer = TfidfVectorizer()"
      ],
      "metadata": {
        "execution": {
          "iopub.status.busy": "2024-05-07T09:22:06.158967Z",
          "iopub.execute_input": "2024-05-07T09:22:06.159615Z",
          "iopub.status.idle": "2024-05-07T09:22:06.171547Z",
          "shell.execute_reply.started": "2024-05-07T09:22:06.159586Z",
          "shell.execute_reply": "2024-05-07T09:22:06.170434Z"
        },
        "trusted": true,
        "id": "C-Burs3ujmQi"
      },
      "execution_count": null,
      "outputs": []
    },
    {
      "cell_type": "code",
      "source": [
        "x_tfidf = tfidf_vectorizer.fit_transform(x)\n",
        "x_test_tfidf = tfidf_vectorizer.transform(xx_test)"
      ],
      "metadata": {
        "execution": {
          "iopub.status.busy": "2024-05-07T09:22:06.173886Z",
          "iopub.execute_input": "2024-05-07T09:22:06.174257Z",
          "iopub.status.idle": "2024-05-07T09:22:06.367533Z",
          "shell.execute_reply.started": "2024-05-07T09:22:06.174229Z",
          "shell.execute_reply": "2024-05-07T09:22:06.366464Z"
        },
        "trusted": true,
        "id": "NYueoC4QjmQi"
      },
      "execution_count": null,
      "outputs": []
    },
    {
      "cell_type": "code",
      "source": [
        "x_train, x_test, y_train, y_test = train_test_split(x_tfidf,\n",
        "                                                    y,\n",
        "                                                    test_size=0.2,\n",
        "                                                    random_state=42 ,\n",
        "                                                    shuffle = True)"
      ],
      "metadata": {
        "execution": {
          "iopub.status.busy": "2024-05-07T09:22:06.368738Z",
          "iopub.execute_input": "2024-05-07T09:22:06.369031Z",
          "iopub.status.idle": "2024-05-07T09:22:06.377510Z",
          "shell.execute_reply.started": "2024-05-07T09:22:06.369007Z",
          "shell.execute_reply": "2024-05-07T09:22:06.376411Z"
        },
        "trusted": true,
        "id": "nmuSQBZcjmQi"
      },
      "execution_count": null,
      "outputs": []
    },
    {
      "cell_type": "code",
      "source": [
        "lr_model = LogisticRegression()"
      ],
      "metadata": {
        "execution": {
          "iopub.status.busy": "2024-05-07T09:22:06.378770Z",
          "iopub.execute_input": "2024-05-07T09:22:06.379146Z",
          "iopub.status.idle": "2024-05-07T09:22:06.385883Z",
          "shell.execute_reply.started": "2024-05-07T09:22:06.379099Z",
          "shell.execute_reply": "2024-05-07T09:22:06.385011Z"
        },
        "trusted": true,
        "id": "sFIG-exLjmQi"
      },
      "execution_count": null,
      "outputs": []
    },
    {
      "cell_type": "code",
      "source": [
        "# Define parameter grid for hyperparameter tuning\n",
        "param_grid = {\n",
        "    'C': [0.1, 1, 10],  # Inverse of regularization strength\n",
        "    'penalty': ['l1', 'l2'],  # Regularization type\n",
        "    'solver': ['liblinear', 'saga']\n",
        "}"
      ],
      "metadata": {
        "execution": {
          "iopub.status.busy": "2024-05-07T09:22:06.386998Z",
          "iopub.execute_input": "2024-05-07T09:22:06.387314Z",
          "iopub.status.idle": "2024-05-07T09:22:06.396093Z",
          "shell.execute_reply.started": "2024-05-07T09:22:06.387288Z",
          "shell.execute_reply": "2024-05-07T09:22:06.395090Z"
        },
        "trusted": true,
        "id": "pa-wVZvZjmQi"
      },
      "execution_count": null,
      "outputs": []
    },
    {
      "cell_type": "code",
      "source": [
        "# Initialize GridSearchCV\n",
        "grid_search = GridSearchCV(estimator=lr_model, param_grid=param_grid, cv=5, scoring='accuracy')"
      ],
      "metadata": {
        "execution": {
          "iopub.status.busy": "2024-05-07T09:22:06.397186Z",
          "iopub.execute_input": "2024-05-07T09:22:06.397486Z",
          "iopub.status.idle": "2024-05-07T09:22:06.406654Z",
          "shell.execute_reply.started": "2024-05-07T09:22:06.397461Z",
          "shell.execute_reply": "2024-05-07T09:22:06.405534Z"
        },
        "trusted": true,
        "id": "tRKX35mdjmQi"
      },
      "execution_count": null,
      "outputs": []
    },
    {
      "cell_type": "code",
      "source": [
        "grid_search.fit(x_train, y_train)"
      ],
      "metadata": {
        "execution": {
          "iopub.status.busy": "2024-05-07T09:22:06.407724Z",
          "iopub.execute_input": "2024-05-07T09:22:06.408098Z",
          "iopub.status.idle": "2024-05-07T09:23:42.444870Z",
          "shell.execute_reply.started": "2024-05-07T09:22:06.408037Z",
          "shell.execute_reply": "2024-05-07T09:23:42.443912Z"
        },
        "scrolled": true,
        "trusted": true,
        "colab": {
          "base_uri": "https://localhost:8080/",
          "height": 588
        },
        "id": "X5HSVGcpjmQj",
        "outputId": "a3a28399-de1a-4d6f-c8e0-3056cde6d3d9"
      },
      "execution_count": null,
      "outputs": [
        {
          "output_type": "stream",
          "name": "stderr",
          "text": [
            "/usr/local/lib/python3.10/dist-packages/sklearn/linear_model/_sag.py:350: ConvergenceWarning: The max_iter was reached which means the coef_ did not converge\n",
            "  warnings.warn(\n",
            "/usr/local/lib/python3.10/dist-packages/sklearn/svm/_base.py:1244: ConvergenceWarning: Liblinear failed to converge, increase the number of iterations.\n",
            "  warnings.warn(\n",
            "/usr/local/lib/python3.10/dist-packages/sklearn/svm/_base.py:1244: ConvergenceWarning: Liblinear failed to converge, increase the number of iterations.\n",
            "  warnings.warn(\n",
            "/usr/local/lib/python3.10/dist-packages/sklearn/svm/_base.py:1244: ConvergenceWarning: Liblinear failed to converge, increase the number of iterations.\n",
            "  warnings.warn(\n",
            "/usr/local/lib/python3.10/dist-packages/sklearn/svm/_base.py:1244: ConvergenceWarning: Liblinear failed to converge, increase the number of iterations.\n",
            "  warnings.warn(\n",
            "/usr/local/lib/python3.10/dist-packages/sklearn/linear_model/_sag.py:350: ConvergenceWarning: The max_iter was reached which means the coef_ did not converge\n",
            "  warnings.warn(\n",
            "/usr/local/lib/python3.10/dist-packages/sklearn/linear_model/_sag.py:350: ConvergenceWarning: The max_iter was reached which means the coef_ did not converge\n",
            "  warnings.warn(\n",
            "/usr/local/lib/python3.10/dist-packages/sklearn/linear_model/_sag.py:350: ConvergenceWarning: The max_iter was reached which means the coef_ did not converge\n",
            "  warnings.warn(\n",
            "/usr/local/lib/python3.10/dist-packages/sklearn/linear_model/_sag.py:350: ConvergenceWarning: The max_iter was reached which means the coef_ did not converge\n",
            "  warnings.warn(\n",
            "/usr/local/lib/python3.10/dist-packages/sklearn/linear_model/_sag.py:350: ConvergenceWarning: The max_iter was reached which means the coef_ did not converge\n",
            "  warnings.warn(\n",
            "/usr/local/lib/python3.10/dist-packages/sklearn/linear_model/_sag.py:350: ConvergenceWarning: The max_iter was reached which means the coef_ did not converge\n",
            "  warnings.warn(\n",
            "/usr/local/lib/python3.10/dist-packages/sklearn/linear_model/_sag.py:350: ConvergenceWarning: The max_iter was reached which means the coef_ did not converge\n",
            "  warnings.warn(\n",
            "/usr/local/lib/python3.10/dist-packages/sklearn/linear_model/_sag.py:350: ConvergenceWarning: The max_iter was reached which means the coef_ did not converge\n",
            "  warnings.warn(\n"
          ]
        },
        {
          "output_type": "execute_result",
          "data": {
            "text/plain": [
              "GridSearchCV(cv=5, estimator=LogisticRegression(),\n",
              "             param_grid={'C': [0.1, 1, 10], 'penalty': ['l1', 'l2'],\n",
              "                         'solver': ['liblinear', 'saga']},\n",
              "             scoring='accuracy')"
            ],
            "text/html": [
              "<style>#sk-container-id-3 {color: black;background-color: white;}#sk-container-id-3 pre{padding: 0;}#sk-container-id-3 div.sk-toggleable {background-color: white;}#sk-container-id-3 label.sk-toggleable__label {cursor: pointer;display: block;width: 100%;margin-bottom: 0;padding: 0.3em;box-sizing: border-box;text-align: center;}#sk-container-id-3 label.sk-toggleable__label-arrow:before {content: \"▸\";float: left;margin-right: 0.25em;color: #696969;}#sk-container-id-3 label.sk-toggleable__label-arrow:hover:before {color: black;}#sk-container-id-3 div.sk-estimator:hover label.sk-toggleable__label-arrow:before {color: black;}#sk-container-id-3 div.sk-toggleable__content {max-height: 0;max-width: 0;overflow: hidden;text-align: left;background-color: #f0f8ff;}#sk-container-id-3 div.sk-toggleable__content pre {margin: 0.2em;color: black;border-radius: 0.25em;background-color: #f0f8ff;}#sk-container-id-3 input.sk-toggleable__control:checked~div.sk-toggleable__content {max-height: 200px;max-width: 100%;overflow: auto;}#sk-container-id-3 input.sk-toggleable__control:checked~label.sk-toggleable__label-arrow:before {content: \"▾\";}#sk-container-id-3 div.sk-estimator input.sk-toggleable__control:checked~label.sk-toggleable__label {background-color: #d4ebff;}#sk-container-id-3 div.sk-label input.sk-toggleable__control:checked~label.sk-toggleable__label {background-color: #d4ebff;}#sk-container-id-3 input.sk-hidden--visually {border: 0;clip: rect(1px 1px 1px 1px);clip: rect(1px, 1px, 1px, 1px);height: 1px;margin: -1px;overflow: hidden;padding: 0;position: absolute;width: 1px;}#sk-container-id-3 div.sk-estimator {font-family: monospace;background-color: #f0f8ff;border: 1px dotted black;border-radius: 0.25em;box-sizing: border-box;margin-bottom: 0.5em;}#sk-container-id-3 div.sk-estimator:hover {background-color: #d4ebff;}#sk-container-id-3 div.sk-parallel-item::after {content: \"\";width: 100%;border-bottom: 1px solid gray;flex-grow: 1;}#sk-container-id-3 div.sk-label:hover label.sk-toggleable__label {background-color: #d4ebff;}#sk-container-id-3 div.sk-serial::before {content: \"\";position: absolute;border-left: 1px solid gray;box-sizing: border-box;top: 0;bottom: 0;left: 50%;z-index: 0;}#sk-container-id-3 div.sk-serial {display: flex;flex-direction: column;align-items: center;background-color: white;padding-right: 0.2em;padding-left: 0.2em;position: relative;}#sk-container-id-3 div.sk-item {position: relative;z-index: 1;}#sk-container-id-3 div.sk-parallel {display: flex;align-items: stretch;justify-content: center;background-color: white;position: relative;}#sk-container-id-3 div.sk-item::before, #sk-container-id-3 div.sk-parallel-item::before {content: \"\";position: absolute;border-left: 1px solid gray;box-sizing: border-box;top: 0;bottom: 0;left: 50%;z-index: -1;}#sk-container-id-3 div.sk-parallel-item {display: flex;flex-direction: column;z-index: 1;position: relative;background-color: white;}#sk-container-id-3 div.sk-parallel-item:first-child::after {align-self: flex-end;width: 50%;}#sk-container-id-3 div.sk-parallel-item:last-child::after {align-self: flex-start;width: 50%;}#sk-container-id-3 div.sk-parallel-item:only-child::after {width: 0;}#sk-container-id-3 div.sk-dashed-wrapped {border: 1px dashed gray;margin: 0 0.4em 0.5em 0.4em;box-sizing: border-box;padding-bottom: 0.4em;background-color: white;}#sk-container-id-3 div.sk-label label {font-family: monospace;font-weight: bold;display: inline-block;line-height: 1.2em;}#sk-container-id-3 div.sk-label-container {text-align: center;}#sk-container-id-3 div.sk-container {/* jupyter's `normalize.less` sets `[hidden] { display: none; }` but bootstrap.min.css set `[hidden] { display: none !important; }` so we also need the `!important` here to be able to override the default hidden behavior on the sphinx rendered scikit-learn.org. See: https://github.com/scikit-learn/scikit-learn/issues/21755 */display: inline-block !important;position: relative;}#sk-container-id-3 div.sk-text-repr-fallback {display: none;}</style><div id=\"sk-container-id-3\" class=\"sk-top-container\"><div class=\"sk-text-repr-fallback\"><pre>GridSearchCV(cv=5, estimator=LogisticRegression(),\n",
              "             param_grid={&#x27;C&#x27;: [0.1, 1, 10], &#x27;penalty&#x27;: [&#x27;l1&#x27;, &#x27;l2&#x27;],\n",
              "                         &#x27;solver&#x27;: [&#x27;liblinear&#x27;, &#x27;saga&#x27;]},\n",
              "             scoring=&#x27;accuracy&#x27;)</pre><b>In a Jupyter environment, please rerun this cell to show the HTML representation or trust the notebook. <br />On GitHub, the HTML representation is unable to render, please try loading this page with nbviewer.org.</b></div><div class=\"sk-container\" hidden><div class=\"sk-item sk-dashed-wrapped\"><div class=\"sk-label-container\"><div class=\"sk-label sk-toggleable\"><input class=\"sk-toggleable__control sk-hidden--visually\" id=\"sk-estimator-id-7\" type=\"checkbox\" ><label for=\"sk-estimator-id-7\" class=\"sk-toggleable__label sk-toggleable__label-arrow\">GridSearchCV</label><div class=\"sk-toggleable__content\"><pre>GridSearchCV(cv=5, estimator=LogisticRegression(),\n",
              "             param_grid={&#x27;C&#x27;: [0.1, 1, 10], &#x27;penalty&#x27;: [&#x27;l1&#x27;, &#x27;l2&#x27;],\n",
              "                         &#x27;solver&#x27;: [&#x27;liblinear&#x27;, &#x27;saga&#x27;]},\n",
              "             scoring=&#x27;accuracy&#x27;)</pre></div></div></div><div class=\"sk-parallel\"><div class=\"sk-parallel-item\"><div class=\"sk-item\"><div class=\"sk-label-container\"><div class=\"sk-label sk-toggleable\"><input class=\"sk-toggleable__control sk-hidden--visually\" id=\"sk-estimator-id-8\" type=\"checkbox\" ><label for=\"sk-estimator-id-8\" class=\"sk-toggleable__label sk-toggleable__label-arrow\">estimator: LogisticRegression</label><div class=\"sk-toggleable__content\"><pre>LogisticRegression()</pre></div></div></div><div class=\"sk-serial\"><div class=\"sk-item\"><div class=\"sk-estimator sk-toggleable\"><input class=\"sk-toggleable__control sk-hidden--visually\" id=\"sk-estimator-id-9\" type=\"checkbox\" ><label for=\"sk-estimator-id-9\" class=\"sk-toggleable__label sk-toggleable__label-arrow\">LogisticRegression</label><div class=\"sk-toggleable__content\"><pre>LogisticRegression()</pre></div></div></div></div></div></div></div></div></div></div>"
            ]
          },
          "metadata": {},
          "execution_count": 59
        }
      ]
    },
    {
      "cell_type": "code",
      "source": [
        "# Get the best parameters and best estimator\n",
        "best_params = grid_search.best_params_\n",
        "best_estimator = grid_search.best_estimator_"
      ],
      "metadata": {
        "execution": {
          "iopub.status.busy": "2024-05-07T09:23:42.447569Z",
          "iopub.execute_input": "2024-05-07T09:23:42.447889Z",
          "iopub.status.idle": "2024-05-07T09:23:42.455803Z",
          "shell.execute_reply.started": "2024-05-07T09:23:42.447862Z",
          "shell.execute_reply": "2024-05-07T09:23:42.454820Z"
        },
        "trusted": true,
        "id": "ANWsfzW0jmQj"
      },
      "execution_count": null,
      "outputs": []
    },
    {
      "cell_type": "code",
      "source": [
        "y_pred = best_estimator.predict(x_test)"
      ],
      "metadata": {
        "execution": {
          "iopub.status.busy": "2024-05-07T09:23:42.456884Z",
          "iopub.execute_input": "2024-05-07T09:23:42.457172Z",
          "iopub.status.idle": "2024-05-07T09:23:42.484883Z",
          "shell.execute_reply.started": "2024-05-07T09:23:42.457147Z",
          "shell.execute_reply": "2024-05-07T09:23:42.483998Z"
        },
        "trusted": true,
        "id": "UAjdqmkUjmQk"
      },
      "execution_count": null,
      "outputs": []
    },
    {
      "cell_type": "code",
      "source": [
        "accuracy = accuracy_score(y_test, y_pred)\n",
        "print(\"Accuracy of logistic regression after hyperparameter tuning:\", accuracy)\n",
        "print(\"Best Parameters:\", best_params)"
      ],
      "metadata": {
        "execution": {
          "iopub.status.busy": "2024-05-07T09:23:42.486052Z",
          "iopub.execute_input": "2024-05-07T09:23:42.486381Z",
          "iopub.status.idle": "2024-05-07T09:23:42.493284Z",
          "shell.execute_reply.started": "2024-05-07T09:23:42.486355Z",
          "shell.execute_reply": "2024-05-07T09:23:42.492341Z"
        },
        "trusted": true,
        "colab": {
          "base_uri": "https://localhost:8080/"
        },
        "id": "OlwPlMXBjmQk",
        "outputId": "a571e46b-aeb0-4e72-a1c4-3d87fc059f6c"
      },
      "execution_count": null,
      "outputs": [
        {
          "output_type": "stream",
          "name": "stdout",
          "text": [
            "Accuracy of logistic regression after hyperparameter tuning: 0.7905449770190414\n",
            "Best Parameters: {'C': 1, 'penalty': 'l2', 'solver': 'saga'}\n"
          ]
        }
      ]
    },
    {
      "cell_type": "code",
      "source": [
        "y_pred = best_estimator.predict(x_test_tfidf)\n",
        "\n",
        "submission7 = pd.DataFrame({\n",
        "    \"id\": test[\"id\"],\n",
        "    \"target\": y_pred\n",
        "})"
      ],
      "metadata": {
        "id": "JHZ0J2hnp90-"
      },
      "execution_count": null,
      "outputs": []
    },
    {
      "cell_type": "code",
      "source": [
        "submission7.to_csv(\"Submission7.csv\", index=False)"
      ],
      "metadata": {
        "id": "yfbGrcZUqI0q"
      },
      "execution_count": null,
      "outputs": []
    }
  ]
}