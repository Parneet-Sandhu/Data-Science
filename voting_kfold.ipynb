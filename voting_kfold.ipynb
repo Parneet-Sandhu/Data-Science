{
 "cells": [
  {
   "cell_type": "code",
   "execution_count": null,
   "metadata": {
    "execution": {
     "iopub.execute_input": "2024-05-07T09:12:03.820736Z",
     "iopub.status.busy": "2024-05-07T09:12:03.820050Z",
     "iopub.status.idle": "2024-05-07T09:12:07.258174Z",
     "shell.execute_reply": "2024-05-07T09:12:07.257129Z",
     "shell.execute_reply.started": "2024-05-07T09:12:03.820701Z"
    },
    "id": "fuOD67C3UlDW"
   },
   "outputs": [],
   "source": [
    "from sklearn.model_selection import KFold\n",
    "from sklearn.ensemble import RandomForestClassifier , VotingClassifier\n",
    "from lightgbm import LGBMClassifier\n",
    "from sklearn.metrics import accuracy_score\n",
    "from sklearn.feature_extraction.text import TfidfVectorizer\n",
    "from sklearn.model_selection import train_test_split\n",
    "import pandas as pd"
   ]
  },
  {
   "cell_type": "code",
   "execution_count": null,
   "metadata": {
    "execution": {
     "iopub.execute_input": "2024-05-07T09:12:07.260507Z",
     "iopub.status.busy": "2024-05-07T09:12:07.260016Z",
     "iopub.status.idle": "2024-05-07T09:12:07.311569Z",
     "shell.execute_reply": "2024-05-07T09:12:07.310516Z",
     "shell.execute_reply.started": "2024-05-07T09:12:07.260477Z"
    },
    "id": "HQ8KnQuIUlDX"
   },
   "outputs": [],
   "source": [
    "df = pd.read_csv(\"/content/Clean_train.csv\")"
   ]
  },
  {
   "cell_type": "code",
   "execution_count": null,
   "metadata": {
    "execution": {
     "iopub.execute_input": "2024-05-07T09:12:07.313237Z",
     "iopub.status.busy": "2024-05-07T09:12:07.312894Z",
     "iopub.status.idle": "2024-05-07T09:12:07.321878Z",
     "shell.execute_reply": "2024-05-07T09:12:07.320850Z",
     "shell.execute_reply.started": "2024-05-07T09:12:07.313209Z"
    },
    "id": "D5nwFRzeUlDX"
   },
   "outputs": [],
   "source": [
    "x = df['text']\n",
    "y = df['target']"
   ]
  },
  {
   "cell_type": "code",
   "execution_count": null,
   "metadata": {
    "execution": {
     "iopub.execute_input": "2024-05-07T09:12:07.323476Z",
     "iopub.status.busy": "2024-05-07T09:12:07.323163Z",
     "iopub.status.idle": "2024-05-07T09:12:07.331585Z",
     "shell.execute_reply": "2024-05-07T09:12:07.330689Z",
     "shell.execute_reply.started": "2024-05-07T09:12:07.323451Z"
    },
    "id": "JjKIizieUlDX"
   },
   "outputs": [],
   "source": [
    "tfidf_vectorizer = TfidfVectorizer()"
   ]
  },
  {
   "cell_type": "code",
   "execution_count": null,
   "metadata": {
    "execution": {
     "iopub.execute_input": "2024-05-07T09:12:07.334243Z",
     "iopub.status.busy": "2024-05-07T09:12:07.333897Z",
     "iopub.status.idle": "2024-05-07T09:12:07.532221Z",
     "shell.execute_reply": "2024-05-07T09:12:07.530926Z",
     "shell.execute_reply.started": "2024-05-07T09:12:07.334215Z"
    },
    "id": "Hvu5swGqUlDX"
   },
   "outputs": [],
   "source": [
    "x_tfidf = tfidf_vectorizer.fit_transform(x)"
   ]
  },
  {
   "cell_type": "code",
   "execution_count": null,
   "metadata": {
    "execution": {
     "iopub.execute_input": "2024-05-07T09:12:07.534566Z",
     "iopub.status.busy": "2024-05-07T09:12:07.533666Z",
     "iopub.status.idle": "2024-05-07T09:12:07.546869Z",
     "shell.execute_reply": "2024-05-07T09:12:07.545849Z",
     "shell.execute_reply.started": "2024-05-07T09:12:07.534525Z"
    },
    "id": "Zrj9DFfrUlDX"
   },
   "outputs": [],
   "source": [
    "x_train, x_test, y_train, y_test = train_test_split(x_tfidf,\n",
    "                                                    y,\n",
    "                                                    test_size=0.2,\n",
    "                                                    random_state=42 ,\n",
    "                                                    shuffle = True)"
   ]
  },
  {
   "cell_type": "code",
   "execution_count": null,
   "metadata": {
    "execution": {
     "iopub.execute_input": "2024-05-07T09:12:07.548499Z",
     "iopub.status.busy": "2024-05-07T09:12:07.548169Z",
     "iopub.status.idle": "2024-05-07T09:12:07.553505Z",
     "shell.execute_reply": "2024-05-07T09:12:07.552572Z",
     "shell.execute_reply.started": "2024-05-07T09:12:07.548472Z"
    },
    "id": "etnxOlWMUlDX"
   },
   "outputs": [],
   "source": [
    "rf_model = RandomForestClassifier(n_estimators=100,\n",
    "                                  random_state=42)\n",
    "lgbm_model = LGBMClassifier(n_estimators=100,\n",
    "                            random_state=42)"
   ]
  },
  {
   "cell_type": "code",
   "execution_count": null,
   "metadata": {
    "execution": {
     "iopub.execute_input": "2024-05-07T09:12:07.554883Z",
     "iopub.status.busy": "2024-05-07T09:12:07.554613Z",
     "iopub.status.idle": "2024-05-07T09:12:07.562915Z",
     "shell.execute_reply": "2024-05-07T09:12:07.561872Z",
     "shell.execute_reply.started": "2024-05-07T09:12:07.554859Z"
    },
    "id": "gLIuHmoBUlDY"
   },
   "outputs": [],
   "source": [
    "voting_model = VotingClassifier(\n",
    "    estimators=[('rf', rf_model), ('lgbm', lgbm_model)],\n",
    "    voting='soft'  # Use can also use hard voting voting = 'hard'\n",
    ")"
   ]
  },
  {
   "cell_type": "code",
   "execution_count": null,
   "metadata": {
    "execution": {
     "iopub.execute_input": "2024-05-07T09:12:07.564548Z",
     "iopub.status.busy": "2024-05-07T09:12:07.564212Z",
     "iopub.status.idle": "2024-05-07T09:12:07.573426Z",
     "shell.execute_reply": "2024-05-07T09:12:07.572349Z",
     "shell.execute_reply.started": "2024-05-07T09:12:07.564521Z"
    },
    "id": "P6CMoWOsUlDY"
   },
   "outputs": [],
   "source": [
    "kf = KFold(n_splits=5, shuffle=True, random_state=42)"
   ]
  },
  {
   "cell_type": "code",
   "execution_count": null,
   "metadata": {
    "colab": {
     "base_uri": "https://localhost:8080/"
    },
    "execution": {
     "iopub.execute_input": "2024-05-07T09:12:07.574760Z",
     "iopub.status.busy": "2024-05-07T09:12:07.574471Z",
     "iopub.status.idle": "2024-05-07T09:13:23.766578Z",
     "shell.execute_reply": "2024-05-07T09:13:23.765665Z",
     "shell.execute_reply.started": "2024-05-07T09:12:07.574734Z"
    },
    "id": "NXfbU4uGUlDY",
    "outputId": "f23c9fbf-086a-44b9-9a36-39cdc39c281f"
   },
   "outputs": [
    {
     "name": "stdout",
     "output_type": "stream",
     "text": [
      "[LightGBM] [Info] Number of positive: 2107, number of negative: 2765\n",
      "[LightGBM] [Info] Auto-choosing row-wise multi-threading, the overhead of testing was 0.013967 seconds.\n",
      "You can set `force_row_wise=true` to remove the overhead.\n",
      "And if memory is not enough, you can set `force_col_wise=true`.\n",
      "[LightGBM] [Info] Total Bins 6625\n",
      "[LightGBM] [Info] Number of data points in the train set: 4872, number of used features: 443\n",
      "[LightGBM] [Info] [binary:BoostFromScore]: pavg=0.432471 -> initscore=-0.271776\n",
      "[LightGBM] [Info] Start training from score -0.271776\n",
      "[LightGBM] [Info] Number of positive: 2055, number of negative: 2817\n",
      "[LightGBM] [Info] Auto-choosing row-wise multi-threading, the overhead of testing was 0.014211 seconds.\n",
      "You can set `force_row_wise=true` to remove the overhead.\n",
      "And if memory is not enough, you can set `force_col_wise=true`.\n",
      "[LightGBM] [Info] Total Bins 6637\n",
      "[LightGBM] [Info] Number of data points in the train set: 4872, number of used features: 448\n",
      "[LightGBM] [Info] [binary:BoostFromScore]: pavg=0.421798 -> initscore=-0.315397\n",
      "[LightGBM] [Info] Start training from score -0.315397\n",
      "[LightGBM] [Info] Number of positive: 2131, number of negative: 2741\n",
      "[LightGBM] [Info] Auto-choosing row-wise multi-threading, the overhead of testing was 0.014419 seconds.\n",
      "You can set `force_row_wise=true` to remove the overhead.\n",
      "And if memory is not enough, you can set `force_col_wise=true`.\n",
      "[LightGBM] [Info] Total Bins 6659\n",
      "[LightGBM] [Info] Number of data points in the train set: 4872, number of used features: 457\n",
      "[LightGBM] [Info] [binary:BoostFromScore]: pavg=0.437397 -> initscore=-0.251731\n",
      "[LightGBM] [Info] Start training from score -0.251731\n",
      "[LightGBM] [Info] Number of positive: 2099, number of negative: 2773\n",
      "[LightGBM] [Info] Auto-choosing col-wise multi-threading, the overhead of testing was 0.013416 seconds.\n",
      "You can set `force_col_wise=true` to remove the overhead.\n",
      "[LightGBM] [Info] Total Bins 6565\n",
      "[LightGBM] [Info] Number of data points in the train set: 4872, number of used features: 445\n",
      "[LightGBM] [Info] [binary:BoostFromScore]: pavg=0.430829 -> initscore=-0.278469\n",
      "[LightGBM] [Info] Start training from score -0.278469\n",
      "[LightGBM] [Info] Number of positive: 2096, number of negative: 2776\n",
      "[LightGBM] [Info] Auto-choosing col-wise multi-threading, the overhead of testing was 0.014163 seconds.\n",
      "You can set `force_col_wise=true` to remove the overhead.\n",
      "[LightGBM] [Info] Total Bins 6637\n",
      "[LightGBM] [Info] Number of data points in the train set: 4872, number of used features: 443\n",
      "[LightGBM] [Info] [binary:BoostFromScore]: pavg=0.430213 -> initscore=-0.280980\n",
      "[LightGBM] [Info] Start training from score -0.280980\n"
     ]
    }
   ],
   "source": [
    "# Perform k-fold cross-validation\n",
    "accuracy_scores = []\n",
    "\n",
    "for train_index, test_index in kf.split(x_train):\n",
    "    x_train_fold, x_val_fold = x_train[train_index], x_train[test_index]\n",
    "    y_train_fold, y_val_fold = y_train.iloc[train_index], y_train.iloc[test_index]\n",
    "\n",
    "    voting_model.fit(x_train_fold, y_train_fold)\n",
    "\n",
    "    y_pred_voting = voting_model.predict(x_val_fold)\n",
    "\n",
    "    accuracy_fold = accuracy_score(y_val_fold, y_pred_voting)\n",
    "    accuracy_scores.append(accuracy_fold)"
   ]
  },
  {
   "cell_type": "code",
   "execution_count": null,
   "metadata": {
    "colab": {
     "base_uri": "https://localhost:8080/"
    },
    "execution": {
     "iopub.execute_input": "2024-05-07T09:13:23.768061Z",
     "iopub.status.busy": "2024-05-07T09:13:23.767747Z",
     "iopub.status.idle": "2024-05-07T09:13:23.773402Z",
     "shell.execute_reply": "2024-05-07T09:13:23.772418Z",
     "shell.execute_reply.started": "2024-05-07T09:13:23.768035Z"
    },
    "id": "-KBknEQ6UlDY",
    "outputId": "b4667477-1a0d-4c3d-dc74-727ffe4b7c0c"
   },
   "outputs": [
    {
     "name": "stdout",
     "output_type": "stream",
     "text": [
      "Mean Accuracy of Voting Classifier with 5-fold cross-validation: 0.7786535303776684\n"
     ]
    }
   ],
   "source": [
    "mean_accuracy = sum(accuracy_scores) / len(accuracy_scores)\n",
    "print(\"Mean Accuracy of Voting Classifier with 5-fold cross-validation:\", mean_accuracy)"
   ]
  }
 ],
 "metadata": {
  "colab": {
   "provenance": []
  },
  "kaggle": {
   "accelerator": "none",
   "dataSources": [
    {
     "databundleVersionId": 869809,
     "sourceId": 17777,
     "sourceType": "competition"
    }
   ],
   "dockerImageVersionId": 30698,
   "isGpuEnabled": false,
   "isInternetEnabled": true,
   "language": "python",
   "sourceType": "notebook"
  },
  "kernelspec": {
   "display_name": "Python 3 (ipykernel)",
   "language": "python",
   "name": "python3"
  },
  "language_info": {
   "codemirror_mode": {
    "name": "ipython",
    "version": 3
   },
   "file_extension": ".py",
   "mimetype": "text/x-python",
   "name": "python",
   "nbconvert_exporter": "python",
   "pygments_lexer": "ipython3",
   "version": "3.12.3"
  }
 },
 "nbformat": 4,
 "nbformat_minor": 4
}
