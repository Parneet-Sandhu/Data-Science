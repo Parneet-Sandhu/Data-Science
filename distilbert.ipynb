{
  "metadata": {
    "kernelspec": {
      "display_name": "Python 3",
      "name": "python3"
    },
    "language_info": {
      "name": "python",
      "version": "3.10.13",
      "mimetype": "text/x-python",
      "codemirror_mode": {
        "name": "ipython",
        "version": 3
      },
      "pygments_lexer": "ipython3",
      "nbconvert_exporter": "python",
      "file_extension": ".py"
    },
    "kaggle": {
      "accelerator": "gpu",
      "dataSources": [
        {
          "sourceId": 7919645,
          "sourceType": "datasetVersion",
          "datasetId": 4653755
        },
        {
          "sourceId": 7934237,
          "sourceType": "datasetVersion",
          "datasetId": 4663945
        },
        {
          "sourceId": 7971075,
          "sourceType": "datasetVersion",
          "datasetId": 4687233
        },
        {
          "sourceId": 7971762,
          "sourceType": "datasetVersion",
          "datasetId": 4690784
        }
      ],
      "dockerImageVersionId": 30673,
      "isInternetEnabled": true,
      "language": "python",
      "sourceType": "notebook",
      "isGpuEnabled": true
    },
    "colab": {
      "provenance": [],
      "gpuType": "T4"
    },
    "accelerator": "GPU",
    "widgets": {
      "application/vnd.jupyter.widget-state+json": {
        "51c437d0112f468e9e366dd25900b985": {
          "model_module": "@jupyter-widgets/controls",
          "model_name": "HBoxModel",
          "model_module_version": "1.5.0",
          "state": {
            "_dom_classes": [],
            "_model_module": "@jupyter-widgets/controls",
            "_model_module_version": "1.5.0",
            "_model_name": "HBoxModel",
            "_view_count": null,
            "_view_module": "@jupyter-widgets/controls",
            "_view_module_version": "1.5.0",
            "_view_name": "HBoxView",
            "box_style": "",
            "children": [
              "IPY_MODEL_44625d6ec15049a886e8aebd9799f739",
              "IPY_MODEL_e783bcfbc0ff4b5684abc5a6110a04c7",
              "IPY_MODEL_2c413c7c464d472592a1c5b4f6dd737b"
            ],
            "layout": "IPY_MODEL_e25c0e00ca624aeca26fd2f358f6354d"
          }
        },
        "44625d6ec15049a886e8aebd9799f739": {
          "model_module": "@jupyter-widgets/controls",
          "model_name": "HTMLModel",
          "model_module_version": "1.5.0",
          "state": {
            "_dom_classes": [],
            "_model_module": "@jupyter-widgets/controls",
            "_model_module_version": "1.5.0",
            "_model_name": "HTMLModel",
            "_view_count": null,
            "_view_module": "@jupyter-widgets/controls",
            "_view_module_version": "1.5.0",
            "_view_name": "HTMLView",
            "description": "",
            "description_tooltip": null,
            "layout": "IPY_MODEL_db5d0baa1b67451d8ce8e78f4c32e47d",
            "placeholder": "​",
            "style": "IPY_MODEL_87721adc407d4bd4b5dd38d50a11d714",
            "value": "Map: 100%"
          }
        },
        "e783bcfbc0ff4b5684abc5a6110a04c7": {
          "model_module": "@jupyter-widgets/controls",
          "model_name": "FloatProgressModel",
          "model_module_version": "1.5.0",
          "state": {
            "_dom_classes": [],
            "_model_module": "@jupyter-widgets/controls",
            "_model_module_version": "1.5.0",
            "_model_name": "FloatProgressModel",
            "_view_count": null,
            "_view_module": "@jupyter-widgets/controls",
            "_view_module_version": "1.5.0",
            "_view_name": "ProgressView",
            "bar_style": "success",
            "description": "",
            "description_tooltip": null,
            "layout": "IPY_MODEL_a97df82a7ea94484a96b68c998692e78",
            "max": 39532,
            "min": 0,
            "orientation": "horizontal",
            "style": "IPY_MODEL_6da261567a88419fa887d84df75cdf06",
            "value": 39532
          }
        },
        "2c413c7c464d472592a1c5b4f6dd737b": {
          "model_module": "@jupyter-widgets/controls",
          "model_name": "HTMLModel",
          "model_module_version": "1.5.0",
          "state": {
            "_dom_classes": [],
            "_model_module": "@jupyter-widgets/controls",
            "_model_module_version": "1.5.0",
            "_model_name": "HTMLModel",
            "_view_count": null,
            "_view_module": "@jupyter-widgets/controls",
            "_view_module_version": "1.5.0",
            "_view_name": "HTMLView",
            "description": "",
            "description_tooltip": null,
            "layout": "IPY_MODEL_0f2de8733064430398f860a43c2a242c",
            "placeholder": "​",
            "style": "IPY_MODEL_2e1d66468c224bd1b77b4e5cc80b5f3e",
            "value": " 39532/39532 [00:34&lt;00:00, 1280.87 examples/s]"
          }
        },
        "e25c0e00ca624aeca26fd2f358f6354d": {
          "model_module": "@jupyter-widgets/base",
          "model_name": "LayoutModel",
          "model_module_version": "1.2.0",
          "state": {
            "_model_module": "@jupyter-widgets/base",
            "_model_module_version": "1.2.0",
            "_model_name": "LayoutModel",
            "_view_count": null,
            "_view_module": "@jupyter-widgets/base",
            "_view_module_version": "1.2.0",
            "_view_name": "LayoutView",
            "align_content": null,
            "align_items": null,
            "align_self": null,
            "border": null,
            "bottom": null,
            "display": null,
            "flex": null,
            "flex_flow": null,
            "grid_area": null,
            "grid_auto_columns": null,
            "grid_auto_flow": null,
            "grid_auto_rows": null,
            "grid_column": null,
            "grid_gap": null,
            "grid_row": null,
            "grid_template_areas": null,
            "grid_template_columns": null,
            "grid_template_rows": null,
            "height": null,
            "justify_content": null,
            "justify_items": null,
            "left": null,
            "margin": null,
            "max_height": null,
            "max_width": null,
            "min_height": null,
            "min_width": null,
            "object_fit": null,
            "object_position": null,
            "order": null,
            "overflow": null,
            "overflow_x": null,
            "overflow_y": null,
            "padding": null,
            "right": null,
            "top": null,
            "visibility": null,
            "width": null
          }
        },
        "db5d0baa1b67451d8ce8e78f4c32e47d": {
          "model_module": "@jupyter-widgets/base",
          "model_name": "LayoutModel",
          "model_module_version": "1.2.0",
          "state": {
            "_model_module": "@jupyter-widgets/base",
            "_model_module_version": "1.2.0",
            "_model_name": "LayoutModel",
            "_view_count": null,
            "_view_module": "@jupyter-widgets/base",
            "_view_module_version": "1.2.0",
            "_view_name": "LayoutView",
            "align_content": null,
            "align_items": null,
            "align_self": null,
            "border": null,
            "bottom": null,
            "display": null,
            "flex": null,
            "flex_flow": null,
            "grid_area": null,
            "grid_auto_columns": null,
            "grid_auto_flow": null,
            "grid_auto_rows": null,
            "grid_column": null,
            "grid_gap": null,
            "grid_row": null,
            "grid_template_areas": null,
            "grid_template_columns": null,
            "grid_template_rows": null,
            "height": null,
            "justify_content": null,
            "justify_items": null,
            "left": null,
            "margin": null,
            "max_height": null,
            "max_width": null,
            "min_height": null,
            "min_width": null,
            "object_fit": null,
            "object_position": null,
            "order": null,
            "overflow": null,
            "overflow_x": null,
            "overflow_y": null,
            "padding": null,
            "right": null,
            "top": null,
            "visibility": null,
            "width": null
          }
        },
        "87721adc407d4bd4b5dd38d50a11d714": {
          "model_module": "@jupyter-widgets/controls",
          "model_name": "DescriptionStyleModel",
          "model_module_version": "1.5.0",
          "state": {
            "_model_module": "@jupyter-widgets/controls",
            "_model_module_version": "1.5.0",
            "_model_name": "DescriptionStyleModel",
            "_view_count": null,
            "_view_module": "@jupyter-widgets/base",
            "_view_module_version": "1.2.0",
            "_view_name": "StyleView",
            "description_width": ""
          }
        },
        "a97df82a7ea94484a96b68c998692e78": {
          "model_module": "@jupyter-widgets/base",
          "model_name": "LayoutModel",
          "model_module_version": "1.2.0",
          "state": {
            "_model_module": "@jupyter-widgets/base",
            "_model_module_version": "1.2.0",
            "_model_name": "LayoutModel",
            "_view_count": null,
            "_view_module": "@jupyter-widgets/base",
            "_view_module_version": "1.2.0",
            "_view_name": "LayoutView",
            "align_content": null,
            "align_items": null,
            "align_self": null,
            "border": null,
            "bottom": null,
            "display": null,
            "flex": null,
            "flex_flow": null,
            "grid_area": null,
            "grid_auto_columns": null,
            "grid_auto_flow": null,
            "grid_auto_rows": null,
            "grid_column": null,
            "grid_gap": null,
            "grid_row": null,
            "grid_template_areas": null,
            "grid_template_columns": null,
            "grid_template_rows": null,
            "height": null,
            "justify_content": null,
            "justify_items": null,
            "left": null,
            "margin": null,
            "max_height": null,
            "max_width": null,
            "min_height": null,
            "min_width": null,
            "object_fit": null,
            "object_position": null,
            "order": null,
            "overflow": null,
            "overflow_x": null,
            "overflow_y": null,
            "padding": null,
            "right": null,
            "top": null,
            "visibility": null,
            "width": null
          }
        },
        "6da261567a88419fa887d84df75cdf06": {
          "model_module": "@jupyter-widgets/controls",
          "model_name": "ProgressStyleModel",
          "model_module_version": "1.5.0",
          "state": {
            "_model_module": "@jupyter-widgets/controls",
            "_model_module_version": "1.5.0",
            "_model_name": "ProgressStyleModel",
            "_view_count": null,
            "_view_module": "@jupyter-widgets/base",
            "_view_module_version": "1.2.0",
            "_view_name": "StyleView",
            "bar_color": null,
            "description_width": ""
          }
        },
        "0f2de8733064430398f860a43c2a242c": {
          "model_module": "@jupyter-widgets/base",
          "model_name": "LayoutModel",
          "model_module_version": "1.2.0",
          "state": {
            "_model_module": "@jupyter-widgets/base",
            "_model_module_version": "1.2.0",
            "_model_name": "LayoutModel",
            "_view_count": null,
            "_view_module": "@jupyter-widgets/base",
            "_view_module_version": "1.2.0",
            "_view_name": "LayoutView",
            "align_content": null,
            "align_items": null,
            "align_self": null,
            "border": null,
            "bottom": null,
            "display": null,
            "flex": null,
            "flex_flow": null,
            "grid_area": null,
            "grid_auto_columns": null,
            "grid_auto_flow": null,
            "grid_auto_rows": null,
            "grid_column": null,
            "grid_gap": null,
            "grid_row": null,
            "grid_template_areas": null,
            "grid_template_columns": null,
            "grid_template_rows": null,
            "height": null,
            "justify_content": null,
            "justify_items": null,
            "left": null,
            "margin": null,
            "max_height": null,
            "max_width": null,
            "min_height": null,
            "min_width": null,
            "object_fit": null,
            "object_position": null,
            "order": null,
            "overflow": null,
            "overflow_x": null,
            "overflow_y": null,
            "padding": null,
            "right": null,
            "top": null,
            "visibility": null,
            "width": null
          }
        },
        "2e1d66468c224bd1b77b4e5cc80b5f3e": {
          "model_module": "@jupyter-widgets/controls",
          "model_name": "DescriptionStyleModel",
          "model_module_version": "1.5.0",
          "state": {
            "_model_module": "@jupyter-widgets/controls",
            "_model_module_version": "1.5.0",
            "_model_name": "DescriptionStyleModel",
            "_view_count": null,
            "_view_module": "@jupyter-widgets/base",
            "_view_module_version": "1.2.0",
            "_view_name": "StyleView",
            "description_width": ""
          }
        },
        "4282f80f56ed4ac5a645a370add64200": {
          "model_module": "@jupyter-widgets/controls",
          "model_name": "HBoxModel",
          "model_module_version": "1.5.0",
          "state": {
            "_dom_classes": [],
            "_model_module": "@jupyter-widgets/controls",
            "_model_module_version": "1.5.0",
            "_model_name": "HBoxModel",
            "_view_count": null,
            "_view_module": "@jupyter-widgets/controls",
            "_view_module_version": "1.5.0",
            "_view_name": "HBoxView",
            "box_style": "",
            "children": [
              "IPY_MODEL_947247efc8c1402dbe2f16c293bb8081",
              "IPY_MODEL_21a1b1da599f438eb3b2768f27274c1d",
              "IPY_MODEL_61301d27641b47ebabd7ae394708556f"
            ],
            "layout": "IPY_MODEL_d833d11b990d4cfea040aa51f08b95b4"
          }
        },
        "947247efc8c1402dbe2f16c293bb8081": {
          "model_module": "@jupyter-widgets/controls",
          "model_name": "HTMLModel",
          "model_module_version": "1.5.0",
          "state": {
            "_dom_classes": [],
            "_model_module": "@jupyter-widgets/controls",
            "_model_module_version": "1.5.0",
            "_model_name": "HTMLModel",
            "_view_count": null,
            "_view_module": "@jupyter-widgets/controls",
            "_view_module_version": "1.5.0",
            "_view_name": "HTMLView",
            "description": "",
            "description_tooltip": null,
            "layout": "IPY_MODEL_ba7b7ebfa94148bdaefefef0f02c9e37",
            "placeholder": "​",
            "style": "IPY_MODEL_e6eb4b04755b4445aa82ee0ef06184c8",
            "value": "Map: 100%"
          }
        },
        "21a1b1da599f438eb3b2768f27274c1d": {
          "model_module": "@jupyter-widgets/controls",
          "model_name": "FloatProgressModel",
          "model_module_version": "1.5.0",
          "state": {
            "_dom_classes": [],
            "_model_module": "@jupyter-widgets/controls",
            "_model_module_version": "1.5.0",
            "_model_name": "FloatProgressModel",
            "_view_count": null,
            "_view_module": "@jupyter-widgets/controls",
            "_view_module_version": "1.5.0",
            "_view_name": "ProgressView",
            "bar_style": "success",
            "description": "",
            "description_tooltip": null,
            "layout": "IPY_MODEL_260c9cf8034c4aa8a8094ef95105c35c",
            "max": 16943,
            "min": 0,
            "orientation": "horizontal",
            "style": "IPY_MODEL_bb9f64461ff548328a8e2245f08357b9",
            "value": 16943
          }
        },
        "61301d27641b47ebabd7ae394708556f": {
          "model_module": "@jupyter-widgets/controls",
          "model_name": "HTMLModel",
          "model_module_version": "1.5.0",
          "state": {
            "_dom_classes": [],
            "_model_module": "@jupyter-widgets/controls",
            "_model_module_version": "1.5.0",
            "_model_name": "HTMLModel",
            "_view_count": null,
            "_view_module": "@jupyter-widgets/controls",
            "_view_module_version": "1.5.0",
            "_view_name": "HTMLView",
            "description": "",
            "description_tooltip": null,
            "layout": "IPY_MODEL_53acb77a7ee24caf84d16462e4514c16",
            "placeholder": "​",
            "style": "IPY_MODEL_20820c8c555e447ca81a509edcf42d57",
            "value": " 16943/16943 [00:14&lt;00:00, 984.23 examples/s]"
          }
        },
        "d833d11b990d4cfea040aa51f08b95b4": {
          "model_module": "@jupyter-widgets/base",
          "model_name": "LayoutModel",
          "model_module_version": "1.2.0",
          "state": {
            "_model_module": "@jupyter-widgets/base",
            "_model_module_version": "1.2.0",
            "_model_name": "LayoutModel",
            "_view_count": null,
            "_view_module": "@jupyter-widgets/base",
            "_view_module_version": "1.2.0",
            "_view_name": "LayoutView",
            "align_content": null,
            "align_items": null,
            "align_self": null,
            "border": null,
            "bottom": null,
            "display": null,
            "flex": null,
            "flex_flow": null,
            "grid_area": null,
            "grid_auto_columns": null,
            "grid_auto_flow": null,
            "grid_auto_rows": null,
            "grid_column": null,
            "grid_gap": null,
            "grid_row": null,
            "grid_template_areas": null,
            "grid_template_columns": null,
            "grid_template_rows": null,
            "height": null,
            "justify_content": null,
            "justify_items": null,
            "left": null,
            "margin": null,
            "max_height": null,
            "max_width": null,
            "min_height": null,
            "min_width": null,
            "object_fit": null,
            "object_position": null,
            "order": null,
            "overflow": null,
            "overflow_x": null,
            "overflow_y": null,
            "padding": null,
            "right": null,
            "top": null,
            "visibility": null,
            "width": null
          }
        },
        "ba7b7ebfa94148bdaefefef0f02c9e37": {
          "model_module": "@jupyter-widgets/base",
          "model_name": "LayoutModel",
          "model_module_version": "1.2.0",
          "state": {
            "_model_module": "@jupyter-widgets/base",
            "_model_module_version": "1.2.0",
            "_model_name": "LayoutModel",
            "_view_count": null,
            "_view_module": "@jupyter-widgets/base",
            "_view_module_version": "1.2.0",
            "_view_name": "LayoutView",
            "align_content": null,
            "align_items": null,
            "align_self": null,
            "border": null,
            "bottom": null,
            "display": null,
            "flex": null,
            "flex_flow": null,
            "grid_area": null,
            "grid_auto_columns": null,
            "grid_auto_flow": null,
            "grid_auto_rows": null,
            "grid_column": null,
            "grid_gap": null,
            "grid_row": null,
            "grid_template_areas": null,
            "grid_template_columns": null,
            "grid_template_rows": null,
            "height": null,
            "justify_content": null,
            "justify_items": null,
            "left": null,
            "margin": null,
            "max_height": null,
            "max_width": null,
            "min_height": null,
            "min_width": null,
            "object_fit": null,
            "object_position": null,
            "order": null,
            "overflow": null,
            "overflow_x": null,
            "overflow_y": null,
            "padding": null,
            "right": null,
            "top": null,
            "visibility": null,
            "width": null
          }
        },
        "e6eb4b04755b4445aa82ee0ef06184c8": {
          "model_module": "@jupyter-widgets/controls",
          "model_name": "DescriptionStyleModel",
          "model_module_version": "1.5.0",
          "state": {
            "_model_module": "@jupyter-widgets/controls",
            "_model_module_version": "1.5.0",
            "_model_name": "DescriptionStyleModel",
            "_view_count": null,
            "_view_module": "@jupyter-widgets/base",
            "_view_module_version": "1.2.0",
            "_view_name": "StyleView",
            "description_width": ""
          }
        },
        "260c9cf8034c4aa8a8094ef95105c35c": {
          "model_module": "@jupyter-widgets/base",
          "model_name": "LayoutModel",
          "model_module_version": "1.2.0",
          "state": {
            "_model_module": "@jupyter-widgets/base",
            "_model_module_version": "1.2.0",
            "_model_name": "LayoutModel",
            "_view_count": null,
            "_view_module": "@jupyter-widgets/base",
            "_view_module_version": "1.2.0",
            "_view_name": "LayoutView",
            "align_content": null,
            "align_items": null,
            "align_self": null,
            "border": null,
            "bottom": null,
            "display": null,
            "flex": null,
            "flex_flow": null,
            "grid_area": null,
            "grid_auto_columns": null,
            "grid_auto_flow": null,
            "grid_auto_rows": null,
            "grid_column": null,
            "grid_gap": null,
            "grid_row": null,
            "grid_template_areas": null,
            "grid_template_columns": null,
            "grid_template_rows": null,
            "height": null,
            "justify_content": null,
            "justify_items": null,
            "left": null,
            "margin": null,
            "max_height": null,
            "max_width": null,
            "min_height": null,
            "min_width": null,
            "object_fit": null,
            "object_position": null,
            "order": null,
            "overflow": null,
            "overflow_x": null,
            "overflow_y": null,
            "padding": null,
            "right": null,
            "top": null,
            "visibility": null,
            "width": null
          }
        },
        "bb9f64461ff548328a8e2245f08357b9": {
          "model_module": "@jupyter-widgets/controls",
          "model_name": "ProgressStyleModel",
          "model_module_version": "1.5.0",
          "state": {
            "_model_module": "@jupyter-widgets/controls",
            "_model_module_version": "1.5.0",
            "_model_name": "ProgressStyleModel",
            "_view_count": null,
            "_view_module": "@jupyter-widgets/base",
            "_view_module_version": "1.2.0",
            "_view_name": "StyleView",
            "bar_color": null,
            "description_width": ""
          }
        },
        "53acb77a7ee24caf84d16462e4514c16": {
          "model_module": "@jupyter-widgets/base",
          "model_name": "LayoutModel",
          "model_module_version": "1.2.0",
          "state": {
            "_model_module": "@jupyter-widgets/base",
            "_model_module_version": "1.2.0",
            "_model_name": "LayoutModel",
            "_view_count": null,
            "_view_module": "@jupyter-widgets/base",
            "_view_module_version": "1.2.0",
            "_view_name": "LayoutView",
            "align_content": null,
            "align_items": null,
            "align_self": null,
            "border": null,
            "bottom": null,
            "display": null,
            "flex": null,
            "flex_flow": null,
            "grid_area": null,
            "grid_auto_columns": null,
            "grid_auto_flow": null,
            "grid_auto_rows": null,
            "grid_column": null,
            "grid_gap": null,
            "grid_row": null,
            "grid_template_areas": null,
            "grid_template_columns": null,
            "grid_template_rows": null,
            "height": null,
            "justify_content": null,
            "justify_items": null,
            "left": null,
            "margin": null,
            "max_height": null,
            "max_width": null,
            "min_height": null,
            "min_width": null,
            "object_fit": null,
            "object_position": null,
            "order": null,
            "overflow": null,
            "overflow_x": null,
            "overflow_y": null,
            "padding": null,
            "right": null,
            "top": null,
            "visibility": null,
            "width": null
          }
        },
        "20820c8c555e447ca81a509edcf42d57": {
          "model_module": "@jupyter-widgets/controls",
          "model_name": "DescriptionStyleModel",
          "model_module_version": "1.5.0",
          "state": {
            "_model_module": "@jupyter-widgets/controls",
            "_model_module_version": "1.5.0",
            "_model_name": "DescriptionStyleModel",
            "_view_count": null,
            "_view_module": "@jupyter-widgets/base",
            "_view_module_version": "1.2.0",
            "_view_name": "StyleView",
            "description_width": ""
          }
        }
      }
    }
  },
  "nbformat_minor": 0,
  "nbformat": 4,
  "cells": [
    {
      "cell_type": "markdown",
      "source": [
        "# TRAINING PART"
      ],
      "metadata": {
        "id": "wqwLlyPIH7GA"
      }
    },
    {
      "cell_type": "code",
      "source": [
        "!pip install transformers"
      ],
      "metadata": {
        "scrolled": true,
        "execution": {
          "iopub.status.busy": "2024-03-29T04:54:58.996129Z",
          "iopub.execute_input": "2024-03-29T04:54:58.996890Z",
          "iopub.status.idle": "2024-03-29T04:55:12.230626Z",
          "shell.execute_reply.started": "2024-03-29T04:54:58.996856Z",
          "shell.execute_reply": "2024-03-29T04:55:12.229698Z"
        },
        "trusted": true,
        "colab": {
          "base_uri": "https://localhost:8080/"
        },
        "id": "S2x5MOyRH7GC",
        "outputId": "9b1a36c8-a28b-43cd-8381-d7bd796bc374"
      },
      "execution_count": 1,
      "outputs": [
        {
          "output_type": "stream",
          "name": "stdout",
          "text": [
            "Requirement already satisfied: transformers in /usr/local/lib/python3.10/dist-packages (4.42.3)\n",
            "Requirement already satisfied: filelock in /usr/local/lib/python3.10/dist-packages (from transformers) (3.15.4)\n",
            "Requirement already satisfied: huggingface-hub<1.0,>=0.23.2 in /usr/local/lib/python3.10/dist-packages (from transformers) (0.23.4)\n",
            "Requirement already satisfied: numpy<2.0,>=1.17 in /usr/local/lib/python3.10/dist-packages (from transformers) (1.25.2)\n",
            "Requirement already satisfied: packaging>=20.0 in /usr/local/lib/python3.10/dist-packages (from transformers) (24.1)\n",
            "Requirement already satisfied: pyyaml>=5.1 in /usr/local/lib/python3.10/dist-packages (from transformers) (6.0.1)\n",
            "Requirement already satisfied: regex!=2019.12.17 in /usr/local/lib/python3.10/dist-packages (from transformers) (2024.5.15)\n",
            "Requirement already satisfied: requests in /usr/local/lib/python3.10/dist-packages (from transformers) (2.32.3)\n",
            "Requirement already satisfied: safetensors>=0.4.1 in /usr/local/lib/python3.10/dist-packages (from transformers) (0.4.3)\n",
            "Requirement already satisfied: tokenizers<0.20,>=0.19 in /usr/local/lib/python3.10/dist-packages (from transformers) (0.19.1)\n",
            "Requirement already satisfied: tqdm>=4.27 in /usr/local/lib/python3.10/dist-packages (from transformers) (4.66.4)\n",
            "Requirement already satisfied: fsspec>=2023.5.0 in /usr/local/lib/python3.10/dist-packages (from huggingface-hub<1.0,>=0.23.2->transformers) (2023.6.0)\n",
            "Requirement already satisfied: typing-extensions>=3.7.4.3 in /usr/local/lib/python3.10/dist-packages (from huggingface-hub<1.0,>=0.23.2->transformers) (4.12.2)\n",
            "Requirement already satisfied: charset-normalizer<4,>=2 in /usr/local/lib/python3.10/dist-packages (from requests->transformers) (3.3.2)\n",
            "Requirement already satisfied: idna<4,>=2.5 in /usr/local/lib/python3.10/dist-packages (from requests->transformers) (3.7)\n",
            "Requirement already satisfied: urllib3<3,>=1.21.1 in /usr/local/lib/python3.10/dist-packages (from requests->transformers) (2.0.7)\n",
            "Requirement already satisfied: certifi>=2017.4.17 in /usr/local/lib/python3.10/dist-packages (from requests->transformers) (2024.6.2)\n"
          ]
        }
      ]
    },
    {
      "cell_type": "code",
      "source": [
        "!pip install datasets"
      ],
      "metadata": {
        "scrolled": true,
        "execution": {
          "iopub.status.busy": "2024-03-29T04:55:12.233069Z",
          "iopub.execute_input": "2024-03-29T04:55:12.233742Z",
          "iopub.status.idle": "2024-03-29T04:55:24.412185Z",
          "shell.execute_reply.started": "2024-03-29T04:55:12.233700Z",
          "shell.execute_reply": "2024-03-29T04:55:24.411068Z"
        },
        "trusted": true,
        "colab": {
          "base_uri": "https://localhost:8080/"
        },
        "id": "cHeAzdpQH7GD",
        "outputId": "7d82fbf3-4f19-4d92-d4c8-c0c424eba67d"
      },
      "execution_count": 2,
      "outputs": [
        {
          "output_type": "stream",
          "name": "stdout",
          "text": [
            "Requirement already satisfied: datasets in /usr/local/lib/python3.10/dist-packages (2.20.0)\n",
            "Requirement already satisfied: filelock in /usr/local/lib/python3.10/dist-packages (from datasets) (3.15.4)\n",
            "Requirement already satisfied: numpy>=1.17 in /usr/local/lib/python3.10/dist-packages (from datasets) (1.25.2)\n",
            "Requirement already satisfied: pyarrow>=15.0.0 in /usr/local/lib/python3.10/dist-packages (from datasets) (16.1.0)\n",
            "Requirement already satisfied: pyarrow-hotfix in /usr/local/lib/python3.10/dist-packages (from datasets) (0.6)\n",
            "Requirement already satisfied: dill<0.3.9,>=0.3.0 in /usr/local/lib/python3.10/dist-packages (from datasets) (0.3.8)\n",
            "Requirement already satisfied: pandas in /usr/local/lib/python3.10/dist-packages (from datasets) (2.0.3)\n",
            "Requirement already satisfied: requests>=2.32.2 in /usr/local/lib/python3.10/dist-packages (from datasets) (2.32.3)\n",
            "Requirement already satisfied: tqdm>=4.66.3 in /usr/local/lib/python3.10/dist-packages (from datasets) (4.66.4)\n",
            "Requirement already satisfied: xxhash in /usr/local/lib/python3.10/dist-packages (from datasets) (3.4.1)\n",
            "Requirement already satisfied: multiprocess in /usr/local/lib/python3.10/dist-packages (from datasets) (0.70.16)\n",
            "Requirement already satisfied: fsspec[http]<=2024.5.0,>=2023.1.0 in /usr/local/lib/python3.10/dist-packages (from datasets) (2023.6.0)\n",
            "Requirement already satisfied: aiohttp in /usr/local/lib/python3.10/dist-packages (from datasets) (3.9.5)\n",
            "Requirement already satisfied: huggingface-hub>=0.21.2 in /usr/local/lib/python3.10/dist-packages (from datasets) (0.23.4)\n",
            "Requirement already satisfied: packaging in /usr/local/lib/python3.10/dist-packages (from datasets) (24.1)\n",
            "Requirement already satisfied: pyyaml>=5.1 in /usr/local/lib/python3.10/dist-packages (from datasets) (6.0.1)\n",
            "Requirement already satisfied: aiosignal>=1.1.2 in /usr/local/lib/python3.10/dist-packages (from aiohttp->datasets) (1.3.1)\n",
            "Requirement already satisfied: attrs>=17.3.0 in /usr/local/lib/python3.10/dist-packages (from aiohttp->datasets) (23.2.0)\n",
            "Requirement already satisfied: frozenlist>=1.1.1 in /usr/local/lib/python3.10/dist-packages (from aiohttp->datasets) (1.4.1)\n",
            "Requirement already satisfied: multidict<7.0,>=4.5 in /usr/local/lib/python3.10/dist-packages (from aiohttp->datasets) (6.0.5)\n",
            "Requirement already satisfied: yarl<2.0,>=1.0 in /usr/local/lib/python3.10/dist-packages (from aiohttp->datasets) (1.9.4)\n",
            "Requirement already satisfied: async-timeout<5.0,>=4.0 in /usr/local/lib/python3.10/dist-packages (from aiohttp->datasets) (4.0.3)\n",
            "Requirement already satisfied: typing-extensions>=3.7.4.3 in /usr/local/lib/python3.10/dist-packages (from huggingface-hub>=0.21.2->datasets) (4.12.2)\n",
            "Requirement already satisfied: charset-normalizer<4,>=2 in /usr/local/lib/python3.10/dist-packages (from requests>=2.32.2->datasets) (3.3.2)\n",
            "Requirement already satisfied: idna<4,>=2.5 in /usr/local/lib/python3.10/dist-packages (from requests>=2.32.2->datasets) (3.7)\n",
            "Requirement already satisfied: urllib3<3,>=1.21.1 in /usr/local/lib/python3.10/dist-packages (from requests>=2.32.2->datasets) (2.0.7)\n",
            "Requirement already satisfied: certifi>=2017.4.17 in /usr/local/lib/python3.10/dist-packages (from requests>=2.32.2->datasets) (2024.6.2)\n",
            "Requirement already satisfied: python-dateutil>=2.8.2 in /usr/local/lib/python3.10/dist-packages (from pandas->datasets) (2.8.2)\n",
            "Requirement already satisfied: pytz>=2020.1 in /usr/local/lib/python3.10/dist-packages (from pandas->datasets) (2023.4)\n",
            "Requirement already satisfied: tzdata>=2022.1 in /usr/local/lib/python3.10/dist-packages (from pandas->datasets) (2024.1)\n",
            "Requirement already satisfied: six>=1.5 in /usr/local/lib/python3.10/dist-packages (from python-dateutil>=2.8.2->pandas->datasets) (1.16.0)\n"
          ]
        }
      ]
    },
    {
      "cell_type": "code",
      "source": [
        "!pip install evaluate"
      ],
      "metadata": {
        "scrolled": true,
        "execution": {
          "iopub.status.busy": "2024-03-29T04:55:24.413646Z",
          "iopub.execute_input": "2024-03-29T04:55:24.413955Z",
          "iopub.status.idle": "2024-03-29T04:55:37.341003Z",
          "shell.execute_reply.started": "2024-03-29T04:55:24.413930Z",
          "shell.execute_reply": "2024-03-29T04:55:37.340060Z"
        },
        "trusted": true,
        "colab": {
          "base_uri": "https://localhost:8080/"
        },
        "id": "q8bComYoH7GE",
        "outputId": "468d1cd7-b19e-4257-a3d9-12594c1352c6"
      },
      "execution_count": 3,
      "outputs": [
        {
          "output_type": "stream",
          "name": "stdout",
          "text": [
            "Requirement already satisfied: evaluate in /usr/local/lib/python3.10/dist-packages (0.4.2)\n",
            "Requirement already satisfied: datasets>=2.0.0 in /usr/local/lib/python3.10/dist-packages (from evaluate) (2.20.0)\n",
            "Requirement already satisfied: numpy>=1.17 in /usr/local/lib/python3.10/dist-packages (from evaluate) (1.25.2)\n",
            "Requirement already satisfied: dill in /usr/local/lib/python3.10/dist-packages (from evaluate) (0.3.8)\n",
            "Requirement already satisfied: pandas in /usr/local/lib/python3.10/dist-packages (from evaluate) (2.0.3)\n",
            "Requirement already satisfied: requests>=2.19.0 in /usr/local/lib/python3.10/dist-packages (from evaluate) (2.32.3)\n",
            "Requirement already satisfied: tqdm>=4.62.1 in /usr/local/lib/python3.10/dist-packages (from evaluate) (4.66.4)\n",
            "Requirement already satisfied: xxhash in /usr/local/lib/python3.10/dist-packages (from evaluate) (3.4.1)\n",
            "Requirement already satisfied: multiprocess in /usr/local/lib/python3.10/dist-packages (from evaluate) (0.70.16)\n",
            "Requirement already satisfied: fsspec[http]>=2021.05.0 in /usr/local/lib/python3.10/dist-packages (from evaluate) (2023.6.0)\n",
            "Requirement already satisfied: huggingface-hub>=0.7.0 in /usr/local/lib/python3.10/dist-packages (from evaluate) (0.23.4)\n",
            "Requirement already satisfied: packaging in /usr/local/lib/python3.10/dist-packages (from evaluate) (24.1)\n",
            "Requirement already satisfied: filelock in /usr/local/lib/python3.10/dist-packages (from datasets>=2.0.0->evaluate) (3.15.4)\n",
            "Requirement already satisfied: pyarrow>=15.0.0 in /usr/local/lib/python3.10/dist-packages (from datasets>=2.0.0->evaluate) (16.1.0)\n",
            "Requirement already satisfied: pyarrow-hotfix in /usr/local/lib/python3.10/dist-packages (from datasets>=2.0.0->evaluate) (0.6)\n",
            "Requirement already satisfied: aiohttp in /usr/local/lib/python3.10/dist-packages (from datasets>=2.0.0->evaluate) (3.9.5)\n",
            "Requirement already satisfied: pyyaml>=5.1 in /usr/local/lib/python3.10/dist-packages (from datasets>=2.0.0->evaluate) (6.0.1)\n",
            "Requirement already satisfied: typing-extensions>=3.7.4.3 in /usr/local/lib/python3.10/dist-packages (from huggingface-hub>=0.7.0->evaluate) (4.12.2)\n",
            "Requirement already satisfied: charset-normalizer<4,>=2 in /usr/local/lib/python3.10/dist-packages (from requests>=2.19.0->evaluate) (3.3.2)\n",
            "Requirement already satisfied: idna<4,>=2.5 in /usr/local/lib/python3.10/dist-packages (from requests>=2.19.0->evaluate) (3.7)\n",
            "Requirement already satisfied: urllib3<3,>=1.21.1 in /usr/local/lib/python3.10/dist-packages (from requests>=2.19.0->evaluate) (2.0.7)\n",
            "Requirement already satisfied: certifi>=2017.4.17 in /usr/local/lib/python3.10/dist-packages (from requests>=2.19.0->evaluate) (2024.6.2)\n",
            "Requirement already satisfied: python-dateutil>=2.8.2 in /usr/local/lib/python3.10/dist-packages (from pandas->evaluate) (2.8.2)\n",
            "Requirement already satisfied: pytz>=2020.1 in /usr/local/lib/python3.10/dist-packages (from pandas->evaluate) (2023.4)\n",
            "Requirement already satisfied: tzdata>=2022.1 in /usr/local/lib/python3.10/dist-packages (from pandas->evaluate) (2024.1)\n",
            "Requirement already satisfied: aiosignal>=1.1.2 in /usr/local/lib/python3.10/dist-packages (from aiohttp->datasets>=2.0.0->evaluate) (1.3.1)\n",
            "Requirement already satisfied: attrs>=17.3.0 in /usr/local/lib/python3.10/dist-packages (from aiohttp->datasets>=2.0.0->evaluate) (23.2.0)\n",
            "Requirement already satisfied: frozenlist>=1.1.1 in /usr/local/lib/python3.10/dist-packages (from aiohttp->datasets>=2.0.0->evaluate) (1.4.1)\n",
            "Requirement already satisfied: multidict<7.0,>=4.5 in /usr/local/lib/python3.10/dist-packages (from aiohttp->datasets>=2.0.0->evaluate) (6.0.5)\n",
            "Requirement already satisfied: yarl<2.0,>=1.0 in /usr/local/lib/python3.10/dist-packages (from aiohttp->datasets>=2.0.0->evaluate) (1.9.4)\n",
            "Requirement already satisfied: async-timeout<5.0,>=4.0 in /usr/local/lib/python3.10/dist-packages (from aiohttp->datasets>=2.0.0->evaluate) (4.0.3)\n",
            "Requirement already satisfied: six>=1.5 in /usr/local/lib/python3.10/dist-packages (from python-dateutil>=2.8.2->pandas->evaluate) (1.16.0)\n"
          ]
        }
      ]
    },
    {
      "cell_type": "code",
      "source": [
        "import torch\n",
        "import pandas as pd\n",
        "from sklearn.preprocessing import LabelEncoder\n",
        "from sklearn.model_selection import train_test_split\n",
        "from datasets import Dataset\n",
        "from transformers import AutoTokenizer\n",
        "from transformers import AutoModelForSequenceClassification\n",
        "from transformers import DataCollatorWithPadding\n",
        "from transformers import TrainingArguments , Trainer\n",
        "import evaluate\n",
        "import numpy as np\n",
        "\n",
        "device = torch.device(\"cuda\" if torch.cuda.is_available() else \"cpu\")"
      ],
      "metadata": {
        "execution": {
          "iopub.status.busy": "2024-03-29T04:55:37.343459Z",
          "iopub.execute_input": "2024-03-29T04:55:37.343784Z",
          "iopub.status.idle": "2024-03-29T04:55:58.367249Z",
          "shell.execute_reply.started": "2024-03-29T04:55:37.343746Z",
          "shell.execute_reply": "2024-03-29T04:55:58.366197Z"
        },
        "trusted": true,
        "id": "JQxM0ZcgH7GE"
      },
      "execution_count": 4,
      "outputs": []
    },
    {
      "cell_type": "code",
      "source": [
        "data_path = '/content/C_TRAIN.csv'\n",
        "text_column_name = 'Content'\n",
        "label_column_name = 'Label'"
      ],
      "metadata": {
        "execution": {
          "iopub.status.busy": "2024-03-29T04:55:58.368840Z",
          "iopub.execute_input": "2024-03-29T04:55:58.370081Z",
          "iopub.status.idle": "2024-03-29T04:55:58.374721Z",
          "shell.execute_reply.started": "2024-03-29T04:55:58.370043Z",
          "shell.execute_reply": "2024-03-29T04:55:58.373821Z"
        },
        "trusted": true,
        "id": "clYX2R7iH7GE"
      },
      "execution_count": 5,
      "outputs": []
    },
    {
      "cell_type": "code",
      "source": [
        "model_name = \"bert-base-uncased\"\n",
        "test_size = 0.3\n",
        "num_labels = 9"
      ],
      "metadata": {
        "trusted": true,
        "id": "QYZdMmt8H7GF"
      },
      "execution_count": 6,
      "outputs": []
    },
    {
      "cell_type": "code",
      "source": [
        "df = pd.read_csv(data_path)"
      ],
      "metadata": {
        "execution": {
          "iopub.status.busy": "2024-03-29T04:55:58.415113Z",
          "iopub.execute_input": "2024-03-29T04:55:58.415921Z",
          "iopub.status.idle": "2024-03-29T04:56:00.034503Z",
          "shell.execute_reply.started": "2024-03-29T04:55:58.415888Z",
          "shell.execute_reply": "2024-03-29T04:56:00.033700Z"
        },
        "trusted": true,
        "id": "rgIEKgssH7GF"
      },
      "execution_count": 7,
      "outputs": []
    },
    {
      "cell_type": "code",
      "source": [
        "df.dropna(inplace = True)\n",
        "df.isnull().sum()"
      ],
      "metadata": {
        "execution": {
          "iopub.status.busy": "2024-03-29T04:56:00.035573Z",
          "iopub.execute_input": "2024-03-29T04:56:00.035903Z",
          "iopub.status.idle": "2024-03-29T04:56:00.063512Z",
          "shell.execute_reply.started": "2024-03-29T04:56:00.035878Z",
          "shell.execute_reply": "2024-03-29T04:56:00.062562Z"
        },
        "trusted": true,
        "colab": {
          "base_uri": "https://localhost:8080/"
        },
        "id": "Mv0W-DK7H7GF",
        "outputId": "1dead312-c134-4144-8713-0ce60f12c89b"
      },
      "execution_count": 8,
      "outputs": [
        {
          "output_type": "execute_result",
          "data": {
            "text/plain": [
              "Unnamed: 0    0\n",
              "Label         0\n",
              "Content       0\n",
              "dtype: int64"
            ]
          },
          "metadata": {},
          "execution_count": 8
        }
      ]
    },
    {
      "cell_type": "code",
      "source": [
        "# Instantiate the LabelEncoder\n",
        "label_encoder = LabelEncoder()\n",
        "\n",
        "# Assuming df is your DataFrame and 'Label' is the column to be encoded\n",
        "labels = df['Label']\n",
        "\n",
        "# Fit the encoder to your labels and transform them\n",
        "encoded_labels = label_encoder.fit_transform(labels)\n",
        "\n",
        "# Replace the original 'Label' column with the encoded labels\n",
        "df['Label'] = encoded_labels"
      ],
      "metadata": {
        "execution": {
          "iopub.status.busy": "2024-03-29T04:56:00.064943Z",
          "iopub.execute_input": "2024-03-29T04:56:00.065688Z",
          "iopub.status.idle": "2024-03-29T04:56:00.078556Z",
          "shell.execute_reply.started": "2024-03-29T04:56:00.065647Z",
          "shell.execute_reply": "2024-03-29T04:56:00.077706Z"
        },
        "trusted": true,
        "id": "NeQWaqeuH7GF"
      },
      "execution_count": 9,
      "outputs": []
    },
    {
      "cell_type": "code",
      "source": [
        "print(df[:5])"
      ],
      "metadata": {
        "execution": {
          "iopub.status.busy": "2024-03-29T04:56:00.082725Z",
          "iopub.execute_input": "2024-03-29T04:56:00.083036Z",
          "iopub.status.idle": "2024-03-29T04:56:00.091459Z",
          "shell.execute_reply.started": "2024-03-29T04:56:00.083013Z",
          "shell.execute_reply": "2024-03-29T04:56:00.090494Z"
        },
        "trusted": true,
        "colab": {
          "base_uri": "https://localhost:8080/"
        },
        "id": "KvaMnEBEH7GG",
        "outputId": "6620d188-3a4b-49df-956e-8adb43a7647f"
      },
      "execution_count": 10,
      "outputs": [
        {
          "output_type": "stream",
          "name": "stdout",
          "text": [
            "   Unnamed: 0  Label                                            Content\n",
            "0           0      0  tissue present invention obtain suitable sourc...\n",
            "1           1      6  according aspect INvENTioN centrifuge include ...\n",
            "2           2      2  staurosporine derivative anti cancer activity ...\n",
            "3           3      1  various implementation different blade razor d...\n",
            "4           4      0  purpose promote understanding principle invent...\n"
          ]
        }
      ]
    },
    {
      "cell_type": "code",
      "source": [
        "df_train , df_test = train_test_split(df , test_size = test_size)"
      ],
      "metadata": {
        "execution": {
          "iopub.status.busy": "2024-03-29T04:56:00.092711Z",
          "iopub.execute_input": "2024-03-29T04:56:00.093073Z",
          "iopub.status.idle": "2024-03-29T04:56:00.105987Z",
          "shell.execute_reply.started": "2024-03-29T04:56:00.093048Z",
          "shell.execute_reply": "2024-03-29T04:56:00.104991Z"
        },
        "trusted": true,
        "id": "s66S6LY6H7GG"
      },
      "execution_count": 11,
      "outputs": []
    },
    {
      "cell_type": "code",
      "source": [
        "train_dataset = Dataset.from_pandas(df_train)\n",
        "test_dataset = Dataset.from_pandas(df_test)"
      ],
      "metadata": {
        "execution": {
          "iopub.status.busy": "2024-03-29T04:56:00.107109Z",
          "iopub.execute_input": "2024-03-29T04:56:00.107466Z",
          "iopub.status.idle": "2024-03-29T04:56:00.296484Z",
          "shell.execute_reply.started": "2024-03-29T04:56:00.107433Z",
          "shell.execute_reply": "2024-03-29T04:56:00.295630Z"
        },
        "trusted": true,
        "id": "F2OMkAubH7GG"
      },
      "execution_count": 12,
      "outputs": []
    },
    {
      "cell_type": "code",
      "source": [
        "train_dataset"
      ],
      "metadata": {
        "execution": {
          "iopub.status.busy": "2024-03-29T04:56:00.297763Z",
          "iopub.execute_input": "2024-03-29T04:56:00.298150Z",
          "iopub.status.idle": "2024-03-29T04:56:00.306073Z",
          "shell.execute_reply.started": "2024-03-29T04:56:00.298118Z",
          "shell.execute_reply": "2024-03-29T04:56:00.305044Z"
        },
        "trusted": true,
        "colab": {
          "base_uri": "https://localhost:8080/"
        },
        "id": "c-j6pppuH7GG",
        "outputId": "c295491f-6f0a-4015-da71-8995f1c274d1"
      },
      "execution_count": 13,
      "outputs": [
        {
          "output_type": "execute_result",
          "data": {
            "text/plain": [
              "Dataset({\n",
              "    features: ['Unnamed: 0', 'Label', 'Content', '__index_level_0__'],\n",
              "    num_rows: 39532\n",
              "})"
            ]
          },
          "metadata": {},
          "execution_count": 13
        }
      ]
    },
    {
      "cell_type": "code",
      "source": [
        "test_dataset"
      ],
      "metadata": {
        "execution": {
          "iopub.status.busy": "2024-03-29T04:56:00.307450Z",
          "iopub.execute_input": "2024-03-29T04:56:00.307870Z",
          "iopub.status.idle": "2024-03-29T04:56:00.315652Z",
          "shell.execute_reply.started": "2024-03-29T04:56:00.307843Z",
          "shell.execute_reply": "2024-03-29T04:56:00.314698Z"
        },
        "trusted": true,
        "colab": {
          "base_uri": "https://localhost:8080/"
        },
        "id": "SOd8x6QWH7GG",
        "outputId": "52746bf7-f1e2-47e1-d87d-8117a65c87c2"
      },
      "execution_count": 14,
      "outputs": [
        {
          "output_type": "execute_result",
          "data": {
            "text/plain": [
              "Dataset({\n",
              "    features: ['Unnamed: 0', 'Label', 'Content', '__index_level_0__'],\n",
              "    num_rows: 16943\n",
              "})"
            ]
          },
          "metadata": {},
          "execution_count": 14
        }
      ]
    },
    {
      "cell_type": "code",
      "source": [
        "tok = AutoTokenizer.from_pretrained(model_name)\n",
        "def preprocess_function(examples):\n",
        "    return tok(examples[\"Content\"], truncation = True)"
      ],
      "metadata": {
        "execution": {
          "iopub.status.busy": "2024-03-29T04:56:00.316761Z",
          "iopub.execute_input": "2024-03-29T04:56:00.317055Z",
          "iopub.status.idle": "2024-03-29T04:56:00.393420Z",
          "shell.execute_reply.started": "2024-03-29T04:56:00.317033Z",
          "shell.execute_reply": "2024-03-29T04:56:00.392634Z"
        },
        "trusted": true,
        "colab": {
          "base_uri": "https://localhost:8080/"
        },
        "id": "-mJXtGfLH7GG",
        "outputId": "13474ee0-42f4-4179-e926-f2724361e263"
      },
      "execution_count": 15,
      "outputs": [
        {
          "output_type": "stream",
          "name": "stderr",
          "text": [
            "/usr/local/lib/python3.10/dist-packages/huggingface_hub/utils/_token.py:89: UserWarning: \n",
            "The secret `HF_TOKEN` does not exist in your Colab secrets.\n",
            "To authenticate with the Hugging Face Hub, create a token in your settings tab (https://huggingface.co/settings/tokens), set it as secret in your Google Colab and restart your session.\n",
            "You will be able to reuse this secret in all of your notebooks.\n",
            "Please note that authentication is recommended but still optional to access public models or datasets.\n",
            "  warnings.warn(\n"
          ]
        }
      ]
    },
    {
      "cell_type": "code",
      "source": [
        "tokenized_train = train_dataset.map(preprocess_function, batched = True)"
      ],
      "metadata": {
        "execution": {
          "iopub.status.busy": "2024-03-29T04:56:00.394448Z",
          "iopub.execute_input": "2024-03-29T04:56:00.394742Z",
          "iopub.status.idle": "2024-03-29T04:56:19.504254Z",
          "shell.execute_reply.started": "2024-03-29T04:56:00.394701Z",
          "shell.execute_reply": "2024-03-29T04:56:19.503269Z"
        },
        "trusted": true,
        "colab": {
          "base_uri": "https://localhost:8080/",
          "height": 49,
          "referenced_widgets": [
            "51c437d0112f468e9e366dd25900b985",
            "44625d6ec15049a886e8aebd9799f739",
            "e783bcfbc0ff4b5684abc5a6110a04c7",
            "2c413c7c464d472592a1c5b4f6dd737b",
            "e25c0e00ca624aeca26fd2f358f6354d",
            "db5d0baa1b67451d8ce8e78f4c32e47d",
            "87721adc407d4bd4b5dd38d50a11d714",
            "a97df82a7ea94484a96b68c998692e78",
            "6da261567a88419fa887d84df75cdf06",
            "0f2de8733064430398f860a43c2a242c",
            "2e1d66468c224bd1b77b4e5cc80b5f3e"
          ]
        },
        "id": "4zFSVSQMH7GH",
        "outputId": "d6e31bbc-70a8-4ae4-e34e-81c6b0814c13"
      },
      "execution_count": 16,
      "outputs": [
        {
          "output_type": "display_data",
          "data": {
            "text/plain": [
              "Map:   0%|          | 0/39532 [00:00<?, ? examples/s]"
            ],
            "application/vnd.jupyter.widget-view+json": {
              "version_major": 2,
              "version_minor": 0,
              "model_id": "51c437d0112f468e9e366dd25900b985"
            }
          },
          "metadata": {}
        }
      ]
    },
    {
      "cell_type": "code",
      "source": [
        "tokenized_test = test_dataset.map(preprocess_function, batched = True)"
      ],
      "metadata": {
        "execution": {
          "iopub.status.busy": "2024-03-29T04:56:19.505392Z",
          "iopub.execute_input": "2024-03-29T04:56:19.505683Z",
          "iopub.status.idle": "2024-03-29T04:56:27.867141Z",
          "shell.execute_reply.started": "2024-03-29T04:56:19.505658Z",
          "shell.execute_reply": "2024-03-29T04:56:27.866325Z"
        },
        "trusted": true,
        "colab": {
          "base_uri": "https://localhost:8080/",
          "height": 49,
          "referenced_widgets": [
            "4282f80f56ed4ac5a645a370add64200",
            "947247efc8c1402dbe2f16c293bb8081",
            "21a1b1da599f438eb3b2768f27274c1d",
            "61301d27641b47ebabd7ae394708556f",
            "d833d11b990d4cfea040aa51f08b95b4",
            "ba7b7ebfa94148bdaefefef0f02c9e37",
            "e6eb4b04755b4445aa82ee0ef06184c8",
            "260c9cf8034c4aa8a8094ef95105c35c",
            "bb9f64461ff548328a8e2245f08357b9",
            "53acb77a7ee24caf84d16462e4514c16",
            "20820c8c555e447ca81a509edcf42d57"
          ]
        },
        "id": "4sQ41LK-H7GH",
        "outputId": "143effc9-d6be-46dc-8721-17bf87eb0cf0"
      },
      "execution_count": 17,
      "outputs": [
        {
          "output_type": "display_data",
          "data": {
            "text/plain": [
              "Map:   0%|          | 0/16943 [00:00<?, ? examples/s]"
            ],
            "application/vnd.jupyter.widget-view+json": {
              "version_major": 2,
              "version_minor": 0,
              "model_id": "4282f80f56ed4ac5a645a370add64200"
            }
          },
          "metadata": {}
        }
      ]
    },
    {
      "cell_type": "code",
      "source": [
        "model = AutoModelForSequenceClassification.from_pretrained(model_name , num_labels =num_labels )"
      ],
      "metadata": {
        "execution": {
          "iopub.status.busy": "2024-03-29T04:56:27.868228Z",
          "iopub.execute_input": "2024-03-29T04:56:27.868532Z",
          "iopub.status.idle": "2024-03-29T04:56:29.908962Z",
          "shell.execute_reply.started": "2024-03-29T04:56:27.868507Z",
          "shell.execute_reply": "2024-03-29T04:56:29.908023Z"
        },
        "trusted": true,
        "colab": {
          "base_uri": "https://localhost:8080/"
        },
        "id": "KBhiKaoeH7GH",
        "outputId": "fdefefc0-cc82-40c3-b445-3db1ed95bd8a"
      },
      "execution_count": 18,
      "outputs": [
        {
          "output_type": "stream",
          "name": "stderr",
          "text": [
            "Some weights of BertForSequenceClassification were not initialized from the model checkpoint at bert-base-uncased and are newly initialized: ['classifier.bias', 'classifier.weight']\n",
            "You should probably TRAIN this model on a down-stream task to be able to use it for predictions and inference.\n"
          ]
        }
      ]
    },
    {
      "cell_type": "code",
      "source": [
        "data_collator = DataCollatorWithPadding(tokenizer = tok)"
      ],
      "metadata": {
        "execution": {
          "iopub.status.busy": "2024-03-29T04:56:29.910179Z",
          "iopub.execute_input": "2024-03-29T04:56:29.910467Z",
          "iopub.status.idle": "2024-03-29T04:56:29.914978Z",
          "shell.execute_reply.started": "2024-03-29T04:56:29.910442Z",
          "shell.execute_reply": "2024-03-29T04:56:29.914074Z"
        },
        "trusted": true,
        "id": "bI3CEkYzH7GH"
      },
      "execution_count": 19,
      "outputs": []
    },
    {
      "cell_type": "code",
      "source": [
        "metric = evaluate.load(\"accuracy\")\n",
        "\n",
        "def compute_metrics(eval_pred):\n",
        "    logits , labels = eval_pred\n",
        "    predictions = np.argmax(logits , axis = -1)\n",
        "    return metric.compute(predictions = predictions , references = labels)"
      ],
      "metadata": {
        "execution": {
          "iopub.status.busy": "2024-03-29T04:56:29.916226Z",
          "iopub.execute_input": "2024-03-29T04:56:29.916838Z",
          "iopub.status.idle": "2024-03-29T04:56:31.518201Z",
          "shell.execute_reply.started": "2024-03-29T04:56:29.916805Z",
          "shell.execute_reply": "2024-03-29T04:56:31.517265Z"
        },
        "trusted": true,
        "id": "QO9GkUFpH7GH"
      },
      "execution_count": 20,
      "outputs": []
    },
    {
      "cell_type": "code",
      "source": [
        "tokenized_train = tokenized_train.rename_column('Label', 'label')\n",
        "\n",
        "tokenized_test = tokenized_test.rename_column('Label','label')"
      ],
      "metadata": {
        "execution": {
          "iopub.status.busy": "2024-03-29T04:56:31.519411Z",
          "iopub.execute_input": "2024-03-29T04:56:31.519789Z",
          "iopub.status.idle": "2024-03-29T04:56:31.528679Z",
          "shell.execute_reply.started": "2024-03-29T04:56:31.519739Z",
          "shell.execute_reply": "2024-03-29T04:56:31.527805Z"
        },
        "trusted": true,
        "id": "ksn6zNxZH7GH"
      },
      "execution_count": 21,
      "outputs": []
    },
    {
      "cell_type": "code",
      "source": [
        "tokenized_train = tokenized_train.rename_column('Content', 'text')\n",
        "\n",
        "tokenized_test = tokenized_test.rename_column('Content','text')"
      ],
      "metadata": {
        "execution": {
          "iopub.status.busy": "2024-03-29T04:56:31.529797Z",
          "iopub.execute_input": "2024-03-29T04:56:31.530065Z",
          "iopub.status.idle": "2024-03-29T04:56:31.545249Z",
          "shell.execute_reply.started": "2024-03-29T04:56:31.530043Z",
          "shell.execute_reply": "2024-03-29T04:56:31.544476Z"
        },
        "trusted": true,
        "id": "tkHeiiHuH7GI"
      },
      "execution_count": 22,
      "outputs": []
    },
    {
      "cell_type": "code",
      "source": [
        "!pip install transformers[torch] -U"
      ],
      "metadata": {
        "colab": {
          "base_uri": "https://localhost:8080/"
        },
        "id": "lhHAqC72N7HD",
        "outputId": "e30522d4-26bf-4e46-c2d6-dc6d4a3bffc9"
      },
      "execution_count": 23,
      "outputs": [
        {
          "output_type": "stream",
          "name": "stdout",
          "text": [
            "Requirement already satisfied: transformers[torch] in /usr/local/lib/python3.10/dist-packages (4.42.3)\n",
            "Requirement already satisfied: filelock in /usr/local/lib/python3.10/dist-packages (from transformers[torch]) (3.15.4)\n",
            "Requirement already satisfied: huggingface-hub<1.0,>=0.23.2 in /usr/local/lib/python3.10/dist-packages (from transformers[torch]) (0.23.4)\n",
            "Requirement already satisfied: numpy<2.0,>=1.17 in /usr/local/lib/python3.10/dist-packages (from transformers[torch]) (1.25.2)\n",
            "Requirement already satisfied: packaging>=20.0 in /usr/local/lib/python3.10/dist-packages (from transformers[torch]) (24.1)\n",
            "Requirement already satisfied: pyyaml>=5.1 in /usr/local/lib/python3.10/dist-packages (from transformers[torch]) (6.0.1)\n",
            "Requirement already satisfied: regex!=2019.12.17 in /usr/local/lib/python3.10/dist-packages (from transformers[torch]) (2024.5.15)\n",
            "Requirement already satisfied: requests in /usr/local/lib/python3.10/dist-packages (from transformers[torch]) (2.32.3)\n",
            "Requirement already satisfied: safetensors>=0.4.1 in /usr/local/lib/python3.10/dist-packages (from transformers[torch]) (0.4.3)\n",
            "Requirement already satisfied: tokenizers<0.20,>=0.19 in /usr/local/lib/python3.10/dist-packages (from transformers[torch]) (0.19.1)\n",
            "Requirement already satisfied: tqdm>=4.27 in /usr/local/lib/python3.10/dist-packages (from transformers[torch]) (4.66.4)\n",
            "Requirement already satisfied: accelerate>=0.21.0 in /usr/local/lib/python3.10/dist-packages (from transformers[torch]) (0.32.1)\n",
            "Requirement already satisfied: torch in /usr/local/lib/python3.10/dist-packages (from transformers[torch]) (2.3.0+cu121)\n",
            "Requirement already satisfied: psutil in /usr/local/lib/python3.10/dist-packages (from accelerate>=0.21.0->transformers[torch]) (5.9.5)\n",
            "Requirement already satisfied: fsspec>=2023.5.0 in /usr/local/lib/python3.10/dist-packages (from huggingface-hub<1.0,>=0.23.2->transformers[torch]) (2023.6.0)\n",
            "Requirement already satisfied: typing-extensions>=3.7.4.3 in /usr/local/lib/python3.10/dist-packages (from huggingface-hub<1.0,>=0.23.2->transformers[torch]) (4.12.2)\n",
            "Requirement already satisfied: sympy in /usr/local/lib/python3.10/dist-packages (from torch->transformers[torch]) (1.12.1)\n",
            "Requirement already satisfied: networkx in /usr/local/lib/python3.10/dist-packages (from torch->transformers[torch]) (3.3)\n",
            "Requirement already satisfied: jinja2 in /usr/local/lib/python3.10/dist-packages (from torch->transformers[torch]) (3.1.4)\n",
            "Requirement already satisfied: nvidia-cuda-nvrtc-cu12==12.1.105 in /usr/local/lib/python3.10/dist-packages (from torch->transformers[torch]) (12.1.105)\n",
            "Requirement already satisfied: nvidia-cuda-runtime-cu12==12.1.105 in /usr/local/lib/python3.10/dist-packages (from torch->transformers[torch]) (12.1.105)\n",
            "Requirement already satisfied: nvidia-cuda-cupti-cu12==12.1.105 in /usr/local/lib/python3.10/dist-packages (from torch->transformers[torch]) (12.1.105)\n",
            "Requirement already satisfied: nvidia-cudnn-cu12==8.9.2.26 in /usr/local/lib/python3.10/dist-packages (from torch->transformers[torch]) (8.9.2.26)\n",
            "Requirement already satisfied: nvidia-cublas-cu12==12.1.3.1 in /usr/local/lib/python3.10/dist-packages (from torch->transformers[torch]) (12.1.3.1)\n",
            "Requirement already satisfied: nvidia-cufft-cu12==11.0.2.54 in /usr/local/lib/python3.10/dist-packages (from torch->transformers[torch]) (11.0.2.54)\n",
            "Requirement already satisfied: nvidia-curand-cu12==10.3.2.106 in /usr/local/lib/python3.10/dist-packages (from torch->transformers[torch]) (10.3.2.106)\n",
            "Requirement already satisfied: nvidia-cusolver-cu12==11.4.5.107 in /usr/local/lib/python3.10/dist-packages (from torch->transformers[torch]) (11.4.5.107)\n",
            "Requirement already satisfied: nvidia-cusparse-cu12==12.1.0.106 in /usr/local/lib/python3.10/dist-packages (from torch->transformers[torch]) (12.1.0.106)\n",
            "Requirement already satisfied: nvidia-nccl-cu12==2.20.5 in /usr/local/lib/python3.10/dist-packages (from torch->transformers[torch]) (2.20.5)\n",
            "Requirement already satisfied: nvidia-nvtx-cu12==12.1.105 in /usr/local/lib/python3.10/dist-packages (from torch->transformers[torch]) (12.1.105)\n",
            "Requirement already satisfied: triton==2.3.0 in /usr/local/lib/python3.10/dist-packages (from torch->transformers[torch]) (2.3.0)\n",
            "Requirement already satisfied: nvidia-nvjitlink-cu12 in /usr/local/lib/python3.10/dist-packages (from nvidia-cusolver-cu12==11.4.5.107->torch->transformers[torch]) (12.5.82)\n",
            "Requirement already satisfied: charset-normalizer<4,>=2 in /usr/local/lib/python3.10/dist-packages (from requests->transformers[torch]) (3.3.2)\n",
            "Requirement already satisfied: idna<4,>=2.5 in /usr/local/lib/python3.10/dist-packages (from requests->transformers[torch]) (3.7)\n",
            "Requirement already satisfied: urllib3<3,>=1.21.1 in /usr/local/lib/python3.10/dist-packages (from requests->transformers[torch]) (2.0.7)\n",
            "Requirement already satisfied: certifi>=2017.4.17 in /usr/local/lib/python3.10/dist-packages (from requests->transformers[torch]) (2024.6.2)\n",
            "Requirement already satisfied: MarkupSafe>=2.0 in /usr/local/lib/python3.10/dist-packages (from jinja2->torch->transformers[torch]) (2.1.5)\n",
            "Requirement already satisfied: mpmath<1.4.0,>=1.1.0 in /usr/local/lib/python3.10/dist-packages (from sympy->torch->transformers[torch]) (1.3.0)\n"
          ]
        }
      ]
    },
    {
      "cell_type": "code",
      "source": [
        "training_args = TrainingArguments(\n",
        "    output_dir = \"/kaggle/working/\",\n",
        "    learning_rate = 1e-5,\n",
        "    per_device_train_batch_size = 4,\n",
        "    per_device_eval_batch_size = 4,\n",
        "    num_train_epochs = 3,\n",
        "    weight_decay = 0.01,\n",
        "    save_steps=1500,  # Save checkpoint every 1500 steps\n",
        "    evaluation_strategy=\"steps\",  # Evaluate every specified number of steps\n",
        "    eval_steps=500,  # Evaluate every 500 steps\n",
        "    logging_strategy=\"steps\",  # Log every specified number of steps\n",
        "    logging_steps=500,\n",
        "    report_to=\"none\"\n",
        ")\n",
        "\n",
        "trainer = Trainer(\n",
        "    model = model ,\n",
        "    args = training_args,\n",
        "    train_dataset = tokenized_train,\n",
        "    eval_dataset = tokenized_test,\n",
        "    tokenizer = tok,\n",
        "    data_collator = data_collator,\n",
        "    compute_metrics = compute_metrics\n",
        ")"
      ],
      "metadata": {
        "execution": {
          "iopub.status.busy": "2024-03-29T05:22:26.402614Z",
          "iopub.execute_input": "2024-03-29T05:22:26.403490Z",
          "iopub.status.idle": "2024-03-29T05:22:26.419301Z",
          "shell.execute_reply.started": "2024-03-29T05:22:26.403456Z",
          "shell.execute_reply": "2024-03-29T05:22:26.418289Z"
        },
        "trusted": true,
        "colab": {
          "base_uri": "https://localhost:8080/"
        },
        "id": "HWkocQP-H7GI",
        "outputId": "4daa3810-9f39-4116-a044-1a6b1055df6a"
      },
      "execution_count": 24,
      "outputs": [
        {
          "output_type": "stream",
          "name": "stderr",
          "text": [
            "/usr/local/lib/python3.10/dist-packages/transformers/training_args.py:1494: FutureWarning: `evaluation_strategy` is deprecated and will be removed in version 4.46 of 🤗 Transformers. Use `eval_strategy` instead\n",
            "  warnings.warn(\n"
          ]
        }
      ]
    },
    {
      "cell_type": "code",
      "source": [
        "trainer.train()"
      ],
      "metadata": {
        "execution": {
          "iopub.status.busy": "2024-03-29T05:22:36.863344Z",
          "iopub.execute_input": "2024-03-29T05:22:36.864057Z",
          "iopub.status.idle": "2024-03-29T07:04:07.535162Z",
          "shell.execute_reply.started": "2024-03-29T05:22:36.864026Z",
          "shell.execute_reply": "2024-03-29T07:04:07.533816Z"
        },
        "trusted": true,
        "colab": {
          "base_uri": "https://localhost:8080/",
          "height": 201
        },
        "id": "bOQSZwvrH7GI",
        "outputId": "0e2dcb25-afa3-4321-f89b-0647a4c3d7f8"
      },
      "execution_count": null,
      "outputs": [
        {
          "output_type": "display_data",
          "data": {
            "text/plain": [
              "<IPython.core.display.HTML object>"
            ],
            "text/html": [
              "\n",
              "    <div>\n",
              "      \n",
              "      <progress value='2246' max='29649' style='width:300px; height:20px; vertical-align: middle;'></progress>\n",
              "      [ 2246/29649 43:30 < 8:51:16, 0.86 it/s, Epoch 0.23/3]\n",
              "    </div>\n",
              "    <table border=\"1\" class=\"dataframe\">\n",
              "  <thead>\n",
              " <tr style=\"text-align: left;\">\n",
              "      <th>Step</th>\n",
              "      <th>Training Loss</th>\n",
              "      <th>Validation Loss</th>\n",
              "      <th>Accuracy</th>\n",
              "    </tr>\n",
              "  </thead>\n",
              "  <tbody>\n",
              "    <tr>\n",
              "      <td>500</td>\n",
              "      <td>1.713700</td>\n",
              "      <td>1.436821</td>\n",
              "      <td>0.513900</td>\n",
              "    </tr>\n",
              "    <tr>\n",
              "      <td>1000</td>\n",
              "      <td>1.385500</td>\n",
              "      <td>1.342583</td>\n",
              "      <td>0.529068</td>\n",
              "    </tr>\n",
              "    <tr>\n",
              "      <td>1500</td>\n",
              "      <td>1.301700</td>\n",
              "      <td>1.226523</td>\n",
              "      <td>0.588208</td>\n",
              "    </tr>\n",
              "    <tr>\n",
              "      <td>2000</td>\n",
              "      <td>1.236400</td>\n",
              "      <td>1.197754</td>\n",
              "      <td>0.600248</td>\n",
              "    </tr>\n",
              "  </tbody>\n",
              "</table><p>"
            ]
          },
          "metadata": {}
        }
      ]
    },
    {
      "cell_type": "markdown",
      "source": [
        "# INFERENCE PART"
      ],
      "metadata": {
        "id": "NdxiLqEsH7GI"
      }
    },
    {
      "cell_type": "code",
      "source": [
        "# Load test data from test.csv\n",
        "test_df = pd.read_csv(\"/kaggle/input/cleaned2/new_cleaned/Test_preprocessed.csv\")"
      ],
      "metadata": {
        "execution": {
          "iopub.status.busy": "2024-03-29T07:17:56.055507Z",
          "iopub.execute_input": "2024-03-29T07:17:56.056445Z",
          "iopub.status.idle": "2024-03-29T07:17:56.301702Z",
          "shell.execute_reply.started": "2024-03-29T07:17:56.056411Z",
          "shell.execute_reply": "2024-03-29T07:17:56.300909Z"
        },
        "trusted": true,
        "id": "WooaWPa_H7GI"
      },
      "execution_count": null,
      "outputs": []
    },
    {
      "cell_type": "code",
      "source": [
        "# Rename columns to match training data\n",
        "test_df.rename(columns={\"Content\": \"text\"}, inplace=True)"
      ],
      "metadata": {
        "execution": {
          "iopub.status.busy": "2024-03-29T07:17:58.102195Z",
          "iopub.execute_input": "2024-03-29T07:17:58.103179Z",
          "iopub.status.idle": "2024-03-29T07:17:58.107892Z",
          "shell.execute_reply.started": "2024-03-29T07:17:58.103144Z",
          "shell.execute_reply": "2024-03-29T07:17:58.106950Z"
        },
        "trusted": true,
        "id": "zzn48ezmH7GI"
      },
      "execution_count": null,
      "outputs": []
    },
    {
      "cell_type": "code",
      "source": [
        "# Load the trained model and tokenizer\n",
        "model_name = \"/kaggle/input/distilll2\"  # Replace with your model name\n",
        "tokenizer = AutoTokenizer.from_pretrained(model_name)\n",
        "model = AutoModelForSequenceClassification.from_pretrained(model_name)"
      ],
      "metadata": {
        "execution": {
          "iopub.status.busy": "2024-03-29T07:18:00.460529Z",
          "iopub.execute_input": "2024-03-29T07:18:00.461277Z",
          "iopub.status.idle": "2024-03-29T07:18:02.661811Z",
          "shell.execute_reply.started": "2024-03-29T07:18:00.461248Z",
          "shell.execute_reply": "2024-03-29T07:18:02.660724Z"
        },
        "trusted": true,
        "id": "0AluQtLwH7GJ"
      },
      "execution_count": null,
      "outputs": []
    },
    {
      "cell_type": "code",
      "source": [
        "def inference(test_df):\n",
        "    test_texts = test_df[\"text\"].tolist()\n",
        "    test_inputs = tok(test_texts, truncation=True, padding=True)\n",
        "    test_dataset = Dataset.from_dict(test_inputs)\n",
        "\n",
        "    trainer = Trainer(model=model)\n",
        "    predictions = trainer.predict(test_dataset)\n",
        "\n",
        "    return predictions"
      ],
      "metadata": {
        "execution": {
          "iopub.status.busy": "2024-03-29T07:18:06.052328Z",
          "iopub.execute_input": "2024-03-29T07:18:06.053185Z",
          "iopub.status.idle": "2024-03-29T07:18:06.058118Z",
          "shell.execute_reply.started": "2024-03-29T07:18:06.053151Z",
          "shell.execute_reply": "2024-03-29T07:18:06.057125Z"
        },
        "trusted": true,
        "id": "duTZdQR6H7GJ"
      },
      "execution_count": null,
      "outputs": []
    },
    {
      "cell_type": "code",
      "source": [
        "test_df"
      ],
      "metadata": {
        "execution": {
          "iopub.status.busy": "2024-03-29T05:18:54.780674Z",
          "iopub.status.idle": "2024-03-29T05:18:54.781023Z",
          "shell.execute_reply.started": "2024-03-29T05:18:54.780862Z",
          "shell.execute_reply": "2024-03-29T05:18:54.780875Z"
        },
        "trusted": true,
        "id": "LF8OHQVCH7GJ"
      },
      "execution_count": null,
      "outputs": []
    },
    {
      "cell_type": "code",
      "source": [
        "# Generate predictions for the preprocessed test data\n",
        "test_predictions = inference(test_df)"
      ],
      "metadata": {
        "execution": {
          "iopub.status.busy": "2024-03-29T07:18:12.809949Z",
          "iopub.execute_input": "2024-03-29T07:18:12.810550Z",
          "iopub.status.idle": "2024-03-29T07:22:26.472977Z",
          "shell.execute_reply.started": "2024-03-29T07:18:12.810521Z",
          "shell.execute_reply": "2024-03-29T07:22:26.472141Z"
        },
        "trusted": true,
        "id": "U9xBkL1KH7GJ",
        "outputId": "2766fbd3-1a81-4527-b86e-66e047cf9b4e"
      },
      "execution_count": null,
      "outputs": [
        {
          "name": "stderr",
          "text": "/opt/conda/lib/python3.10/site-packages/accelerate/accelerator.py:432: FutureWarning: Passing the following arguments to `Accelerator` is deprecated and will be removed in version 1.0 of Accelerate: dict_keys(['dispatch_batches', 'split_batches', 'even_batches', 'use_seedable_sampler']). Please pass an `accelerate.DataLoaderConfiguration` instead: \ndataloader_config = DataLoaderConfiguration(dispatch_batches=None, split_batches=False, even_batches=True, use_seedable_sampler=True)\n  warnings.warn(\n",
          "output_type": "stream"
        },
        {
          "output_type": "display_data",
          "data": {
            "text/plain": "<IPython.core.display.HTML object>",
            "text/html": ""
          },
          "metadata": {}
        }
      ]
    },
    {
      "cell_type": "code",
      "source": [
        "# Extract predicted labels from the output\n",
        "predicted_labels = test_predictions.predictions.argmax(axis=1)"
      ],
      "metadata": {
        "execution": {
          "iopub.status.busy": "2024-03-29T07:22:26.474613Z",
          "iopub.execute_input": "2024-03-29T07:22:26.474921Z",
          "iopub.status.idle": "2024-03-29T07:22:26.479885Z",
          "shell.execute_reply.started": "2024-03-29T07:22:26.474897Z",
          "shell.execute_reply": "2024-03-29T07:22:26.478837Z"
        },
        "trusted": true,
        "id": "aVV7UU3OH7GJ"
      },
      "execution_count": null,
      "outputs": []
    },
    {
      "cell_type": "code",
      "source": [
        "submission_df = pd.DataFrame({\n",
        "    \"text\": test_df[\"text\"],\n",
        "    \"predicted_label\": predicted_labels\n",
        "})\n",
        "# Save the results to a CSV file\n",
        "submission_df.to_csv(\"submissionn.csv\", index=False)"
      ],
      "metadata": {
        "execution": {
          "iopub.status.busy": "2024-03-29T07:22:26.480910Z",
          "iopub.execute_input": "2024-03-29T07:22:26.481234Z",
          "iopub.status.idle": "2024-03-29T07:22:27.448415Z",
          "shell.execute_reply.started": "2024-03-29T07:22:26.481210Z",
          "shell.execute_reply": "2024-03-29T07:22:27.447593Z"
        },
        "trusted": true,
        "id": "y9wscDf0H7GJ"
      },
      "execution_count": null,
      "outputs": []
    },
    {
      "cell_type": "code",
      "source": [
        "# Load the submission file\n",
        "submission_df = pd.read_csv(\"submissionn.csv\")\n",
        "\n",
        "# Invert the labels from 0 to 8 to 1 to 9\n",
        "submission_df[\"predicted_label\"] += 1\n",
        "\n",
        "# Save the modified submission file\n",
        "submission_df.to_csv(\"submission_inverted_Label.csv\", index=False)\n"
      ],
      "metadata": {
        "execution": {
          "iopub.status.busy": "2024-03-29T07:22:27.450148Z",
          "iopub.execute_input": "2024-03-29T07:22:27.450413Z",
          "iopub.status.idle": "2024-03-29T07:22:28.604969Z",
          "shell.execute_reply.started": "2024-03-29T07:22:27.450391Z",
          "shell.execute_reply": "2024-03-29T07:22:28.604142Z"
        },
        "trusted": true,
        "id": "Fw9ysW1zH7GK"
      },
      "execution_count": null,
      "outputs": []
    },
    {
      "cell_type": "code",
      "source": [],
      "metadata": {
        "id": "jMDHUNqFH7GK"
      },
      "execution_count": null,
      "outputs": []
    },
    {
      "cell_type": "code",
      "source": [],
      "metadata": {
        "id": "k6LqnwVlH7GK"
      },
      "execution_count": null,
      "outputs": []
    }
  ]
}